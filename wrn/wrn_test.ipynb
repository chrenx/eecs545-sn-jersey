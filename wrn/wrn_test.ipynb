{
 "cells": [
  {
   "cell_type": "code",
   "execution_count": 1,
   "metadata": {},
   "outputs": [],
   "source": [
    "%load_ext autoreload\n",
    "%autoreload 2"
   ]
  },
  {
   "cell_type": "code",
   "execution_count": 3,
   "metadata": {},
   "outputs": [],
   "source": [
    "import torch, torchvision\n",
    "from torchvision import transforms\n",
    "from torchvision.io import read_image\n",
    "import matplotlib.pyplot as plt\n",
    "from ultralytics import YOLO\n"
   ]
  },
  {
   "cell_type": "code",
   "execution_count": 4,
   "metadata": {},
   "outputs": [],
   "source": [
    "best_path = \"svhn-best.pt\"\n",
    "best_bbox_path = \"svhn-best-e70-bbox.pt\"\n",
    "best_cls_path = \"svhn-best-e90-cls.pt\"\n",
    "\n",
    "best_model = YOLO(best_path)\n",
    "best_bbox_model = YOLO(best_bbox_path)\n",
    "best_cls_model = YOLO(best_cls_path)"
   ]
  },
  {
   "cell_type": "code",
   "execution_count": 13,
   "metadata": {},
   "outputs": [
    {
     "data": {
      "text/plain": [
       "(<matplotlib.image.AxesImage at 0x14db4eaa3250>, torch.Size([3, 26, 29]))"
      ]
     },
     "execution_count": 13,
     "metadata": {},
     "output_type": "execute_result"
    },
    {
     "data": {
      "image/png": "[encoded data removed]",
      "text/plain": [
       "<Figure size 640x480 with 1 Axes>"
      ]
     },
     "metadata": {},
     "output_type": "display_data"
    }
   ],
   "source": [
    "# img_dir = \"../data/jersey-2023/train/images/20/20_201.jpg\"\n",
    "# img_dir = \"../data/jersey-2023-cleaned/train/images/20/20_215.jpg\"\n",
    "img_dir = \"../data/jersey-2023-cleaned-crop/challenge/images/3/3_103.jpg\"\n",
    "ori_img = read_image(img_dir)\n",
    "plt.imshow(ori_img.permute(1,2,0)), ori_img.shape"
   ]
  },
  {
   "cell_type": "code",
   "execution_count": 14,
   "metadata": {},
   "outputs": [
    {
     "name": "stdout",
     "output_type": "stream",
     "text": [
      "\n"
     ]
    },
    {
     "name": "stdout",
     "output_type": "stream",
     "text": [
      "0: 576x640 (no detections), 235.4ms\n",
      "Speed: 44.6ms preprocess, 235.4ms inference, 0.7ms postprocess per image at shape (1, 3, 576, 640)\n",
      "Results saved to \u001b[1mruns/obb/predict\u001b[0m\n"
     ]
    }
   ],
   "source": [
    "res_best = best_model.predict([img_dir], save=True, conf=0.4)"
   ]
  },
  {
   "cell_type": "code",
   "execution_count": 15,
   "metadata": {},
   "outputs": [
    {
     "name": "stdout",
     "output_type": "stream",
     "text": [
      "\n",
      "0: 576x640 (no detections), 133.0ms\n",
      "Speed: 29.8ms preprocess, 133.0ms inference, 0.5ms postprocess per image at shape (1, 3, 576, 640)\n",
      "Results saved to \u001b[1mruns/obb/predict2\u001b[0m\n"
     ]
    }
   ],
   "source": [
    "res_bbox = best_bbox_model.predict([img_dir], save=True, conf=0.4)"
   ]
  },
  {
   "cell_type": "code",
   "execution_count": 16,
   "metadata": {},
   "outputs": [
    {
     "name": "stdout",
     "output_type": "stream",
     "text": [
      "\n",
      "0: 576x640 (no detections), 168.5ms\n",
      "Speed: 25.7ms preprocess, 168.5ms inference, 0.6ms postprocess per image at shape (1, 3, 576, 640)\n",
      "Results saved to \u001b[1mruns/obb/predict3\u001b[0m\n"
     ]
    }
   ],
   "source": [
    "res_cls = best_cls_model.predict([img_dir], save=True, conf=0.4)"
   ]
  }
 ],
 "metadata": {
  "kernelspec": {
   "display_name": "soccernet",
   "language": "python",
   "name": "python3"
  },
  "language_info": {
   "codemirror_mode": {
    "name": "ipython",
    "version": 3
   },
   "file_extension": ".py",
   "mimetype": "text/x-python",
   "name": "python",
   "nbconvert_exporter": "python",
   "pygments_lexer": "ipython3",
   "version": "3.10.0"
  }
 },
 "nbformat": 4,
 "nbformat_minor": 2
}
