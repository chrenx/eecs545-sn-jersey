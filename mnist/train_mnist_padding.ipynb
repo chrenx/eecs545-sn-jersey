{
 "cells": [
  {
   "cell_type": "code",
   "execution_count": 1,
   "metadata": {},
   "outputs": [],
   "source": [
    "%load_ext autoreload\n",
    "%autoreload 2"
   ]
  },
  {
   "cell_type": "code",
   "execution_count": 2,
   "metadata": {},
   "outputs": [],
   "source": [
    "import numpy as np\n",
    "import torch\n",
    "import torch.nn as nn\n",
    "import torch.optim as optim\n",
    "import torch.utils.data as Data\n",
    "from torchvision import datasets, transforms\n",
    "import torch.nn.functional as F\n",
    "import timeit\n",
    "import unittest\n",
    "import matplotlib.pyplot as plt"
   ]
  },
  {
   "cell_type": "code",
   "execution_count": 3,
   "metadata": {},
   "outputs": [],
   "source": [
    "torch.manual_seed(42)\n",
    "torch.backends.cudnn.deterministic = True\n",
    "torch.backends.cudnn.benchmark = False\n",
    "np.random.seed(42)"
   ]
  },
  {
   "cell_type": "code",
   "execution_count": 4,
   "metadata": {},
   "outputs": [
    {
     "data": {
      "text/plain": [
       "device(type='cpu')"
      ]
     },
     "execution_count": 4,
     "metadata": {},
     "output_type": "execute_result"
    }
   ],
   "source": [
    "device = torch.device('cuda' if torch.cuda.is_available() else 'cpu')\n",
    "device"
   ]
  },
  {
   "cell_type": "code",
   "execution_count": 30,
   "metadata": {},
   "outputs": [],
   "source": [
    "from MnistDataset import MnistDataset\n",
    "\n",
    "double_mnist_data = MnistDataset('../data/double_mnist_64/test')"
   ]
  },
  {
   "cell_type": "code",
   "execution_count": 51,
   "metadata": {},
   "outputs": [],
   "source": [
    "img, label = double_mnist_data[9000] # next(iter(double_mnist_data))"
   ]
  },
  {
   "cell_type": "code",
   "execution_count": 54,
   "metadata": {},
   "outputs": [
    {
     "data": {
      "text/plain": [
       "(57, <matplotlib.image.AxesImage at 0x1463c57e7fd0>, 20000)"
      ]
     },
     "execution_count": 54,
     "metadata": {},
     "output_type": "execute_result"
    },
    {
     "data": {
      "image/png": "[encoded data removed]",
      "text/plain": [
       "<Figure size 640x480 with 1 Axes>"
      ]
     },
     "metadata": {},
     "output_type": "display_data"
    }
   ],
   "source": [
    "label, plt.imshow(img[0], cmap='gray'), len(double_mnist_data)"
   ]
  },
  {
   "cell_type": "code",
   "execution_count": 41,
   "metadata": {},
   "outputs": [
    {
     "name": "stderr",
     "output_type": "stream",
     "text": [
      "100%|██████████| 99/99 [01:14<00:00,  1.34it/s]\n",
      "100%|██████████| 16/16 [00:02<00:00,  5.76it/s]\n"
     ]
    }
   ],
   "source": [
    "from MnistDataset import MnistDataset\n",
    "data_transforms = transforms.Compose([\n",
    "    transforms.ToPILImage(),\n",
    "    transforms.Grayscale(1),\n",
    "    transforms.ToTensor(),\n",
    "\n",
    "    transforms.Normalize((0.3150,), (0.2218,)) \n",
    "    # mean: 0.3150\n",
    "    # std: 0.2218\n",
    "])\n",
    "double_mnist_train_data = MnistDataset('custom_datasets/train', data_transforms)\n",
    "double_mnist_val_data = MnistDataset('custom_datasets/val', data_transforms)"
   ]
  },
  {
   "cell_type": "code",
   "execution_count": 42,
   "metadata": {},
   "outputs": [
    {
     "data": {
      "text/plain": [
       "(1,\n",
       " <matplotlib.image.AxesImage at 0x148e447a41c0>,\n",
       " torch.Size([1, 64, 64]),\n",
       " tensor([[-1.4202, -1.4202, -1.4202],\n",
       "         [-1.4202, -1.4202, -1.4202],\n",
       "         [-1.4202, -1.4202, -1.4202]]))"
      ]
     },
     "execution_count": 42,
     "metadata": {},
     "output_type": "execute_result"
    },
    {
     "data": {
      "image/png": "[encoded data removed]",
      "text/plain": [
       "<Figure size 640x480 with 1 Axes>"
      ]
     },
     "metadata": {},
     "output_type": "display_data"
    }
   ],
   "source": [
    "img, label = double_mnist_train_data[500]\n",
    "label, plt.imshow(img[0], cmap='gray'), img.shape, img[0,:3,:3]"
   ]
  },
  {
   "cell_type": "code",
   "execution_count": 64,
   "metadata": {},
   "outputs": [],
   "source": [
    "# import os\n",
    "# import random, shutil\n",
    "# train_path = \"custom_datasets/train\"\n",
    "# val_path = \"custom_datasets/val\"\n",
    "# test_path = \"custom_datasets/test\"\n",
    "\n",
    "# train_cls = sorted(os.listdir(train_path))\n",
    "# val_cls = sorted(os.listdir(val_path))\n",
    "# test_cls = sorted(os.listdir(test_path))\n",
    "\n",
    "# anomaly = []\n",
    "# for cls in range(10):\n",
    "#     query_cls = str(cls)\n",
    "#     if cls < 10:\n",
    "#         query_cls = '0' + query_cls\n",
    "#     if query_cls in train_cls:\n",
    "#         continue\n",
    "#     dest = os.path.join(train_path, query_cls)\n",
    "#     os.makedirs(dest, exist_ok=True)\n",
    "#     if query_cls in val_cls:\n",
    "#         tar_cls_imgs = os.listdir(os.path.join(val_path, query_cls))\n",
    "#         tar_cls_imgs = random.sample(tar_cls_imgs, int(len(tar_cls_imgs)*0.8))\n",
    "#         for img_name in tar_cls_imgs:\n",
    "#             source_path = os.path.join(val_path, query_cls, img_name)\n",
    "#             if os.path.isfile(os.path.join(dest, img_name)):  \n",
    "#                 os.remove(os.path.join(dest, img_name))\n",
    "#             shutil.move(source_path, os.path.join(dest, img_name))\n",
    "#     elif query_cls in test_cls:\n",
    "#         tar_cls_imgs = os.listdir(os.path.join(test_path, query_cls))\n",
    "#         tar_cls_imgs = random.sample(tar_cls_imgs, int(len(tar_cls_imgs)*0.8))\n",
    "#         for img_name in tar_cls_imgs:\n",
    "#             source_path = os.path.join(test_path, query_cls, img_name)\n",
    "#             if os.path.isfile(os.path.join(dest, img_name)):  \n",
    "#                 os.remove(os.path.join(dest, img_name))\n",
    "#             shutil.move(source_path, os.path.join(dest, img_name))\n",
    "#     else:\n",
    "#         anomaly.append(query_cls)\n"
   ]
  },
  {
   "cell_type": "code",
   "execution_count": 80,
   "metadata": {},
   "outputs": [
    {
     "name": "stderr",
     "output_type": "stream",
     "text": [
      "100%|██████████| 99/99 [00:00<00:00, 125146.50it/s]\n"
     ]
    }
   ],
   "source": [
    "# import os\n",
    "# import random, shutil, cv2\n",
    "# from tqdm import tqdm\n",
    "# train_path = \"custom_datasets/train\"\n",
    "# val_path = \"custom_datasets/val\"\n",
    "# test_path = \"custom_datasets/test\"\n",
    "\n",
    "# train_cls = sorted(os.listdir(train_path))\n",
    "# val_cls = sorted(os.listdir(val_path))\n",
    "# test_cls = sorted(os.listdir(test_path))\n",
    "\n",
    "# for cls in tqdm(range(1,100)):\n",
    "#     query_cls = str(cls)\n",
    "#     folder_name = test_cls\n",
    "#     if cls < 10:\n",
    "#         folder_name = '0' + str(cls)\n",
    "#     if folder_name not in val_cls:\n",
    "#         continue\n",
    "#     all_imgs = os.listdir(os.path.join(test_path, folder_name))\n",
    "#     tar_imgs = random.sample(all_imgs, int(len(all_imgs)*0.5))\n",
    "#     for img_name in tar_imgs:\n",
    "#         img = cv2.imread(os.path.join(test_path, folder_name, img_name))\n",
    "#         random_number = random.randint(0, 255)\n",
    "#         new_img = np.abs(random_number - img)\n",
    "#         os.remove(os.path.join(test_path, folder_name, img_name))\n",
    "#         cv2.imwrite(os.path.join(test_path, folder_name, img_name), new_img)\n",
    "\n",
    "    \n"
   ]
  },
  {
   "cell_type": "code",
   "execution_count": 26,
   "metadata": {},
   "outputs": [],
   "source": [
    "\n",
    "batch_size = 128\n",
    "train_loader = torch.utils.data.DataLoader(double_mnist_train_data, batch_size=batch_size, shuffle=False)\n"
   ]
  },
  {
   "cell_type": "code",
   "execution_count": 39,
   "metadata": {},
   "outputs": [],
   "source": [
    "mean = 0.\n",
    "std = 0.\n",
    "num_samples = 0\n",
    "\n",
    "for images, _ in iter(double_mnist_train_data):\n",
    "    batch_samples = images.size(0)\n",
    "    images = images.view(1, -1)\n",
    "    # print(images.shape)\n",
    "    mean += images.mean(1).sum(0)\n",
    "    # print(images.mean(1).shape)\n",
    "    std += images.std(1).sum(0)\n",
    "    num_samples += 1\n",
    "    # break\n",
    "\n",
    "mean /= num_samples\n",
    "std /= num_samples"
   ]
  },
  {
   "cell_type": "code",
   "execution_count": 40,
   "metadata": {},
   "outputs": [
    {
     "data": {
      "text/plain": [
       "(tensor(0.3150), tensor(0.2218))"
      ]
     },
     "execution_count": 40,
     "metadata": {},
     "output_type": "execute_result"
    }
   ],
   "source": [
    "mean, std"
   ]
  },
  {
   "cell_type": "code",
   "execution_count": 4,
   "metadata": {},
   "outputs": [],
   "source": [
    "\n",
    "# define a transforms for preparing the dataset\n",
    "transform = transforms.Compose([\n",
    "\n",
    "transforms.CenterCrop(26),\n",
    "# transforms.Resize((150,150)),\n",
    "# transforms.Resize((250, 250)),\n",
    "transforms.Pad(80),\n",
    "transforms.ColorJitter(brightness=0.05, contrast=0.05, saturation=0.05, hue=0.05),\n",
    "transforms.Grayscale(1),\n",
    "transforms.RandomRotation(10),      \n",
    "transforms.RandomAffine(5),\n",
    "transforms.RandomPerspective(distortion_scale=0.65, p=0.8),\n",
    "transforms.ElasticTransform(),\n",
    "transforms.GaussianBlur(kernel_size=(3,3)),\n",
    "transforms.Resize((200,200)),\n",
    "\n",
    "# convert the image to a pytorch tensor\n",
    "transforms.ToTensor(), \n",
    "\n",
    "# normalise the images with mean and std of the dataset\n",
    "# transforms.Normalize((0.1307,), (0.3081,)) \n",
    "])\n",
    "\n",
    "# Load the MNIST training, test datasets using `torchvision.datasets.MNIST` \n",
    "# using the transform defined above\n",
    "\n",
    "train_dataset = datasets.MNIST('./data_padding',train=True,transform=transform,download=True)\n",
    "test_dataset =  datasets.MNIST('./data_padding',train=False,transform=transform,download=True)\n",
    "\n",
    "# create dataloaders for training and test datasets\n",
    "# use a batch size of 32 and set shuffle=True for the training set\n",
    "\n",
    "train_dataloader = Data.DataLoader(dataset=train_dataset, batch_size=128, shuffle=True)\n",
    "test_dataloader = Data.DataLoader(dataset=test_dataset, batch_size=128, shuffle=True) \n",
    "                "
   ]
  },
  {
   "cell_type": "code",
   "execution_count": 42,
   "metadata": {},
   "outputs": [
    {
     "data": {
      "text/plain": [
       "(torch.Size([128, 1, 200, 200]),\n",
       " torch.float32,\n",
       " tensor(5),\n",
       " torch.Size([1, 200, 200]),\n",
       " <matplotlib.image.AxesImage at 0x7c21b025c670>)"
      ]
     },
     "execution_count": 42,
     "metadata": {},
     "output_type": "execute_result"
    },
    {
     "data": {
      "image/png": "[encoded data removed]",
      "text/plain": [
       "<Figure size 640x480 with 1 Axes>"
      ]
     },
     "metadata": {},
     "output_type": "display_data"
    }
   ],
   "source": [
    "a= next(iter(train_dataloader))\n",
    "b = a[0][0].detach().clone()\n",
    "a[0].shape, a[0].dtype, a[1][0], b.shape, plt.imshow(b.permute(1,2,0), cmap='gray')"
   ]
  },
  {
   "cell_type": "code",
   "execution_count": 14,
   "metadata": {},
   "outputs": [],
   "source": [
    "class Net(nn.Module):\n",
    "    def __init__(self):\n",
    "        super(Net, self).__init__()\n",
    "        #! 210 input\n",
    "        # define a conv layer with output channels as 16\n",
    "        self.conv11 = nn.Conv2d(1, 16, 6, 2) \n",
    "        self.conv12 = nn.Conv2d(1, 16, 10, 2)\n",
    "        self.conv13 = nn.Conv2d(1, 16, 14, 2) \n",
    "        self.conv14 = nn.Conv2d(1, 16, 18, 2) \n",
    "\n",
    "        # define a conv layer with output channels as 32\n",
    "        self.conv21 = nn.Conv2d(16, 32, 3, 2)\n",
    "        self.conv22 = nn.Conv2d(16, 32, 5, 2)\n",
    "        self.conv23 = nn.Conv2d(16, 32, 7, 2) \n",
    "        self.conv24 = nn.Conv2d(16, 32, 9, 2) \n",
    "\n",
    "        # define a conv layer with output channels as 64\n",
    "        self.conv31 = nn.Conv2d(32, 64, 3, 2) \n",
    "        self.conv32 = nn.Conv2d(32, 64, 5, 2) \n",
    "        self.conv33 = nn.Conv2d(32, 64, 7, 2)\n",
    "        self.conv34 = nn.Conv2d(32, 64, 9, 2)\n",
    "\n",
    "        self.conv41 = nn.Conv2d(64, 128, 3, 1)\n",
    "        self.conv42 = nn.Conv2d(64, 128, 5, 1)\n",
    "        self.conv43 = nn.Conv2d(64, 128, 7, 1) \n",
    "        self.conv44 = nn.Conv2d(64, 128, 9, 1) \n",
    "\n",
    "\n",
    "\n",
    "\n",
    "        # define a max pooling layer with kernel size 2\n",
    "        self.maxpool = nn.MaxPool2d(2) \n",
    "        # define dropout layer with a probability of 0.25\n",
    "        self.dropout1 = nn.Dropout(0.25)\n",
    "        # define dropout layer with a probability of 0.5\n",
    "        self.dropout2 = nn.Dropout(0.5)\n",
    "\n",
    "        # define a linear(dense) layer with 128 output features\n",
    "        self.fc11 = nn.Linear(128*10*10, 256)\n",
    "        self.fc12 = nn.Linear(128*8*8, 256)\n",
    "        self.fc13 = nn.Linear(128*6*6, 256)\n",
    "        self.fc14 = nn.Linear(128*4*4, 256)\n",
    "\n",
    "        # define a linear(dense) layer with output features corresponding to the number of classes in the dataset\n",
    "        self.fc21 = nn.Linear(256, 128)\n",
    "        self.fc22 = nn.Linear(256, 128)\n",
    "        self.fc23 = nn.Linear(256, 128)\n",
    "        self.fc24 = nn.Linear(256, 128)\n",
    "\n",
    "        self.fc33 = nn.Linear(128*4,10)\n",
    "\n",
    "\n",
    "    def forward(self, inp):\n",
    "        # Use the layers defined above in a sequential way (folow the same as the layer definitions above) and \n",
    "        # write the forward pass, after each of conv1, conv2, conv3 conv4 and fc1 use a relu activation. \n",
    "\n",
    "        x = F.relu(self.conv11(inp))\n",
    "        x = F.relu(self.conv21(x))\n",
    "        x = F.relu(self.conv31(x))\n",
    "        x = F.relu(self.maxpool(self.conv41(x)))\n",
    "\n",
    "        x = x.view(-1,128*10*10)\n",
    "        x = self.dropout1(x)\n",
    "        x = F.relu(self.fc11(x))\n",
    "        x = self.dropout2(x)\n",
    "        x = self.fc21(x)\n",
    "\n",
    "        y = F.relu(self.conv12(inp))\n",
    "        y = F.relu(self.conv22(y))\n",
    "        y = F.relu(self.conv32(y))\n",
    "        y = F.relu(self.maxpool(self.conv42(y)))\n",
    "\n",
    "        \n",
    "        y = y.view(-1,128*8*8)\n",
    "        y = self.dropout1(y)\n",
    "        y = F.relu(self.fc12(y))\n",
    "        y = self.dropout2(y)\n",
    "        y = self.fc22(y)\n",
    "\n",
    "        z = F.relu(self.conv13(inp))\n",
    "        z = F.relu(self.conv23(z))\n",
    "        z = F.relu(self.conv33(z))\n",
    "        z = F.relu(self.maxpool(self.conv43(z)))\n",
    "\n",
    "        z = z.view(-1,128*6*6)\n",
    "        z = self.dropout1(z)\n",
    "        z = F.relu(self.fc13(z))\n",
    "        z = self.dropout2(z)\n",
    "        z = self.fc23(z)\n",
    "\n",
    "        ze = F.relu(self.conv14(inp))\n",
    "        ze = F.relu(self.conv24(ze))\n",
    "        ze = F.relu(self.conv34(ze))\n",
    "        ze = F.relu(self.maxpool(self.conv44(ze)))\n",
    "\n",
    "        ze = ze.view(-1,128*4*4)\n",
    "        ze = self.dropout1(ze)\n",
    "        ze = F.relu(self.fc14(ze))\n",
    "        ze = self.dropout2(ze)\n",
    "        ze = self.fc24(ze)\n",
    "  \n",
    "        out_f = torch.cat((x, y, z, ze), dim=1)\n",
    "\n",
    "        out = self.fc33(out_f)\n",
    "\n",
    "        output = F.log_softmax(out, dim=1)\n",
    "        return output"
   ]
  },
  {
   "cell_type": "code",
   "execution_count": 15,
   "metadata": {},
   "outputs": [
    {
     "data": {
      "text/plain": [
       "Net(\n",
       "  (conv11): Conv2d(1, 16, kernel_size=(6, 6), stride=(2, 2))\n",
       "  (conv12): Conv2d(1, 16, kernel_size=(10, 10), stride=(2, 2))\n",
       "  (conv13): Conv2d(1, 16, kernel_size=(14, 14), stride=(2, 2))\n",
       "  (conv14): Conv2d(1, 16, kernel_size=(18, 18), stride=(2, 2))\n",
       "  (conv21): Conv2d(16, 32, kernel_size=(3, 3), stride=(2, 2))\n",
       "  (conv22): Conv2d(16, 32, kernel_size=(5, 5), stride=(2, 2))\n",
       "  (conv23): Conv2d(16, 32, kernel_size=(7, 7), stride=(2, 2))\n",
       "  (conv24): Conv2d(16, 32, kernel_size=(9, 9), stride=(2, 2))\n",
       "  (conv31): Conv2d(32, 64, kernel_size=(3, 3), stride=(2, 2))\n",
       "  (conv32): Conv2d(32, 64, kernel_size=(5, 5), stride=(2, 2))\n",
       "  (conv33): Conv2d(32, 64, kernel_size=(7, 7), stride=(2, 2))\n",
       "  (conv34): Conv2d(32, 64, kernel_size=(9, 9), stride=(2, 2))\n",
       "  (conv41): Conv2d(64, 128, kernel_size=(3, 3), stride=(1, 1))\n",
       "  (conv42): Conv2d(64, 128, kernel_size=(5, 5), stride=(1, 1))\n",
       "  (conv43): Conv2d(64, 128, kernel_size=(7, 7), stride=(1, 1))\n",
       "  (conv44): Conv2d(64, 128, kernel_size=(9, 9), stride=(1, 1))\n",
       "  (maxpool): MaxPool2d(kernel_size=2, stride=2, padding=0, dilation=1, ceil_mode=False)\n",
       "  (dropout1): Dropout(p=0.25, inplace=False)\n",
       "  (dropout2): Dropout(p=0.5, inplace=False)\n",
       "  (fc11): Linear(in_features=12800, out_features=256, bias=True)\n",
       "  (fc12): Linear(in_features=8192, out_features=256, bias=True)\n",
       "  (fc13): Linear(in_features=4608, out_features=256, bias=True)\n",
       "  (fc14): Linear(in_features=2048, out_features=256, bias=True)\n",
       "  (fc21): Linear(in_features=256, out_features=128, bias=True)\n",
       "  (fc22): Linear(in_features=256, out_features=128, bias=True)\n",
       "  (fc23): Linear(in_features=256, out_features=128, bias=True)\n",
       "  (fc24): Linear(in_features=256, out_features=128, bias=True)\n",
       "  (fc33): Linear(in_features=512, out_features=10, bias=True)\n",
       ")"
      ]
     },
     "execution_count": 15,
     "metadata": {},
     "output_type": "execute_result"
    }
   ],
   "source": [
    "model = Net().to(device)\n",
    "model"
   ]
  },
  {
   "cell_type": "code",
   "execution_count": 16,
   "metadata": {},
   "outputs": [],
   "source": [
    "losses_1 = []\n",
    "losses_2 = []\n",
    "\n",
    "def train(model, device, train_loader, optimizer, epoch):\n",
    "    model.train()\n",
    "    \n",
    "    for batch_idx, (data, target) in enumerate(train_loader):\n",
    "        # send the image, target to the device\n",
    "        data, target = data.to(device), target.to(device)\n",
    "        # flush out the gradients stored in optimizer\n",
    "        optimizer.zero_grad()\n",
    "        # pass the image to the model and assign the output to variable named output\n",
    "        output = model(data)\n",
    "        # calculate the loss (use nll_loss in pytorch)\n",
    "        loss = F.nll_loss(output, target)\n",
    "        # do a backward pass\n",
    "        loss.backward()\n",
    "        # update the weights\n",
    "        optimizer.step()\n",
    "        \n",
    "        if batch_idx % 100 == 0:\n",
    "            print('Train Epoch: {} [{}/{} ({:.0f}%)]\\tLoss: {:.6f}'.format(\n",
    "                epoch, batch_idx * len(data), len(train_loader.dataset),\n",
    "                100. * batch_idx / len(train_loader), loss.item()))\n",
    "            losses_1.append(loss.item())\n",
    "            losses_2.append(100. * batch_idx / len(train_loader))\n",
    "\n",
    "accuracy = []\n",
    "avg_loss = []\n",
    "def test(model, device, test_loader):\n",
    "    model.eval()\n",
    "    test_loss = 0\n",
    "    correct = 0\n",
    "    with torch.no_grad():\n",
    "        for data, target in test_loader:\n",
    "          \n",
    "            # send the image, target to the device\n",
    "            data, target = data.to(device), target.to(device)\n",
    "            # pass the image to the model and assign the output to variable named output\n",
    "            output = model(data)\n",
    "            test_loss += F.nll_loss(output, target, reduction='sum').item() # sum up batch loss\n",
    "          \n",
    "            pred = output.argmax(dim=1, keepdim=True)  # get the index of the max log-probability\n",
    "            correct += pred.eq(target.view_as(pred)).sum().item()\n",
    "\n",
    "    test_loss /= len(test_loader.dataset)\n",
    "\n",
    "    print('\\nTest set: Average loss: {:.4f}, Accuracy: {}/{} ({:.0f}%)\\n'.format(\n",
    "        test_loss, correct, len(test_loader.dataset),\n",
    "        100. * correct / len(test_loader.dataset)))\n",
    "    avg_loss.append(test_loss)\n",
    "    accuracy.append(100. * correct / len(test_loader.dataset))"
   ]
  },
  {
   "cell_type": "code",
   "execution_count": null,
   "metadata": {},
   "outputs": [],
   "source": [
    "\n",
    "model = Net().to(device)\n",
    "learning_rate = []\n",
    "def adjust_learning_rate(optimizer, iter, each):\n",
    "    # sets the learning rate to the initial LR decayed by 0.1 every 'each' iterations\n",
    "    lr = 0.001 * (0.95 ** (iter // each))\n",
    "    state_dict = optimizer.state_dict()\n",
    "    for param_group in state_dict['param_groups']:\n",
    "        param_group['lr'] = lr\n",
    "    optimizer.load_state_dict(state_dict)\n",
    "    print(\"Learning rate = \",lr)\n",
    "    return lr\n",
    "\n",
    "\n",
    "## Define Adam Optimiser with a learning rate of 0.01\n",
    "optimizer = torch.optim.Adam(model.parameters(),lr=0.001)\n",
    "\n",
    "start = timeit.default_timer()\n",
    "for epoch in range(0,120):\n",
    "  lr = adjust_learning_rate(optimizer, epoch, 1.616)\n",
    "  learning_rate.append(lr)\n",
    "  train(model, device, train_dataloader, optimizer, epoch)\n",
    "  test(model, device, test_dataloader)\n",
    "  if (epoch + 1) % 10 == 0:\n",
    "    torch.save(\n",
    "        {\n",
    "        'model_state_dict': model.state_dict(),\n",
    "        'optimizer_state_dict': optimizer.state_dict(),\n",
    "        }, \n",
    "        f\"mnist_model_padding_ckpt_E{epoch}.pth\"\n",
    "    )\n",
    "stop = timeit.default_timer()\n",
    "print('Total time taken: {} seconds'.format(int(stop - start)))\n"
   ]
  },
  {
   "cell_type": "code",
   "execution_count": null,
   "metadata": {},
   "outputs": [],
   "source": [
    "torch.save(\n",
    "    {\n",
    "        'model_state_dict': model.state_dict(),\n",
    "        'optimizer_state_dict': optimizer.state_dict(),\n",
    "    }, \n",
    "    \"mnist_model_ckpt.pth\"\n",
    ")"
   ]
  }
 ],
 "metadata": {
  "kernelspec": {
   "display_name": "soccernet",
   "language": "python",
   "name": "python3"
  },
  "language_info": {
   "codemirror_mode": {
    "name": "ipython",
    "version": 3
   },
   "file_extension": ".py",
   "mimetype": "text/x-python",
   "name": "python",
   "nbconvert_exporter": "python",
   "pygments_lexer": "ipython3",
   "version": "3.10.0"
  }
 },
 "nbformat": 4,
 "nbformat_minor": 2
}
