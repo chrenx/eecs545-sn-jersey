{
 "cells": [
  {
   "cell_type": "markdown",
   "metadata": {},
   "source": [
    "### Download data"
   ]
  },
  {
   "cell_type": "code",
   "execution_count": null,
   "metadata": {},
   "outputs": [],
   "source": [
    "%pip install soccernet"
   ]
  },
  {
   "cell_type": "code",
   "execution_count": 2,
   "metadata": {},
   "outputs": [
    {
     "name": "stderr",
     "output_type": "stream",
     "text": []
    }
   ],
   "source": [
    "from SoccerNet.Downloader import SoccerNetDownloader as SNdl\n",
    "mySNdl = SNdl(LocalDirectory=\"./data\")\n",
    "mySNdl.downloadDataTask(task=\"jersey-2023\", split=[\"train\",\"test\",\"challenge\"])"
   ]
  }
 ],
 "metadata": {
  "kernelspec": {
   "display_name": "sn-jersey",
   "language": "python",
   "name": "python3"
  },
  "language_info": {
   "codemirror_mode": {
    "name": "ipython",
    "version": 3
   },
   "file_extension": ".py",
   "mimetype": "text/x-python",
   "name": "python",
   "nbconvert_exporter": "python",
   "pygments_lexer": "ipython3",
   "version": "3.10.13"
  }
 },
 "nbformat": 4,
 "nbformat_minor": 2
}
