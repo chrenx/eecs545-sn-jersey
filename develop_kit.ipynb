{
 "cells": [
  {
   "cell_type": "markdown",
   "metadata": {},
   "source": [
    "# Download dataset"
   ]
  },
  {
   "cell_type": "code",
   "execution_count": 2,
   "metadata": {},
   "outputs": [
    {
     "name": "stdout",
     "output_type": "stream",
     "text": [
      "Collecting SoccerNet\n",
      "  Downloading SoccerNet-0.1.56-py3-none-any.whl.metadata (12 kB)\n",
      "Requirement already satisfied: tqdm in /nfs/turbo/justincj-turbo/chrenx/anaconda/envs/soccernet/lib/python3.10/site-packages (from SoccerNet) (4.66.2)\n",
      "Collecting scikit-video (from SoccerNet)\n",
      "  Downloading scikit_video-1.1.11-py2.py3-none-any.whl.metadata (1.1 kB)\n",
      "Requirement already satisfied: matplotlib in /nfs/turbo/justincj-turbo/chrenx/anaconda/envs/soccernet/lib/python3.10/site-packages (from SoccerNet) (3.8.3)\n",
      "Collecting google-measurement-protocol (from SoccerNet)\n",
      "  Downloading google_measurement_protocol-1.1.0-py2.py3-none-any.whl.metadata (845 bytes)\n",
      "Collecting pycocoevalcap (from SoccerNet)\n",
      "  Downloading pycocoevalcap-1.2-py3-none-any.whl.metadata (3.2 kB)\n",
      "Requirement already satisfied: requests<3.0a0,>=2.0 in /nfs/turbo/justincj-turbo/chrenx/anaconda/envs/soccernet/lib/python3.10/site-packages (from google-measurement-protocol->SoccerNet) (2.31.0)\n",
      "Collecting prices>=1.0.0 (from google-measurement-protocol->SoccerNet)\n",
      "  Downloading prices-1.1.1-py3-none-any.whl.metadata (2.8 kB)\n",
      "Requirement already satisfied: contourpy>=1.0.1 in /nfs/turbo/justincj-turbo/chrenx/anaconda/envs/soccernet/lib/python3.10/site-packages (from matplotlib->SoccerNet) (1.2.0)\n",
      "Requirement already satisfied: cycler>=0.10 in /nfs/turbo/justincj-turbo/chrenx/anaconda/envs/soccernet/lib/python3.10/site-packages (from matplotlib->SoccerNet) (0.12.1)\n",
      "Requirement already satisfied: fonttools>=4.22.0 in /nfs/turbo/justincj-turbo/chrenx/anaconda/envs/soccernet/lib/python3.10/site-packages (from matplotlib->SoccerNet) (4.49.0)\n",
      "Requirement already satisfied: kiwisolver>=1.3.1 in /nfs/turbo/justincj-turbo/chrenx/anaconda/envs/soccernet/lib/python3.10/site-packages (from matplotlib->SoccerNet) (1.4.5)\n",
      "Requirement already satisfied: numpy<2,>=1.21 in /nfs/turbo/justincj-turbo/chrenx/anaconda/envs/soccernet/lib/python3.10/site-packages (from matplotlib->SoccerNet) (1.24.3)\n",
      "Requirement already satisfied: packaging>=20.0 in /nfs/turbo/justincj-turbo/chrenx/anaconda/envs/soccernet/lib/python3.10/site-packages (from matplotlib->SoccerNet) (24.0)\n",
      "Requirement already satisfied: pillow>=8 in /nfs/turbo/justincj-turbo/chrenx/anaconda/envs/soccernet/lib/python3.10/site-packages (from matplotlib->SoccerNet) (10.2.0)\n",
      "Requirement already satisfied: pyparsing>=2.3.1 in /nfs/turbo/justincj-turbo/chrenx/anaconda/envs/soccernet/lib/python3.10/site-packages (from matplotlib->SoccerNet) (3.1.2)\n",
      "Requirement already satisfied: python-dateutil>=2.7 in /nfs/turbo/justincj-turbo/chrenx/anaconda/envs/soccernet/lib/python3.10/site-packages (from matplotlib->SoccerNet) (2.9.0)\n",
      "Collecting pycocotools>=2.0.2 (from pycocoevalcap->SoccerNet)\n",
      "  Using cached pycocotools-2.0.7-cp310-cp310-manylinux_2_17_x86_64.manylinux2014_x86_64.whl.metadata (1.1 kB)\n",
      "Requirement already satisfied: scipy in /nfs/turbo/justincj-turbo/chrenx/anaconda/envs/soccernet/lib/python3.10/site-packages (from scikit-video->SoccerNet) (1.12.0)\n",
      "Collecting babel>=2.5.0 (from prices>=1.0.0->google-measurement-protocol->SoccerNet)\n",
      "  Using cached Babel-2.14.0-py3-none-any.whl.metadata (1.6 kB)\n",
      "Requirement already satisfied: six>=1.5 in /nfs/turbo/justincj-turbo/chrenx/anaconda/envs/soccernet/lib/python3.10/site-packages (from python-dateutil>=2.7->matplotlib->SoccerNet) (1.16.0)\n",
      "Requirement already satisfied: charset-normalizer<4,>=2 in /nfs/turbo/justincj-turbo/chrenx/anaconda/envs/soccernet/lib/python3.10/site-packages (from requests<3.0a0,>=2.0->google-measurement-protocol->SoccerNet) (2.0.4)\n",
      "Requirement already satisfied: idna<4,>=2.5 in /nfs/turbo/justincj-turbo/chrenx/anaconda/envs/soccernet/lib/python3.10/site-packages (from requests<3.0a0,>=2.0->google-measurement-protocol->SoccerNet) (3.4)\n",
      "Requirement already satisfied: urllib3<3,>=1.21.1 in /nfs/turbo/justincj-turbo/chrenx/anaconda/envs/soccernet/lib/python3.10/site-packages (from requests<3.0a0,>=2.0->google-measurement-protocol->SoccerNet) (2.1.0)\n",
      "Requirement already satisfied: certifi>=2017.4.17 in /nfs/turbo/justincj-turbo/chrenx/anaconda/envs/soccernet/lib/python3.10/site-packages (from requests<3.0a0,>=2.0->google-measurement-protocol->SoccerNet) (2024.2.2)\n",
      "Downloading SoccerNet-0.1.56-py3-none-any.whl (85 kB)\n",
      "\u001b[2K   \u001b[90m━━━━━━━━━━━━━━━━━━━━━━━━━━━━━━━━━━━━━━━━\u001b[0m \u001b[32m85.2/85.2 kB\u001b[0m \u001b[31m1.7 MB/s\u001b[0m eta \u001b[36m0:00:00\u001b[0ma \u001b[36m0:00:01\u001b[0m\n",
      "\u001b[?25hUsing cached google_measurement_protocol-1.1.0-py2.py3-none-any.whl (5.9 kB)\n",
      "Using cached pycocoevalcap-1.2-py3-none-any.whl (104.3 MB)\n",
      "Using cached scikit_video-1.1.11-py2.py3-none-any.whl (2.3 MB)\n",
      "Using cached prices-1.1.1-py3-none-any.whl (9.5 kB)\n",
      "Using cached pycocotools-2.0.7-cp310-cp310-manylinux_2_17_x86_64.manylinux2014_x86_64.whl (426 kB)\n",
      "Using cached Babel-2.14.0-py3-none-any.whl (11.0 MB)\n",
      "Installing collected packages: babel, scikit-video, prices, pycocotools, google-measurement-protocol, pycocoevalcap, SoccerNet\n",
      "Successfully installed SoccerNet-0.1.56 babel-2.14.0 google-measurement-protocol-1.1.0 prices-1.1.1 pycocoevalcap-1.2 pycocotools-2.0.7 scikit-video-1.1.11\n"
     ]
    }
   ],
   "source": [
    "!pip install SoccerNet"
   ]
  },
  {
   "cell_type": "code",
   "execution_count": 3,
   "metadata": {},
   "outputs": [
    {
     "name": "stdout",
     "output_type": "stream",
     "text": [
      "[Errno 2] No such file or directory: 'data/jersey-2023/'\n",
      "/home/chrenx/eecs545-sn-jersey/data/jersey-2023\n"
     ]
    },
    {
     "name": "stderr",
     "output_type": "stream",
     "text": [
      "Downloading ./data/jersey-2023/train.zip...: : 1.25GiB [01:04, 19.2MiB/s]                          \n",
      "Downloading ./data/jersey-2023/test.zip...: : 1.07GiB [01:10, 15.3MiB/s]                          \n",
      "Downloading ./data/jersey-2023/challenge.zip...: : 1.25GiB [01:18, 15.9MiB/s]                          \n"
     ]
    }
   ],
   "source": [
    "%cd data/jersey-2023/\n",
    "\n",
    "from SoccerNet.Downloader import SoccerNetDownloader as SNdl\n",
    "\n",
    "mySNdl = SNdl(LocalDirectory=\"./data\")\n",
    "mySNdl.downloadDataTask(task=\"jersey-2023\", split=[\"train\",\"test\",\"challenge\"])"
   ]
  },
  {
   "cell_type": "code",
   "execution_count": 4,
   "metadata": {},
   "outputs": [],
   "source": [
    "import torchvision.datasets as datasets\n",
    "import torchvision.transforms as transforms\n",
    "import torch"
   ]
  },
  {
   "cell_type": "code",
   "execution_count": 11,
   "metadata": {},
   "outputs": [],
   "source": [
    "normalize = transforms.Normalize(mean=[0.485, 0.456, 0.406],\n",
    "                                         std=[0.229, 0.224, 0.225])\n",
    "train_dataset = datasets.ImageFolder(\n",
    "        \"testing/tiny-imagenet-200\",\n",
    "        transforms.Compose([\n",
    "            transforms.RandomResizedCrop(32),\n",
    "            transforms.RandomHorizontalFlip(),\n",
    "            transforms.ToTensor(),\n",
    "            normalize,\n",
    "        ]))\n",
    "\n",
    "train_loader = torch.utils.data.DataLoader(\n",
    "        train_dataset, batch_size=64, shuffle=True,\n",
    "        num_workers=1, pin_memory=True)"
   ]
  },
  {
   "cell_type": "code",
   "execution_count": 12,
   "metadata": {},
   "outputs": [
    {
     "data": {
      "text/plain": [
       "(torch.Size([64, 3, 32, 32]), torch.Size([64]))"
      ]
     },
     "execution_count": 12,
     "metadata": {},
     "output_type": "execute_result"
    }
   ],
   "source": [
    "a = next(iter(train_loader))   \n",
    "a[0].shape, a[1].shape"
   ]
  },
  {
   "cell_type": "markdown",
   "metadata": {},
   "source": [
    "# Testing"
   ]
  },
  {
   "cell_type": "code",
   "execution_count": 55,
   "metadata": {},
   "outputs": [
    {
     "name": "stdout",
     "output_type": "stream",
     "text": [
      "The autoreload extension is already loaded. To reload it, use:\n",
      "  %reload_ext autoreload\n"
     ]
    }
   ],
   "source": [
    "%load_ext autoreload\n",
    "%autoreload 2"
   ]
  },
  {
   "cell_type": "code",
   "execution_count": 56,
   "metadata": {},
   "outputs": [],
   "source": [
    "import torch\n",
    "from model.mnist_network import MnistPadding\n",
    "import torchvision\n",
    "from torchvision import transforms\n",
    "from torchvision.io import read_image\n",
    "import matplotlib.pyplot as plt\n",
    "\n",
    "device = \"cuda\" if torch.cuda.is_available() else \"cpu\""
   ]
  },
  {
   "cell_type": "code",
   "execution_count": 3,
   "metadata": {},
   "outputs": [
    {
     "data": {
      "text/plain": [
       "<All keys matched successfully>"
      ]
     },
     "execution_count": 3,
     "metadata": {},
     "output_type": "execute_result"
    }
   ],
   "source": [
    "model = MnistPadding().to(device)  # B, C, 210, 210\n",
    "\n",
    "ckpt = torch.load(\"mnist/mnist_model_padding_ckpt_E9.pth\")\n",
    "model.load_state_dict(ckpt['model_state_dict'])\n"
   ]
  },
  {
   "cell_type": "code",
   "execution_count": 84,
   "metadata": {},
   "outputs": [],
   "source": [
    "transform = transforms.Compose([\n",
    "\n",
    "    # transforms.CenterCrop(26),\n",
    "    # transforms.Resize((150,150)),\n",
    "    # transforms.Resize((250, 250)),\n",
    "    # transforms.Pad(80),\n",
    "    transforms.ColorJitter(brightness=0.05, contrast=0.05, saturation=0.05, hue=0.05),\n",
    "    transforms.Grayscale(1),\n",
    "    # transforms.RandomRotation(10),      \n",
    "    # transforms.RandomAffine(5),\n",
    "    # transforms.RandomPerspective(distortion_scale=0.65, p=0.8),\n",
    "    # transforms.ElasticTransform(),\n",
    "    # transforms.GaussianBlur(kernel_size=(3,3)),\n",
    "    transforms.Resize((64,64)),\n",
    "\n",
    "    # convert the image to a pytorch tensor\n",
    "    # transforms.ToTensor(), \n",
    "\n",
    "# # normalise the images with mean and std of the dataset\n",
    "# transforms.Normalize((0.1307,), (0.3081,)) \n",
    "])"
   ]
  },
  {
   "cell_type": "code",
   "execution_count": 87,
   "metadata": {},
   "outputs": [
    {
     "data": {
      "text/plain": [
       "(<matplotlib.image.AxesImage at 0x795df5cf6590>, torch.Size([3, 92, 36]))"
      ]
     },
     "execution_count": 87,
     "metadata": {},
     "output_type": "execute_result"
    },
    {
     "data": {
      "image/png": "[encoded data removed]",
      "text/plain": [
       "<Figure size 640x480 with 1 Axes>"
      ]
     },
     "metadata": {},
     "output_type": "display_data"
    }
   ],
   "source": [
    "# img_dir = \"data/jersey-2023/train/images/6/6_350.jpg\"   # 8\n",
    "# img_dir = \"data/jersey-2023/train/images/9/9_51.jpg\"    # -1\n",
    "# img_dir = \"data/jersey-2023/train/images/2/2_8.jpg\"   #   27\n",
    "# img_dir = \"data/jersey-2023/train/images/6/6_345.jpg\"  # 8\n",
    "# img_dir = \"data/jersey-2023/train/images/10/10_26.jpg\"  # 3\n",
    "img_dir = \"data/jersey-2023/train/images/20/20_201.jpg\"  # 4\n",
    "\n",
    "ori_img = read_image(img_dir)\n",
    "plt.imshow(ori_img.permute(1,2,0)), ori_img.shape"
   ]
  },
  {
   "cell_type": "code",
   "execution_count": 81,
   "metadata": {},
   "outputs": [
    {
     "data": {
      "text/plain": [
       "(torch.Size([1, 64, 64]), torch.float32, device(type='cuda', index=0))"
      ]
     },
     "execution_count": 81,
     "metadata": {},
     "output_type": "execute_result"
    },
    {
     "data": {
      "image/png": "[encoded data removed]",
      "text/plain": [
       "<Figure size 640x480 with 1 Axes>"
      ]
     },
     "metadata": {},
     "output_type": "display_data"
    }
   ],
   "source": [
    "img_dir = \"data/jersey-2023/train/images/6/6_350.jpg\"   # 8\n",
    "# img_dir = \"data/jersey-2023/train/images/9/9_51.jpg\"    # -1\n",
    "# img_dir = \"data/jersey-2023/train/images/2/2_8.jpg\"   #   27\n",
    "# img_dir = \"data/jersey-2023/train/images/6/6_345.jpg\"  # 8\n",
    "# img_dir = \"data/jersey-2023/train/images/10/10_26.jpg\"  # 3\n",
    "# img_dir = \"data/jersey-2023/train/images/20/20_201.jpg\"  # 4\n",
    "\n",
    "ori_img = read_image(img_dir)\n",
    "img = transform(ori_img)\n",
    "img = img.float()\n",
    "plt.imshow(img.permute(1,2,0), cmap='gray')\n",
    "img = img.to(device)\n",
    "img.shape, img.dtype, img.device"
   ]
  },
  {
   "cell_type": "code",
   "execution_count": 54,
   "metadata": {},
   "outputs": [
    {
     "name": "stdout",
     "output_type": "stream",
     "text": [
      "tensor([[-316.2349, -787.7780, -322.0289, -458.9216, -224.8711, -299.7875,\n",
      "         -272.8350, -516.2353,    0.0000, -303.0577]], device='cuda:0')\n",
      "tensor([[8]], device='cuda:0')\n"
     ]
    }
   ],
   "source": [
    "\n",
    "model.eval()\n",
    "with torch.no_grad():\n",
    "    output = model(img.unsqueeze(0))\n",
    "    pred = output.argmax(dim=1, keepdim=True)\n",
    "    print(output)\n",
    "    print(pred)"
   ]
  },
  {
   "cell_type": "code",
   "execution_count": 65,
   "metadata": {},
   "outputs": [
    {
     "name": "stdout",
     "output_type": "stream",
     "text": [
      "Number of parameters: 8990410\n"
     ]
    }
   ],
   "source": [
    "total_params = sum(p.numel() for p in model.parameters())\n",
    "print(f\"Number of parameters: {total_params}\")"
   ]
  },
  {
   "cell_type": "code",
   "execution_count": 57,
   "metadata": {},
   "outputs": [
    {
     "data": {
      "text/plain": [
       "MnistDistorted28(\n",
       "  (conv11): Conv2d(1, 16, kernel_size=(3, 3), stride=(1, 1))\n",
       "  (conv12): Conv2d(1, 16, kernel_size=(5, 5), stride=(1, 1))\n",
       "  (conv13): Conv2d(1, 16, kernel_size=(7, 7), stride=(1, 1))\n",
       "  (conv14): Conv2d(1, 16, kernel_size=(9, 9), stride=(1, 1))\n",
       "  (conv21): Conv2d(16, 32, kernel_size=(3, 3), stride=(1, 1))\n",
       "  (conv22): Conv2d(16, 32, kernel_size=(5, 5), stride=(1, 1))\n",
       "  (conv23): Conv2d(16, 32, kernel_size=(7, 7), stride=(1, 1))\n",
       "  (conv24): Conv2d(16, 32, kernel_size=(9, 9), stride=(1, 1))\n",
       "  (conv31): Conv2d(32, 64, kernel_size=(3, 3), stride=(1, 1))\n",
       "  (conv32): Conv2d(32, 64, kernel_size=(5, 5), stride=(1, 1))\n",
       "  (conv33): Conv2d(32, 64, kernel_size=(7, 7), stride=(1, 1))\n",
       "  (conv34): Conv2d(32, 64, kernel_size=(9, 9), stride=(1, 1))\n",
       "  (maxpool): MaxPool2d(kernel_size=2, stride=2, padding=0, dilation=1, ceil_mode=False)\n",
       "  (dropout1): Dropout(p=0.25, inplace=False)\n",
       "  (dropout2): Dropout(p=0.5, inplace=False)\n",
       "  (fc11): Linear(in_features=7744, out_features=256, bias=True)\n",
       "  (fc12): Linear(in_features=4096, out_features=256, bias=True)\n",
       "  (fc13): Linear(in_features=1600, out_features=256, bias=True)\n",
       "  (fc14): Linear(in_features=256, out_features=256, bias=True)\n",
       "  (fc21): Linear(in_features=256, out_features=128, bias=True)\n",
       "  (fc22): Linear(in_features=256, out_features=128, bias=True)\n",
       "  (fc23): Linear(in_features=256, out_features=128, bias=True)\n",
       "  (fc24): Linear(in_features=256, out_features=128, bias=True)\n",
       "  (fc33): Linear(in_features=512, out_features=10, bias=True)\n",
       ")"
      ]
     },
     "execution_count": 57,
     "metadata": {},
     "output_type": "execute_result"
    }
   ],
   "source": [
    "from model.mnist_network import MnistDistorted28\n",
    "\n",
    "mnist_distorted28 = MnistDistorted28()\n",
    "\n",
    "ckpt = torch.load(\"mnist/mnist_model_distored28_ckpt_E99.pth\")\n",
    "mnist_distorted28.load_state_dict(ckpt['model_state_dict'])\n",
    "mnist_distorted28.to(device)\n"
   ]
  },
  {
   "cell_type": "code",
   "execution_count": 66,
   "metadata": {},
   "outputs": [
    {
     "data": {
      "text/plain": [
       "(torch.Size([1, 28, 28]), torch.float32, device(type='cuda', index=0))"
      ]
     },
     "execution_count": 66,
     "metadata": {},
     "output_type": "execute_result"
    },
    {
     "data": {
      "image/png": "[encoded data removed]",
      "text/plain": [
       "<Figure size 640x480 with 1 Axes>"
      ]
     },
     "metadata": {},
     "output_type": "display_data"
    }
   ],
   "source": [
    "transform = transforms.Compose([\n",
    "\n",
    "    # transforms.CenterCrop(50),\n",
    "    # transforms.Resize((150,150)),\n",
    "    # transforms.Resize((250, 250)),\n",
    "    # transforms.Pad(80),\n",
    "    transforms.ColorJitter(brightness=0.05, contrast=0.05, saturation=0.05, hue=0.05),\n",
    "    transforms.Grayscale(1),\n",
    "    # transforms.RandomRotation(10),      \n",
    "    # transforms.RandomAffine(5),\n",
    "    # transforms.RandomPerspective(distortion_scale=0.65, p=0.8),\n",
    "    # transforms.ElasticTransform(),\n",
    "    # transforms.GaussianBlur(kernel_size=(3,3)),\n",
    "    transforms.Resize((28,28)),\n",
    "\n",
    "    # convert the image to a pytorch tensor\n",
    "    # transforms.ToTensor(), \n",
    "\n",
    "# # normalise the images with mean and std of the dataset\n",
    "# transforms.Normalize((0.1307,), (0.3081,)) \n",
    "])\n",
    "img_dir = \"data/jersey-2023/train/images/6/6_350.jpg\"   # 8\n",
    "# img_dir = \"data/jersey-2023/train/images/9/9_51.jpg\"    # -1\n",
    "# img_dir = \"data/jersey-2023/train/images/2/2_8.jpg\"   #   27\n",
    "# img_dir = \"data/jersey-2023/train/images/6/6_345.jpg\"  # 8\n",
    "# img_dir = \"data/jersey-2023/train/images/10/10_26.jpg\"  # 3\n",
    "# img_dir = \"data/jersey-2023/train/images/20/20_201.jpg\"  # 4\n",
    "\n",
    "ori_img = read_image(img_dir)\n",
    "img = transform(ori_img)\n",
    "img = img.float()\n",
    "plt.imshow(img.permute(1,2,0), cmap='gray')\n",
    "img = img.to(device)\n",
    "img.shape, img.dtype, img.device"
   ]
  },
  {
   "cell_type": "code",
   "execution_count": 67,
   "metadata": {},
   "outputs": [
    {
     "name": "stdout",
     "output_type": "stream",
     "text": [
      "tensor([[   0.0000, -271.0093, -628.9890, -735.0399, -619.6136, -664.5666,\n",
      "         -970.2014, -513.9344, -556.1673, -499.3082]], device='cuda:0')\n",
      "tensor([[0]], device='cuda:0')\n"
     ]
    }
   ],
   "source": [
    "mnist_distorted28.eval()\n",
    "with torch.no_grad():\n",
    "    output = mnist_distorted28(img.unsqueeze(0))\n",
    "    pred = output.argmax(dim=1, keepdim=True)\n",
    "    print(output)\n",
    "    print(pred)"
   ]
  },
  {
   "cell_type": "markdown",
   "metadata": {},
   "source": [
    "# Testing EfficientNet"
   ]
  },
  {
   "cell_type": "code",
   "execution_count": 68,
   "metadata": {},
   "outputs": [
    {
     "name": "stdout",
     "output_type": "stream",
     "text": [
      "Using cuda for inference\n"
     ]
    }
   ],
   "source": [
    "import torch\n",
    "from PIL import Image\n",
    "import torchvision.transforms as transforms\n",
    "import numpy as np\n",
    "import json\n",
    "import requests\n",
    "import matplotlib.pyplot as plt\n",
    "import warnings\n",
    "warnings.filterwarnings('ignore')\n",
    "%matplotlib inline\n",
    "\n",
    "device = torch.device(\"cuda\") if torch.cuda.is_available() else torch.device(\"cpu\")\n",
    "print(f'Using {device} for inference')\n"
   ]
  },
  {
   "cell_type": "code",
   "execution_count": 69,
   "metadata": {},
   "outputs": [
    {
     "name": "stderr",
     "output_type": "stream",
     "text": [
      "Downloading: \"https://github.com/NVIDIA/DeepLearningExamples/zipball/torchhub\" to /home/chrenx/.cache/torch/hub/torchhub.zip\n",
      "Downloading: \"https://api.ngc.nvidia.com/v2/models/nvidia/efficientnet_b0_pyt_amp/versions/20.12.0/files/nvidia_efficientnet-b0_210412.pth\" to /home/chrenx/.cache/torch/hub/checkpoints/nvidia_efficientnet-b0_210412.pth\n",
      "100.0%\n",
      "Using cache found in /home/chrenx/.cache/torch/hub/NVIDIA_DeepLearningExamples_torchhub\n"
     ]
    },
    {
     "data": {
      "text/plain": [
       "EfficientNet(\n",
       "  (stem): Sequential(\n",
       "    (conv): Conv2d(3, 32, kernel_size=(3, 3), stride=(2, 2), padding=(1, 1), bias=False)\n",
       "    (bn): BatchNorm2d(32, eps=0.001, momentum=0.010000000000000009, affine=True, track_running_stats=True)\n",
       "    (activation): SiLU(inplace=True)\n",
       "  )\n",
       "  (layers): Sequential(\n",
       "    (0): Sequential(\n",
       "      (block0): MBConvBlock(\n",
       "        (depsep): Sequential(\n",
       "          (conv): Conv2d(32, 32, kernel_size=(3, 3), stride=(1, 1), padding=(1, 1), groups=32, bias=False)\n",
       "          (bn): BatchNorm2d(32, eps=0.001, momentum=0.010000000000000009, affine=True, track_running_stats=True)\n",
       "          (act): SiLU(inplace=True)\n",
       "        )\n",
       "        (se): SequentialSqueezeAndExcitation(\n",
       "          (squeeze): Linear(in_features=32, out_features=8, bias=True)\n",
       "          (expand): Linear(in_features=8, out_features=32, bias=True)\n",
       "          (activation): SiLU(inplace=True)\n",
       "          (sigmoid): Sigmoid()\n",
       "          (mul_a_quantizer): Identity()\n",
       "          (mul_b_quantizer): Identity()\n",
       "        )\n",
       "        (proj): Sequential(\n",
       "          (conv): Conv2d(32, 16, kernel_size=(1, 1), stride=(1, 1), bias=False)\n",
       "          (bn): BatchNorm2d(16, eps=0.001, momentum=0.010000000000000009, affine=True, track_running_stats=True)\n",
       "        )\n",
       "        (residual_quantizer): Identity()\n",
       "      )\n",
       "    )\n",
       "    (1): Sequential(\n",
       "      (block0): MBConvBlock(\n",
       "        (expand): Sequential(\n",
       "          (conv): Conv2d(16, 96, kernel_size=(1, 1), stride=(1, 1), bias=False)\n",
       "          (bn): BatchNorm2d(96, eps=0.001, momentum=0.010000000000000009, affine=True, track_running_stats=True)\n",
       "          (act): SiLU(inplace=True)\n",
       "        )\n",
       "        (depsep): Sequential(\n",
       "          (conv): Conv2d(96, 96, kernel_size=(3, 3), stride=(2, 2), padding=(1, 1), groups=96, bias=False)\n",
       "          (bn): BatchNorm2d(96, eps=0.001, momentum=0.010000000000000009, affine=True, track_running_stats=True)\n",
       "          (act): SiLU(inplace=True)\n",
       "        )\n",
       "        (se): SequentialSqueezeAndExcitation(\n",
       "          (squeeze): Linear(in_features=96, out_features=4, bias=True)\n",
       "          (expand): Linear(in_features=4, out_features=96, bias=True)\n",
       "          (activation): SiLU(inplace=True)\n",
       "          (sigmoid): Sigmoid()\n",
       "          (mul_a_quantizer): Identity()\n",
       "          (mul_b_quantizer): Identity()\n",
       "        )\n",
       "        (proj): Sequential(\n",
       "          (conv): Conv2d(96, 24, kernel_size=(1, 1), stride=(1, 1), bias=False)\n",
       "          (bn): BatchNorm2d(24, eps=0.001, momentum=0.010000000000000009, affine=True, track_running_stats=True)\n",
       "        )\n",
       "        (residual_quantizer): Identity()\n",
       "      )\n",
       "      (block1): MBConvBlock(\n",
       "        (expand): Sequential(\n",
       "          (conv): Conv2d(24, 144, kernel_size=(1, 1), stride=(1, 1), bias=False)\n",
       "          (bn): BatchNorm2d(144, eps=0.001, momentum=0.010000000000000009, affine=True, track_running_stats=True)\n",
       "          (act): SiLU(inplace=True)\n",
       "        )\n",
       "        (depsep): Sequential(\n",
       "          (conv): Conv2d(144, 144, kernel_size=(3, 3), stride=(1, 1), padding=(1, 1), groups=144, bias=False)\n",
       "          (bn): BatchNorm2d(144, eps=0.001, momentum=0.010000000000000009, affine=True, track_running_stats=True)\n",
       "          (act): SiLU(inplace=True)\n",
       "        )\n",
       "        (se): SequentialSqueezeAndExcitation(\n",
       "          (squeeze): Linear(in_features=144, out_features=6, bias=True)\n",
       "          (expand): Linear(in_features=6, out_features=144, bias=True)\n",
       "          (activation): SiLU(inplace=True)\n",
       "          (sigmoid): Sigmoid()\n",
       "          (mul_a_quantizer): Identity()\n",
       "          (mul_b_quantizer): Identity()\n",
       "        )\n",
       "        (proj): Sequential(\n",
       "          (conv): Conv2d(144, 24, kernel_size=(1, 1), stride=(1, 1), bias=False)\n",
       "          (bn): BatchNorm2d(24, eps=0.001, momentum=0.010000000000000009, affine=True, track_running_stats=True)\n",
       "        )\n",
       "        (residual_quantizer): Identity()\n",
       "      )\n",
       "    )\n",
       "    (2): Sequential(\n",
       "      (block0): MBConvBlock(\n",
       "        (expand): Sequential(\n",
       "          (conv): Conv2d(24, 144, kernel_size=(1, 1), stride=(1, 1), bias=False)\n",
       "          (bn): BatchNorm2d(144, eps=0.001, momentum=0.010000000000000009, affine=True, track_running_stats=True)\n",
       "          (act): SiLU(inplace=True)\n",
       "        )\n",
       "        (depsep): Sequential(\n",
       "          (conv): Conv2d(144, 144, kernel_size=(5, 5), stride=(2, 2), padding=(2, 2), groups=144, bias=False)\n",
       "          (bn): BatchNorm2d(144, eps=0.001, momentum=0.010000000000000009, affine=True, track_running_stats=True)\n",
       "          (act): SiLU(inplace=True)\n",
       "        )\n",
       "        (se): SequentialSqueezeAndExcitation(\n",
       "          (squeeze): Linear(in_features=144, out_features=6, bias=True)\n",
       "          (expand): Linear(in_features=6, out_features=144, bias=True)\n",
       "          (activation): SiLU(inplace=True)\n",
       "          (sigmoid): Sigmoid()\n",
       "          (mul_a_quantizer): Identity()\n",
       "          (mul_b_quantizer): Identity()\n",
       "        )\n",
       "        (proj): Sequential(\n",
       "          (conv): Conv2d(144, 40, kernel_size=(1, 1), stride=(1, 1), bias=False)\n",
       "          (bn): BatchNorm2d(40, eps=0.001, momentum=0.010000000000000009, affine=True, track_running_stats=True)\n",
       "        )\n",
       "        (residual_quantizer): Identity()\n",
       "      )\n",
       "      (block1): MBConvBlock(\n",
       "        (expand): Sequential(\n",
       "          (conv): Conv2d(40, 240, kernel_size=(1, 1), stride=(1, 1), bias=False)\n",
       "          (bn): BatchNorm2d(240, eps=0.001, momentum=0.010000000000000009, affine=True, track_running_stats=True)\n",
       "          (act): SiLU(inplace=True)\n",
       "        )\n",
       "        (depsep): Sequential(\n",
       "          (conv): Conv2d(240, 240, kernel_size=(5, 5), stride=(1, 1), padding=(2, 2), groups=240, bias=False)\n",
       "          (bn): BatchNorm2d(240, eps=0.001, momentum=0.010000000000000009, affine=True, track_running_stats=True)\n",
       "          (act): SiLU(inplace=True)\n",
       "        )\n",
       "        (se): SequentialSqueezeAndExcitation(\n",
       "          (squeeze): Linear(in_features=240, out_features=10, bias=True)\n",
       "          (expand): Linear(in_features=10, out_features=240, bias=True)\n",
       "          (activation): SiLU(inplace=True)\n",
       "          (sigmoid): Sigmoid()\n",
       "          (mul_a_quantizer): Identity()\n",
       "          (mul_b_quantizer): Identity()\n",
       "        )\n",
       "        (proj): Sequential(\n",
       "          (conv): Conv2d(240, 40, kernel_size=(1, 1), stride=(1, 1), bias=False)\n",
       "          (bn): BatchNorm2d(40, eps=0.001, momentum=0.010000000000000009, affine=True, track_running_stats=True)\n",
       "        )\n",
       "        (residual_quantizer): Identity()\n",
       "      )\n",
       "    )\n",
       "    (3): Sequential(\n",
       "      (block0): MBConvBlock(\n",
       "        (expand): Sequential(\n",
       "          (conv): Conv2d(40, 240, kernel_size=(1, 1), stride=(1, 1), bias=False)\n",
       "          (bn): BatchNorm2d(240, eps=0.001, momentum=0.010000000000000009, affine=True, track_running_stats=True)\n",
       "          (act): SiLU(inplace=True)\n",
       "        )\n",
       "        (depsep): Sequential(\n",
       "          (conv): Conv2d(240, 240, kernel_size=(3, 3), stride=(2, 2), padding=(1, 1), groups=240, bias=False)\n",
       "          (bn): BatchNorm2d(240, eps=0.001, momentum=0.010000000000000009, affine=True, track_running_stats=True)\n",
       "          (act): SiLU(inplace=True)\n",
       "        )\n",
       "        (se): SequentialSqueezeAndExcitation(\n",
       "          (squeeze): Linear(in_features=240, out_features=10, bias=True)\n",
       "          (expand): Linear(in_features=10, out_features=240, bias=True)\n",
       "          (activation): SiLU(inplace=True)\n",
       "          (sigmoid): Sigmoid()\n",
       "          (mul_a_quantizer): Identity()\n",
       "          (mul_b_quantizer): Identity()\n",
       "        )\n",
       "        (proj): Sequential(\n",
       "          (conv): Conv2d(240, 80, kernel_size=(1, 1), stride=(1, 1), bias=False)\n",
       "          (bn): BatchNorm2d(80, eps=0.001, momentum=0.010000000000000009, affine=True, track_running_stats=True)\n",
       "        )\n",
       "        (residual_quantizer): Identity()\n",
       "      )\n",
       "      (block1): MBConvBlock(\n",
       "        (expand): Sequential(\n",
       "          (conv): Conv2d(80, 480, kernel_size=(1, 1), stride=(1, 1), bias=False)\n",
       "          (bn): BatchNorm2d(480, eps=0.001, momentum=0.010000000000000009, affine=True, track_running_stats=True)\n",
       "          (act): SiLU(inplace=True)\n",
       "        )\n",
       "        (depsep): Sequential(\n",
       "          (conv): Conv2d(480, 480, kernel_size=(3, 3), stride=(1, 1), padding=(1, 1), groups=480, bias=False)\n",
       "          (bn): BatchNorm2d(480, eps=0.001, momentum=0.010000000000000009, affine=True, track_running_stats=True)\n",
       "          (act): SiLU(inplace=True)\n",
       "        )\n",
       "        (se): SequentialSqueezeAndExcitation(\n",
       "          (squeeze): Linear(in_features=480, out_features=20, bias=True)\n",
       "          (expand): Linear(in_features=20, out_features=480, bias=True)\n",
       "          (activation): SiLU(inplace=True)\n",
       "          (sigmoid): Sigmoid()\n",
       "          (mul_a_quantizer): Identity()\n",
       "          (mul_b_quantizer): Identity()\n",
       "        )\n",
       "        (proj): Sequential(\n",
       "          (conv): Conv2d(480, 80, kernel_size=(1, 1), stride=(1, 1), bias=False)\n",
       "          (bn): BatchNorm2d(80, eps=0.001, momentum=0.010000000000000009, affine=True, track_running_stats=True)\n",
       "        )\n",
       "        (residual_quantizer): Identity()\n",
       "      )\n",
       "      (block2): MBConvBlock(\n",
       "        (expand): Sequential(\n",
       "          (conv): Conv2d(80, 480, kernel_size=(1, 1), stride=(1, 1), bias=False)\n",
       "          (bn): BatchNorm2d(480, eps=0.001, momentum=0.010000000000000009, affine=True, track_running_stats=True)\n",
       "          (act): SiLU(inplace=True)\n",
       "        )\n",
       "        (depsep): Sequential(\n",
       "          (conv): Conv2d(480, 480, kernel_size=(3, 3), stride=(1, 1), padding=(1, 1), groups=480, bias=False)\n",
       "          (bn): BatchNorm2d(480, eps=0.001, momentum=0.010000000000000009, affine=True, track_running_stats=True)\n",
       "          (act): SiLU(inplace=True)\n",
       "        )\n",
       "        (se): SequentialSqueezeAndExcitation(\n",
       "          (squeeze): Linear(in_features=480, out_features=20, bias=True)\n",
       "          (expand): Linear(in_features=20, out_features=480, bias=True)\n",
       "          (activation): SiLU(inplace=True)\n",
       "          (sigmoid): Sigmoid()\n",
       "          (mul_a_quantizer): Identity()\n",
       "          (mul_b_quantizer): Identity()\n",
       "        )\n",
       "        (proj): Sequential(\n",
       "          (conv): Conv2d(480, 80, kernel_size=(1, 1), stride=(1, 1), bias=False)\n",
       "          (bn): BatchNorm2d(80, eps=0.001, momentum=0.010000000000000009, affine=True, track_running_stats=True)\n",
       "        )\n",
       "        (residual_quantizer): Identity()\n",
       "      )\n",
       "    )\n",
       "    (4): Sequential(\n",
       "      (block0): MBConvBlock(\n",
       "        (expand): Sequential(\n",
       "          (conv): Conv2d(80, 480, kernel_size=(1, 1), stride=(1, 1), bias=False)\n",
       "          (bn): BatchNorm2d(480, eps=0.001, momentum=0.010000000000000009, affine=True, track_running_stats=True)\n",
       "          (act): SiLU(inplace=True)\n",
       "        )\n",
       "        (depsep): Sequential(\n",
       "          (conv): Conv2d(480, 480, kernel_size=(5, 5), stride=(1, 1), padding=(2, 2), groups=480, bias=False)\n",
       "          (bn): BatchNorm2d(480, eps=0.001, momentum=0.010000000000000009, affine=True, track_running_stats=True)\n",
       "          (act): SiLU(inplace=True)\n",
       "        )\n",
       "        (se): SequentialSqueezeAndExcitation(\n",
       "          (squeeze): Linear(in_features=480, out_features=20, bias=True)\n",
       "          (expand): Linear(in_features=20, out_features=480, bias=True)\n",
       "          (activation): SiLU(inplace=True)\n",
       "          (sigmoid): Sigmoid()\n",
       "          (mul_a_quantizer): Identity()\n",
       "          (mul_b_quantizer): Identity()\n",
       "        )\n",
       "        (proj): Sequential(\n",
       "          (conv): Conv2d(480, 112, kernel_size=(1, 1), stride=(1, 1), bias=False)\n",
       "          (bn): BatchNorm2d(112, eps=0.001, momentum=0.010000000000000009, affine=True, track_running_stats=True)\n",
       "        )\n",
       "        (residual_quantizer): Identity()\n",
       "      )\n",
       "      (block1): MBConvBlock(\n",
       "        (expand): Sequential(\n",
       "          (conv): Conv2d(112, 672, kernel_size=(1, 1), stride=(1, 1), bias=False)\n",
       "          (bn): BatchNorm2d(672, eps=0.001, momentum=0.010000000000000009, affine=True, track_running_stats=True)\n",
       "          (act): SiLU(inplace=True)\n",
       "        )\n",
       "        (depsep): Sequential(\n",
       "          (conv): Conv2d(672, 672, kernel_size=(5, 5), stride=(1, 1), padding=(2, 2), groups=672, bias=False)\n",
       "          (bn): BatchNorm2d(672, eps=0.001, momentum=0.010000000000000009, affine=True, track_running_stats=True)\n",
       "          (act): SiLU(inplace=True)\n",
       "        )\n",
       "        (se): SequentialSqueezeAndExcitation(\n",
       "          (squeeze): Linear(in_features=672, out_features=28, bias=True)\n",
       "          (expand): Linear(in_features=28, out_features=672, bias=True)\n",
       "          (activation): SiLU(inplace=True)\n",
       "          (sigmoid): Sigmoid()\n",
       "          (mul_a_quantizer): Identity()\n",
       "          (mul_b_quantizer): Identity()\n",
       "        )\n",
       "        (proj): Sequential(\n",
       "          (conv): Conv2d(672, 112, kernel_size=(1, 1), stride=(1, 1), bias=False)\n",
       "          (bn): BatchNorm2d(112, eps=0.001, momentum=0.010000000000000009, affine=True, track_running_stats=True)\n",
       "        )\n",
       "        (residual_quantizer): Identity()\n",
       "      )\n",
       "      (block2): MBConvBlock(\n",
       "        (expand): Sequential(\n",
       "          (conv): Conv2d(112, 672, kernel_size=(1, 1), stride=(1, 1), bias=False)\n",
       "          (bn): BatchNorm2d(672, eps=0.001, momentum=0.010000000000000009, affine=True, track_running_stats=True)\n",
       "          (act): SiLU(inplace=True)\n",
       "        )\n",
       "        (depsep): Sequential(\n",
       "          (conv): Conv2d(672, 672, kernel_size=(5, 5), stride=(1, 1), padding=(2, 2), groups=672, bias=False)\n",
       "          (bn): BatchNorm2d(672, eps=0.001, momentum=0.010000000000000009, affine=True, track_running_stats=True)\n",
       "          (act): SiLU(inplace=True)\n",
       "        )\n",
       "        (se): SequentialSqueezeAndExcitation(\n",
       "          (squeeze): Linear(in_features=672, out_features=28, bias=True)\n",
       "          (expand): Linear(in_features=28, out_features=672, bias=True)\n",
       "          (activation): SiLU(inplace=True)\n",
       "          (sigmoid): Sigmoid()\n",
       "          (mul_a_quantizer): Identity()\n",
       "          (mul_b_quantizer): Identity()\n",
       "        )\n",
       "        (proj): Sequential(\n",
       "          (conv): Conv2d(672, 112, kernel_size=(1, 1), stride=(1, 1), bias=False)\n",
       "          (bn): BatchNorm2d(112, eps=0.001, momentum=0.010000000000000009, affine=True, track_running_stats=True)\n",
       "        )\n",
       "        (residual_quantizer): Identity()\n",
       "      )\n",
       "    )\n",
       "    (5): Sequential(\n",
       "      (block0): MBConvBlock(\n",
       "        (expand): Sequential(\n",
       "          (conv): Conv2d(112, 672, kernel_size=(1, 1), stride=(1, 1), bias=False)\n",
       "          (bn): BatchNorm2d(672, eps=0.001, momentum=0.010000000000000009, affine=True, track_running_stats=True)\n",
       "          (act): SiLU(inplace=True)\n",
       "        )\n",
       "        (depsep): Sequential(\n",
       "          (conv): Conv2d(672, 672, kernel_size=(5, 5), stride=(2, 2), padding=(2, 2), groups=672, bias=False)\n",
       "          (bn): BatchNorm2d(672, eps=0.001, momentum=0.010000000000000009, affine=True, track_running_stats=True)\n",
       "          (act): SiLU(inplace=True)\n",
       "        )\n",
       "        (se): SequentialSqueezeAndExcitation(\n",
       "          (squeeze): Linear(in_features=672, out_features=28, bias=True)\n",
       "          (expand): Linear(in_features=28, out_features=672, bias=True)\n",
       "          (activation): SiLU(inplace=True)\n",
       "          (sigmoid): Sigmoid()\n",
       "          (mul_a_quantizer): Identity()\n",
       "          (mul_b_quantizer): Identity()\n",
       "        )\n",
       "        (proj): Sequential(\n",
       "          (conv): Conv2d(672, 192, kernel_size=(1, 1), stride=(1, 1), bias=False)\n",
       "          (bn): BatchNorm2d(192, eps=0.001, momentum=0.010000000000000009, affine=True, track_running_stats=True)\n",
       "        )\n",
       "        (residual_quantizer): Identity()\n",
       "      )\n",
       "      (block1): MBConvBlock(\n",
       "        (expand): Sequential(\n",
       "          (conv): Conv2d(192, 1152, kernel_size=(1, 1), stride=(1, 1), bias=False)\n",
       "          (bn): BatchNorm2d(1152, eps=0.001, momentum=0.010000000000000009, affine=True, track_running_stats=True)\n",
       "          (act): SiLU(inplace=True)\n",
       "        )\n",
       "        (depsep): Sequential(\n",
       "          (conv): Conv2d(1152, 1152, kernel_size=(5, 5), stride=(1, 1), padding=(2, 2), groups=1152, bias=False)\n",
       "          (bn): BatchNorm2d(1152, eps=0.001, momentum=0.010000000000000009, affine=True, track_running_stats=True)\n",
       "          (act): SiLU(inplace=True)\n",
       "        )\n",
       "        (se): SequentialSqueezeAndExcitation(\n",
       "          (squeeze): Linear(in_features=1152, out_features=48, bias=True)\n",
       "          (expand): Linear(in_features=48, out_features=1152, bias=True)\n",
       "          (activation): SiLU(inplace=True)\n",
       "          (sigmoid): Sigmoid()\n",
       "          (mul_a_quantizer): Identity()\n",
       "          (mul_b_quantizer): Identity()\n",
       "        )\n",
       "        (proj): Sequential(\n",
       "          (conv): Conv2d(1152, 192, kernel_size=(1, 1), stride=(1, 1), bias=False)\n",
       "          (bn): BatchNorm2d(192, eps=0.001, momentum=0.010000000000000009, affine=True, track_running_stats=True)\n",
       "        )\n",
       "        (residual_quantizer): Identity()\n",
       "      )\n",
       "      (block2): MBConvBlock(\n",
       "        (expand): Sequential(\n",
       "          (conv): Conv2d(192, 1152, kernel_size=(1, 1), stride=(1, 1), bias=False)\n",
       "          (bn): BatchNorm2d(1152, eps=0.001, momentum=0.010000000000000009, affine=True, track_running_stats=True)\n",
       "          (act): SiLU(inplace=True)\n",
       "        )\n",
       "        (depsep): Sequential(\n",
       "          (conv): Conv2d(1152, 1152, kernel_size=(5, 5), stride=(1, 1), padding=(2, 2), groups=1152, bias=False)\n",
       "          (bn): BatchNorm2d(1152, eps=0.001, momentum=0.010000000000000009, affine=True, track_running_stats=True)\n",
       "          (act): SiLU(inplace=True)\n",
       "        )\n",
       "        (se): SequentialSqueezeAndExcitation(\n",
       "          (squeeze): Linear(in_features=1152, out_features=48, bias=True)\n",
       "          (expand): Linear(in_features=48, out_features=1152, bias=True)\n",
       "          (activation): SiLU(inplace=True)\n",
       "          (sigmoid): Sigmoid()\n",
       "          (mul_a_quantizer): Identity()\n",
       "          (mul_b_quantizer): Identity()\n",
       "        )\n",
       "        (proj): Sequential(\n",
       "          (conv): Conv2d(1152, 192, kernel_size=(1, 1), stride=(1, 1), bias=False)\n",
       "          (bn): BatchNorm2d(192, eps=0.001, momentum=0.010000000000000009, affine=True, track_running_stats=True)\n",
       "        )\n",
       "        (residual_quantizer): Identity()\n",
       "      )\n",
       "      (block3): MBConvBlock(\n",
       "        (expand): Sequential(\n",
       "          (conv): Conv2d(192, 1152, kernel_size=(1, 1), stride=(1, 1), bias=False)\n",
       "          (bn): BatchNorm2d(1152, eps=0.001, momentum=0.010000000000000009, affine=True, track_running_stats=True)\n",
       "          (act): SiLU(inplace=True)\n",
       "        )\n",
       "        (depsep): Sequential(\n",
       "          (conv): Conv2d(1152, 1152, kernel_size=(5, 5), stride=(1, 1), padding=(2, 2), groups=1152, bias=False)\n",
       "          (bn): BatchNorm2d(1152, eps=0.001, momentum=0.010000000000000009, affine=True, track_running_stats=True)\n",
       "          (act): SiLU(inplace=True)\n",
       "        )\n",
       "        (se): SequentialSqueezeAndExcitation(\n",
       "          (squeeze): Linear(in_features=1152, out_features=48, bias=True)\n",
       "          (expand): Linear(in_features=48, out_features=1152, bias=True)\n",
       "          (activation): SiLU(inplace=True)\n",
       "          (sigmoid): Sigmoid()\n",
       "          (mul_a_quantizer): Identity()\n",
       "          (mul_b_quantizer): Identity()\n",
       "        )\n",
       "        (proj): Sequential(\n",
       "          (conv): Conv2d(1152, 192, kernel_size=(1, 1), stride=(1, 1), bias=False)\n",
       "          (bn): BatchNorm2d(192, eps=0.001, momentum=0.010000000000000009, affine=True, track_running_stats=True)\n",
       "        )\n",
       "        (residual_quantizer): Identity()\n",
       "      )\n",
       "    )\n",
       "    (6): Sequential(\n",
       "      (block0): MBConvBlock(\n",
       "        (expand): Sequential(\n",
       "          (conv): Conv2d(192, 1152, kernel_size=(1, 1), stride=(1, 1), bias=False)\n",
       "          (bn): BatchNorm2d(1152, eps=0.001, momentum=0.010000000000000009, affine=True, track_running_stats=True)\n",
       "          (act): SiLU(inplace=True)\n",
       "        )\n",
       "        (depsep): Sequential(\n",
       "          (conv): Conv2d(1152, 1152, kernel_size=(3, 3), stride=(1, 1), padding=(1, 1), groups=1152, bias=False)\n",
       "          (bn): BatchNorm2d(1152, eps=0.001, momentum=0.010000000000000009, affine=True, track_running_stats=True)\n",
       "          (act): SiLU(inplace=True)\n",
       "        )\n",
       "        (se): SequentialSqueezeAndExcitation(\n",
       "          (squeeze): Linear(in_features=1152, out_features=48, bias=True)\n",
       "          (expand): Linear(in_features=48, out_features=1152, bias=True)\n",
       "          (activation): SiLU(inplace=True)\n",
       "          (sigmoid): Sigmoid()\n",
       "          (mul_a_quantizer): Identity()\n",
       "          (mul_b_quantizer): Identity()\n",
       "        )\n",
       "        (proj): Sequential(\n",
       "          (conv): Conv2d(1152, 320, kernel_size=(1, 1), stride=(1, 1), bias=False)\n",
       "          (bn): BatchNorm2d(320, eps=0.001, momentum=0.010000000000000009, affine=True, track_running_stats=True)\n",
       "        )\n",
       "        (residual_quantizer): Identity()\n",
       "      )\n",
       "    )\n",
       "  )\n",
       "  (features): Sequential(\n",
       "    (conv): Conv2d(320, 1280, kernel_size=(1, 1), stride=(1, 1), bias=False)\n",
       "    (bn): BatchNorm2d(1280, eps=0.001, momentum=0.010000000000000009, affine=True, track_running_stats=True)\n",
       "    (activation): SiLU(inplace=True)\n",
       "  )\n",
       "  (classifier): Sequential(\n",
       "    (pooling): AdaptiveAvgPool2d(output_size=1)\n",
       "    (squeeze): Flatten()\n",
       "    (dropout): Dropout(p=0.2, inplace=False)\n",
       "    (fc): Linear(in_features=1280, out_features=1000, bias=True)\n",
       "  )\n",
       ")"
      ]
     },
     "execution_count": 69,
     "metadata": {},
     "output_type": "execute_result"
    }
   ],
   "source": [
    "efficientnet = torch.hub.load('NVIDIA/DeepLearningExamples:torchhub', 'nvidia_efficientnet_b0', pretrained=True)\n",
    "utils = torch.hub.load('NVIDIA/DeepLearningExamples:torchhub', 'nvidia_convnets_processing_utils')\n",
    "\n",
    "efficientnet.eval().to(device)\n",
    "\n"
   ]
  },
  {
   "cell_type": "code",
   "execution_count": 75,
   "metadata": {},
   "outputs": [
    {
     "name": "stdout",
     "output_type": "stream",
     "text": [
      "sample 0: [('Chihuahua', '100.0%'), ('bucket, pail', '0.0%'), ('Labrador retriever', '0.0%'), ('vizsla, Hungarian pointer', '0.0%'), ('American Staffordshire terrier, Staffordshire terrier, American pit bull terrier, pit bull terrier', '0.0%')]\n",
      "[[('Chihuahua', '100.0%'), ('bucket, pail', '0.0%'), ('Labrador retriever', '0.0%'), ('vizsla, Hungarian pointer', '0.0%'), ('American Staffordshire terrier, Staffordshire terrier, American pit bull terrier, pit bull terrier', '0.0%')]]\n"
     ]
    }
   ],
   "source": [
    "input_img = ori_img.unsqueeze(0).to(device)\n",
    "input_img = input_img.float()\n",
    "with torch.no_grad():\n",
    "    output = torch.nn.functional.softmax(efficientnet(input_img), dim=1)\n",
    "    \n",
    "results = utils.pick_n_best(predictions=output, n=5)\n",
    "\n",
    "# img = Image.open(ori_img)\n",
    "# img.thumbnail((256,256), Image.ANTIALIAS)\n",
    "# plt.imshow(img)\n",
    "# plt.show()\n",
    "print(results)"
   ]
  },
  {
   "cell_type": "markdown",
   "metadata": {},
   "source": [
    "# Testing yolo model"
   ]
  },
  {
   "cell_type": "code",
   "execution_count": 3,
   "metadata": {},
   "outputs": [
    {
     "name": "stdout",
     "output_type": "stream",
     "text": [
      "/home/chrenx/eecs545-sn-jersey\n"
     ]
    }
   ],
   "source": [
    "%cd ~/eecs545-sn-jersey/"
   ]
  },
  {
   "cell_type": "code",
   "execution_count": 1,
   "metadata": {},
   "outputs": [],
   "source": [
    "from ultralytics import YOLO\n",
    "from argparse import ArgumentParser\n",
    "\n",
    "pretrained_model_path = \"yolo-bb/best-03-25.pt\"\n",
    "\n",
    "# Load a model\n",
    "# model = YOLO('yolov8s-obb.yaml')  # build a new model from YAML\n",
    "# model = YOLO('yolov8s-obb.pt')  # load a pretrained model (recommended for training)\n",
    "model = YOLO(pretrained_model_path)  # build from YAML and transfer weights\n"
   ]
  },
  {
   "cell_type": "code",
   "execution_count": 2,
   "metadata": {},
   "outputs": [
    {
     "name": "stdout",
     "output_type": "stream",
     "text": [
      "\n",
      "0: 640x640 162.6ms\n",
      "1: 640x640 162.6ms\n",
      "2: 640x640 162.6ms\n",
      "Speed: 11.1ms preprocess, 162.6ms inference, 5.6ms postprocess per image at shape (1, 3, 640, 640)\n",
      "Results saved to \u001b[1mruns/obb/predict2\u001b[0m\n"
     ]
    }
   ],
   "source": [
    "img1 = 'yolo-bb/datasets/valid/images/cga_cacique_new_out_1_1_jpg.rf.499d809380b282bc35aa567a329787c2.jpg'\n",
    "img2 = 'yolo-bb/datasets/valid/images/cga_cacique_new_out_1_6_jpg.rf.07a1595320b0753168da949410943cfd.jpg'\n",
    "sn_img1 = 'data/jersey-2023/test/images/0/0_1.jpg'\n",
    "classes = [0, 1, 2, 3, 4, 5, 6, 7, 8, 9]\n",
    "# model.predict(img1, save=True, save_txt=True, conf=0.5, classes=classes)\n",
    "results = model.predict([img1, img2, sn_img1], save=True, conf=0.60)"
   ]
  },
  {
   "cell_type": "code",
   "execution_count": 4,
   "metadata": {},
   "outputs": [
    {
     "data": {
      "text/plain": [
       "ultralytics.engine.results.OBB object with attributes:\n",
       "\n",
       "cls: tensor([6., 1.])\n",
       "conf: tensor([0.9383, 0.9287])\n",
       "data: tensor([[38.4036, 56.2090, 25.7952, 16.5939,  1.5700,  0.9383,  6.0000],\n",
       "        [22.6396, 56.5604, 25.8356, 13.1163,  1.5712,  0.9287,  1.0000]])\n",
       "id: None\n",
       "is_track: False\n",
       "orig_shape: (184, 92)\n",
       "shape: torch.Size([2, 7])\n",
       "xywhr: tensor([[38.4036, 56.2090, 25.7952, 16.5939,  1.5700],\n",
       "        [22.6396, 56.5604, 25.8356, 13.1163,  1.5712]])\n",
       "xyxy: tensor([[30.0969, 43.3051, 46.7104, 69.1128],\n",
       "        [16.0756, 43.6396, 29.2035, 69.4811]])\n",
       "xyxyxyxy: tensor([[[30.1164, 69.1128],\n",
       "         [46.7104, 69.1003],\n",
       "         [46.6908, 43.3051],\n",
       "         [30.0969, 43.3177]],\n",
       "\n",
       "        [[16.0756, 69.4752],\n",
       "         [29.1919, 69.4811],\n",
       "         [29.2035, 43.6455],\n",
       "         [16.0873, 43.6396]]])\n",
       "xyxyxyxyn: tensor([[[0.3274, 0.3756],\n",
       "         [0.5077, 0.3755],\n",
       "         [0.5075, 0.2354],\n",
       "         [0.3271, 0.2354]],\n",
       "\n",
       "        [[0.1747, 0.3776],\n",
       "         [0.3173, 0.3776],\n",
       "         [0.3174, 0.2372],\n",
       "         [0.1749, 0.2372]]])"
      ]
     },
     "execution_count": 4,
     "metadata": {},
     "output_type": "execute_result"
    }
   ],
   "source": [
    "results[0].obb"
   ]
  },
  {
   "cell_type": "code",
   "execution_count": 26,
   "metadata": {},
   "outputs": [
    {
     "data": {
      "text/plain": [
       "(tensor([[0.3274, 0.3756],\n",
       "         [0.5077, 0.3755],\n",
       "         [0.5075, 0.2354],\n",
       "         [0.3271, 0.2354]]),\n",
       " (0.4174307584762573, 0.3054835796356201),\n",
       " 3,\n",
       " 2,\n",
       " 0,\n",
       " 0.4174307584762573)"
      ]
     },
     "execution_count": 26,
     "metadata": {},
     "output_type": "execute_result"
    }
   ],
   "source": [
    "import torch, heapq\n",
    "tmp = [23, 13, 25, 199]\n",
    "q, w, e = heapq.nlargest(3, range(len(tmp)), key=tmp.__getitem__)\n",
    "x = torch.Tensor([p[0] for p in results[0].obb.xyxyxyxyn[0,:]])\n",
    "y = torch.Tensor([p[1] for p in results[0].obb.xyxyxyxyn[0,:]])\n",
    "centroid = ((torch.sum(x) / 4).item(), (torch.sum(y) / 4).item())\n",
    "results[0].obb.xyxyxyxyn[0,:], centroid, q,w,e, centroid[0]"
   ]
  },
  {
   "cell_type": "markdown",
   "metadata": {},
   "source": [
    "# Code For SoccerNet dataset using YOLOv8"
   ]
  },
  {
   "cell_type": "code",
   "execution_count": 28,
   "metadata": {},
   "outputs": [],
   "source": [
    "%pwd\n",
    "%load_ext autoreload\n",
    "%autoreload 2"
   ]
  },
  {
   "cell_type": "code",
   "execution_count": 29,
   "metadata": {},
   "outputs": [],
   "source": [
    "import os, json, glob\n",
    "from ultralytics import YOLO\n",
    "from argparse import ArgumentParser\n",
    "\n",
    "# soccernet_train_path = 'data/jersey-2023/train'\n",
    "# soccernet_test_path = 'data/jersey-2023/test'\n",
    "# soccernet_challenge_path = 'data/jersey-2023/challenge'"
   ]
  },
  {
   "cell_type": "code",
   "execution_count": 30,
   "metadata": {},
   "outputs": [],
   "source": [
    "parser = ArgumentParser()\n",
    "parser.add_argument(\"--conf\", type=float, default=0.6)\n",
    "parser.add_argument(\"--mode\", type=str, default='train')\n",
    "parser.add_argument(\"--challenge\", action=\"store_true\")\n",
    "parser.add_argument(\"--threshold\", type=int, default=5)\n",
    "parser.add_argument(\"--input_path\", type=str, default='data/jersey-2023/train')\n",
    "parser.add_argument(\"--model_path\", type=str, default='yolo-bb/best-03-25.pt')\n",
    "# args = parser.parse_args()\n",
    "args, unknown = parser.parse_known_args()\n",
    "\n",
    "model = YOLO(args.model_path)"
   ]
  },
  {
   "cell_type": "code",
   "execution_count": 42,
   "metadata": {},
   "outputs": [
    {
     "name": "stdout",
     "output_type": "stream",
     "text": [
      "当下tracklet参与预测的图片数量:  100\n",
      "predicted:  tensor([0., 1.])\n",
      "path:  data/jersey-2023/train/images/1/1_9.jpg\n",
      "这里3\n",
      "max:  0\n",
      "final res:  10\n",
      "accuracy for train: 0.0%\n"
     ]
    }
   ],
   "source": [
    "from predict_soccernet import process_data\n",
    "\n",
    "process_data(model, args)\n",
    "\n"
   ]
  },
  {
   "cell_type": "code",
   "execution_count": 43,
   "metadata": {},
   "outputs": [
    {
     "name": "stdout",
     "output_type": "stream",
     "text": [
      "Results saved to \u001b[1mruns/obb/predict3\u001b[0m\n"
     ]
    }
   ],
   "source": [
    "res = model('data/jersey-2023/train/images/1/1_9.jpg', verbose=False, save=True)"
   ]
  },
  {
   "cell_type": "code",
   "execution_count": 44,
   "metadata": {},
   "outputs": [
    {
     "ename": "AttributeError",
     "evalue": "'list' object has no attribute 'obb'",
     "output_type": "error",
     "traceback": [
      "\u001b[0;31m---------------------------------------------------------------------------\u001b[0m",
      "\u001b[0;31mAttributeError\u001b[0m                            Traceback (most recent call last)",
      "Cell \u001b[0;32mIn[44], line 1\u001b[0m\n\u001b[0;32m----> 1\u001b[0m \u001b[43mres\u001b[49m\u001b[38;5;241;43m.\u001b[39;49m\u001b[43mobb\u001b[49m\n",
      "\u001b[0;31mAttributeError\u001b[0m: 'list' object has no attribute 'obb'"
     ]
    }
   ],
   "source": [
    "res[0].obb"
   ]
  }
 ],
 "metadata": {
  "kernelspec": {
   "display_name": "sn-jersey",
   "language": "python",
   "name": "python3"
  },
  "language_info": {
   "codemirror_mode": {
    "name": "ipython",
    "version": 3
   },
   "file_extension": ".py",
   "mimetype": "text/x-python",
   "name": "python",
   "nbconvert_exporter": "python",
   "pygments_lexer": "ipython3",
   "version": "3.10.0"
  }
 },
 "nbformat": 4,
 "nbformat_minor": 2
}
