{
 "cells": [
  {
   "cell_type": "markdown",
   "metadata": {},
   "source": [
    "# Download dataset"
   ]
  },
  {
   "cell_type": "code",
   "execution_count": 2,
   "metadata": {},
   "outputs": [
    {
     "name": "stdout",
     "output_type": "stream",
     "text": [
      "Collecting SoccerNet\n",
      "  Downloading SoccerNet-0.1.56-py3-none-any.whl.metadata (12 kB)\n",
      "Requirement already satisfied: tqdm in /nfs/turbo/justincj-turbo/chrenx/anaconda/envs/soccernet/lib/python3.10/site-packages (from SoccerNet) (4.66.2)\n",
      "Collecting scikit-video (from SoccerNet)\n",
      "  Downloading scikit_video-1.1.11-py2.py3-none-any.whl.metadata (1.1 kB)\n",
      "Requirement already satisfied: matplotlib in /nfs/turbo/justincj-turbo/chrenx/anaconda/envs/soccernet/lib/python3.10/site-packages (from SoccerNet) (3.8.3)\n",
      "Collecting google-measurement-protocol (from SoccerNet)\n",
      "  Downloading google_measurement_protocol-1.1.0-py2.py3-none-any.whl.metadata (845 bytes)\n",
      "Collecting pycocoevalcap (from SoccerNet)\n",
      "  Downloading pycocoevalcap-1.2-py3-none-any.whl.metadata (3.2 kB)\n",
      "Requirement already satisfied: requests<3.0a0,>=2.0 in /nfs/turbo/justincj-turbo/chrenx/anaconda/envs/soccernet/lib/python3.10/site-packages (from google-measurement-protocol->SoccerNet) (2.31.0)\n",
      "Collecting prices>=1.0.0 (from google-measurement-protocol->SoccerNet)\n",
      "  Downloading prices-1.1.1-py3-none-any.whl.metadata (2.8 kB)\n",
      "Requirement already satisfied: contourpy>=1.0.1 in /nfs/turbo/justincj-turbo/chrenx/anaconda/envs/soccernet/lib/python3.10/site-packages (from matplotlib->SoccerNet) (1.2.0)\n",
      "Requirement already satisfied: cycler>=0.10 in /nfs/turbo/justincj-turbo/chrenx/anaconda/envs/soccernet/lib/python3.10/site-packages (from matplotlib->SoccerNet) (0.12.1)\n",
      "Requirement already satisfied: fonttools>=4.22.0 in /nfs/turbo/justincj-turbo/chrenx/anaconda/envs/soccernet/lib/python3.10/site-packages (from matplotlib->SoccerNet) (4.49.0)\n",
      "Requirement already satisfied: kiwisolver>=1.3.1 in /nfs/turbo/justincj-turbo/chrenx/anaconda/envs/soccernet/lib/python3.10/site-packages (from matplotlib->SoccerNet) (1.4.5)\n",
      "Requirement already satisfied: numpy<2,>=1.21 in /nfs/turbo/justincj-turbo/chrenx/anaconda/envs/soccernet/lib/python3.10/site-packages (from matplotlib->SoccerNet) (1.24.3)\n",
      "Requirement already satisfied: packaging>=20.0 in /nfs/turbo/justincj-turbo/chrenx/anaconda/envs/soccernet/lib/python3.10/site-packages (from matplotlib->SoccerNet) (24.0)\n",
      "Requirement already satisfied: pillow>=8 in /nfs/turbo/justincj-turbo/chrenx/anaconda/envs/soccernet/lib/python3.10/site-packages (from matplotlib->SoccerNet) (10.2.0)\n",
      "Requirement already satisfied: pyparsing>=2.3.1 in /nfs/turbo/justincj-turbo/chrenx/anaconda/envs/soccernet/lib/python3.10/site-packages (from matplotlib->SoccerNet) (3.1.2)\n",
      "Requirement already satisfied: python-dateutil>=2.7 in /nfs/turbo/justincj-turbo/chrenx/anaconda/envs/soccernet/lib/python3.10/site-packages (from matplotlib->SoccerNet) (2.9.0)\n",
      "Collecting pycocotools>=2.0.2 (from pycocoevalcap->SoccerNet)\n",
      "  Using cached pycocotools-2.0.7-cp310-cp310-manylinux_2_17_x86_64.manylinux2014_x86_64.whl.metadata (1.1 kB)\n",
      "Requirement already satisfied: scipy in /nfs/turbo/justincj-turbo/chrenx/anaconda/envs/soccernet/lib/python3.10/site-packages (from scikit-video->SoccerNet) (1.12.0)\n",
      "Collecting babel>=2.5.0 (from prices>=1.0.0->google-measurement-protocol->SoccerNet)\n",
      "  Using cached Babel-2.14.0-py3-none-any.whl.metadata (1.6 kB)\n",
      "Requirement already satisfied: six>=1.5 in /nfs/turbo/justincj-turbo/chrenx/anaconda/envs/soccernet/lib/python3.10/site-packages (from python-dateutil>=2.7->matplotlib->SoccerNet) (1.16.0)\n",
      "Requirement already satisfied: charset-normalizer<4,>=2 in /nfs/turbo/justincj-turbo/chrenx/anaconda/envs/soccernet/lib/python3.10/site-packages (from requests<3.0a0,>=2.0->google-measurement-protocol->SoccerNet) (2.0.4)\n",
      "Requirement already satisfied: idna<4,>=2.5 in /nfs/turbo/justincj-turbo/chrenx/anaconda/envs/soccernet/lib/python3.10/site-packages (from requests<3.0a0,>=2.0->google-measurement-protocol->SoccerNet) (3.4)\n",
      "Requirement already satisfied: urllib3<3,>=1.21.1 in /nfs/turbo/justincj-turbo/chrenx/anaconda/envs/soccernet/lib/python3.10/site-packages (from requests<3.0a0,>=2.0->google-measurement-protocol->SoccerNet) (2.1.0)\n",
      "Requirement already satisfied: certifi>=2017.4.17 in /nfs/turbo/justincj-turbo/chrenx/anaconda/envs/soccernet/lib/python3.10/site-packages (from requests<3.0a0,>=2.0->google-measurement-protocol->SoccerNet) (2024.2.2)\n",
      "Downloading SoccerNet-0.1.56-py3-none-any.whl (85 kB)\n",
      "\u001b[2K   \u001b[90m━━━━━━━━━━━━━━━━━━━━━━━━━━━━━━━━━━━━━━━━\u001b[0m \u001b[32m85.2/85.2 kB\u001b[0m \u001b[31m1.7 MB/s\u001b[0m eta \u001b[36m0:00:00\u001b[0ma \u001b[36m0:00:01\u001b[0m\n",
      "\u001b[?25hUsing cached google_measurement_protocol-1.1.0-py2.py3-none-any.whl (5.9 kB)\n",
      "Using cached pycocoevalcap-1.2-py3-none-any.whl (104.3 MB)\n",
      "Using cached scikit_video-1.1.11-py2.py3-none-any.whl (2.3 MB)\n",
      "Using cached prices-1.1.1-py3-none-any.whl (9.5 kB)\n",
      "Using cached pycocotools-2.0.7-cp310-cp310-manylinux_2_17_x86_64.manylinux2014_x86_64.whl (426 kB)\n",
      "Using cached Babel-2.14.0-py3-none-any.whl (11.0 MB)\n",
      "Installing collected packages: babel, scikit-video, prices, pycocotools, google-measurement-protocol, pycocoevalcap, SoccerNet\n",
      "Successfully installed SoccerNet-0.1.56 babel-2.14.0 google-measurement-protocol-1.1.0 prices-1.1.1 pycocoevalcap-1.2 pycocotools-2.0.7 scikit-video-1.1.11\n"
     ]
    }
   ],
   "source": [
    "!pip install SoccerNet"
   ]
  },
  {
   "cell_type": "code",
   "execution_count": 3,
   "metadata": {},
   "outputs": [
    {
     "name": "stdout",
     "output_type": "stream",
     "text": [
      "[Errno 2] No such file or directory: 'data/jersey-2023/'\n",
      "/home/chrenx/eecs545-sn-jersey/data/jersey-2023\n"
     ]
    },
    {
     "name": "stderr",
     "output_type": "stream",
     "text": [
      "Downloading ./data/jersey-2023/train.zip...: : 1.25GiB [01:04, 19.2MiB/s]                          \n",
      "Downloading ./data/jersey-2023/test.zip...: : 1.07GiB [01:10, 15.3MiB/s]                          \n",
      "Downloading ./data/jersey-2023/challenge.zip...: : 1.25GiB [01:18, 15.9MiB/s]                          \n"
     ]
    }
   ],
   "source": [
    "%cd data/jersey-2023/\n",
    "\n",
    "from SoccerNet.Downloader import SoccerNetDownloader as SNdl\n",
    "\n",
    "mySNdl = SNdl(LocalDirectory=\"./data\")\n",
    "mySNdl.downloadDataTask(task=\"jersey-2023\", split=[\"train\",\"test\",\"challenge\"])"
   ]
  },
  {
   "cell_type": "code",
   "execution_count": 4,
   "metadata": {},
   "outputs": [],
   "source": [
    "import torchvision.datasets as datasets\n",
    "import torchvision.transforms as transforms\n",
    "import torch"
   ]
  },
  {
   "cell_type": "code",
   "execution_count": 11,
   "metadata": {},
   "outputs": [],
   "source": [
    "normalize = transforms.Normalize(mean=[0.485, 0.456, 0.406],\n",
    "                                         std=[0.229, 0.224, 0.225])\n",
    "train_dataset = datasets.ImageFolder(\n",
    "        \"testing/tiny-imagenet-200\",\n",
    "        transforms.Compose([\n",
    "            transforms.RandomResizedCrop(32),\n",
    "            transforms.RandomHorizontalFlip(),\n",
    "            transforms.ToTensor(),\n",
    "            normalize,\n",
    "        ]))\n",
    "\n",
    "train_loader = torch.utils.data.DataLoader(\n",
    "        train_dataset, batch_size=64, shuffle=True,\n",
    "        num_workers=1, pin_memory=True)"
   ]
  },
  {
   "cell_type": "code",
   "execution_count": 12,
   "metadata": {},
   "outputs": [
    {
     "data": {
      "text/plain": [
       "(torch.Size([64, 3, 32, 32]), torch.Size([64]))"
      ]
     },
     "execution_count": 12,
     "metadata": {},
     "output_type": "execute_result"
    }
   ],
   "source": [
    "a = next(iter(train_loader))   \n",
    "a[0].shape, a[1].shape"
   ]
  },
  {
   "cell_type": "markdown",
   "metadata": {},
   "source": [
    "# Testing"
   ]
  },
  {
   "cell_type": "code",
   "execution_count": 55,
   "metadata": {},
   "outputs": [
    {
     "name": "stdout",
     "output_type": "stream",
     "text": [
      "The autoreload extension is already loaded. To reload it, use:\n",
      "  %reload_ext autoreload\n"
     ]
    }
   ],
   "source": [
    "%load_ext autoreload\n",
    "%autoreload 2"
   ]
  },
  {
   "cell_type": "code",
   "execution_count": 56,
   "metadata": {},
   "outputs": [],
   "source": [
    "import torch\n",
    "from model.mnist_network import MnistPadding\n",
    "import torchvision\n",
    "from torchvision import transforms\n",
    "from torchvision.io import read_image\n",
    "import matplotlib.pyplot as plt\n",
    "\n",
    "device = \"cuda\" if torch.cuda.is_available() else \"cpu\""
   ]
  },
  {
   "cell_type": "code",
   "execution_count": 3,
   "metadata": {},
   "outputs": [
    {
     "data": {
      "text/plain": [
       "<All keys matched successfully>"
      ]
     },
     "execution_count": 3,
     "metadata": {},
     "output_type": "execute_result"
    }
   ],
   "source": [
    "model = MnistPadding().to(device)  # B, C, 210, 210\n",
    "\n",
    "ckpt = torch.load(\"mnist/mnist_model_padding_ckpt_E9.pth\")\n",
    "model.load_state_dict(ckpt['model_state_dict'])\n"
   ]
  },
  {
   "cell_type": "code",
   "execution_count": 84,
   "metadata": {},
   "outputs": [],
   "source": [
    "transform = transforms.Compose([\n",
    "\n",
    "    # transforms.CenterCrop(26),\n",
    "    # transforms.Resize((150,150)),\n",
    "    # transforms.Resize((250, 250)),\n",
    "    # transforms.Pad(80),\n",
    "    transforms.ColorJitter(brightness=0.05, contrast=0.05, saturation=0.05, hue=0.05),\n",
    "    transforms.Grayscale(1),\n",
    "    # transforms.RandomRotation(10),      \n",
    "    # transforms.RandomAffine(5),\n",
    "    # transforms.RandomPerspective(distortion_scale=0.65, p=0.8),\n",
    "    # transforms.ElasticTransform(),\n",
    "    # transforms.GaussianBlur(kernel_size=(3,3)),\n",
    "    transforms.Resize((64,64)),\n",
    "\n",
    "    # convert the image to a pytorch tensor\n",
    "    # transforms.ToTensor(), \n",
    "\n",
    "# # normalise the images with mean and std of the dataset\n",
    "# transforms.Normalize((0.1307,), (0.3081,)) \n",
    "])"
   ]
  },
  {
   "cell_type": "code",
   "execution_count": 87,
   "metadata": {},
   "outputs": [
    {
     "data": {
      "text/plain": [
       "(<matplotlib.image.AxesImage at 0x795df5cf6590>, torch.Size([3, 92, 36]))"
      ]
     },
     "execution_count": 87,
     "metadata": {},
     "output_type": "execute_result"
    },
    {
     "data": {
      "image/png": "[encoded data removed]",
      "text/plain": [
       "<Figure size 640x480 with 1 Axes>"
      ]
     },
     "metadata": {},
     "output_type": "display_data"
    }
   ],
   "source": [
    "# img_dir = \"data/jersey-2023/train/images/6/6_350.jpg\"   # 8\n",
    "# img_dir = \"data/jersey-2023/train/images/9/9_51.jpg\"    # -1\n",
    "# img_dir = \"data/jersey-2023/train/images/2/2_8.jpg\"   #   27\n",
    "# img_dir = \"data/jersey-2023/train/images/6/6_345.jpg\"  # 8\n",
    "# img_dir = \"data/jersey-2023/train/images/10/10_26.jpg\"  # 3\n",
    "img_dir = \"data/jersey-2023/train/images/20/20_201.jpg\"  # 4\n",
    "\n",
    "ori_img = read_image(img_dir)\n",
    "plt.imshow(ori_img.permute(1,2,0)), ori_img.shape"
   ]
  },
  {
   "cell_type": "code",
   "execution_count": 81,
   "metadata": {},
   "outputs": [
    {
     "data": {
      "text/plain": [
       "(torch.Size([1, 64, 64]), torch.float32, device(type='cuda', index=0))"
      ]
     },
     "execution_count": 81,
     "metadata": {},
     "output_type": "execute_result"
    },
    {
     "data": {
      "image/png": "[encoded data removed]",
      "text/plain": [
       "<Figure size 640x480 with 1 Axes>"
      ]
     },
     "metadata": {},
     "output_type": "display_data"
    }
   ],
   "source": [
    "img_dir = \"data/jersey-2023/train/images/6/6_350.jpg\"   # 8\n",
    "# img_dir = \"data/jersey-2023/train/images/9/9_51.jpg\"    # -1\n",
    "# img_dir = \"data/jersey-2023/train/images/2/2_8.jpg\"   #   27\n",
    "# img_dir = \"data/jersey-2023/train/images/6/6_345.jpg\"  # 8\n",
    "# img_dir = \"data/jersey-2023/train/images/10/10_26.jpg\"  # 3\n",
    "# img_dir = \"data/jersey-2023/train/images/20/20_201.jpg\"  # 4\n",
    "\n",
    "ori_img = read_image(img_dir)\n",
    "img = transform(ori_img)\n",
    "img = img.float()\n",
    "plt.imshow(img.permute(1,2,0), cmap='gray')\n",
    "img = img.to(device)\n",
    "img.shape, img.dtype, img.device"
   ]
  },
  {
   "cell_type": "code",
   "execution_count": 54,
   "metadata": {},
   "outputs": [
    {
     "name": "stdout",
     "output_type": "stream",
     "text": [
      "tensor([[-316.2349, -787.7780, -322.0289, -458.9216, -224.8711, -299.7875,\n",
      "         -272.8350, -516.2353,    0.0000, -303.0577]], device='cuda:0')\n",
      "tensor([[8]], device='cuda:0')\n"
     ]
    }
   ],
   "source": [
    "\n",
    "model.eval()\n",
    "with torch.no_grad():\n",
    "    output = model(img.unsqueeze(0))\n",
    "    pred = output.argmax(dim=1, keepdim=True)\n",
    "    print(output)\n",
    "    print(pred)"
   ]
  },
  {
   "cell_type": "code",
   "execution_count": 65,
   "metadata": {},
   "outputs": [
    {
     "name": "stdout",
     "output_type": "stream",
     "text": [
      "Number of parameters: 8990410\n"
     ]
    }
   ],
   "source": [
    "total_params = sum(p.numel() for p in model.parameters())\n",
    "print(f\"Number of parameters: {total_params}\")"
   ]
  },
  {
   "cell_type": "code",
   "execution_count": 57,
   "metadata": {},
   "outputs": [
    {
     "data": {
      "text/plain": [
       "MnistDistorted28(\n",
       "  (conv11): Conv2d(1, 16, kernel_size=(3, 3), stride=(1, 1))\n",
       "  (conv12): Conv2d(1, 16, kernel_size=(5, 5), stride=(1, 1))\n",
       "  (conv13): Conv2d(1, 16, kernel_size=(7, 7), stride=(1, 1))\n",
       "  (conv14): Conv2d(1, 16, kernel_size=(9, 9), stride=(1, 1))\n",
       "  (conv21): Conv2d(16, 32, kernel_size=(3, 3), stride=(1, 1))\n",
       "  (conv22): Conv2d(16, 32, kernel_size=(5, 5), stride=(1, 1))\n",
       "  (conv23): Conv2d(16, 32, kernel_size=(7, 7), stride=(1, 1))\n",
       "  (conv24): Conv2d(16, 32, kernel_size=(9, 9), stride=(1, 1))\n",
       "  (conv31): Conv2d(32, 64, kernel_size=(3, 3), stride=(1, 1))\n",
       "  (conv32): Conv2d(32, 64, kernel_size=(5, 5), stride=(1, 1))\n",
       "  (conv33): Conv2d(32, 64, kernel_size=(7, 7), stride=(1, 1))\n",
       "  (conv34): Conv2d(32, 64, kernel_size=(9, 9), stride=(1, 1))\n",
       "  (maxpool): MaxPool2d(kernel_size=2, stride=2, padding=0, dilation=1, ceil_mode=False)\n",
       "  (dropout1): Dropout(p=0.25, inplace=False)\n",
       "  (dropout2): Dropout(p=0.5, inplace=False)\n",
       "  (fc11): Linear(in_features=7744, out_features=256, bias=True)\n",
       "  (fc12): Linear(in_features=4096, out_features=256, bias=True)\n",
       "  (fc13): Linear(in_features=1600, out_features=256, bias=True)\n",
       "  (fc14): Linear(in_features=256, out_features=256, bias=True)\n",
       "  (fc21): Linear(in_features=256, out_features=128, bias=True)\n",
       "  (fc22): Linear(in_features=256, out_features=128, bias=True)\n",
       "  (fc23): Linear(in_features=256, out_features=128, bias=True)\n",
       "  (fc24): Linear(in_features=256, out_features=128, bias=True)\n",
       "  (fc33): Linear(in_features=512, out_features=10, bias=True)\n",
       ")"
      ]
     },
     "execution_count": 57,
     "metadata": {},
     "output_type": "execute_result"
    }
   ],
   "source": [
    "from model.mnist_network import MnistDistorted28\n",
    "\n",
    "mnist_distorted28 = MnistDistorted28()\n",
    "\n",
    "ckpt = torch.load(\"mnist/mnist_model_distored28_ckpt_E99.pth\")\n",
    "mnist_distorted28.load_state_dict(ckpt['model_state_dict'])\n",
    "mnist_distorted28.to(device)\n"
   ]
  },
  {
   "cell_type": "code",
   "execution_count": 66,
   "metadata": {},
   "outputs": [
    {
     "data": {
      "text/plain": [
       "(torch.Size([1, 28, 28]), torch.float32, device(type='cuda', index=0))"
      ]
     },
     "execution_count": 66,
     "metadata": {},
     "output_type": "execute_result"
    },
    {
     "data": {
      "image/png": "[encoded data removed]",
      "text/plain": [
       "<Figure size 640x480 with 1 Axes>"
      ]
     },
     "metadata": {},
     "output_type": "display_data"
    }
   ],
   "source": [
    "transform = transforms.Compose([\n",
    "\n",
    "    # transforms.CenterCrop(50),\n",
    "    # transforms.Resize((150,150)),\n",
    "    # transforms.Resize((250, 250)),\n",
    "    # transforms.Pad(80),\n",
    "    transforms.ColorJitter(brightness=0.05, contrast=0.05, saturation=0.05, hue=0.05),\n",
    "    transforms.Grayscale(1),\n",
    "    # transforms.RandomRotation(10),      \n",
    "    # transforms.RandomAffine(5),\n",
    "    # transforms.RandomPerspective(distortion_scale=0.65, p=0.8),\n",
    "    # transforms.ElasticTransform(),\n",
    "    # transforms.GaussianBlur(kernel_size=(3,3)),\n",
    "    transforms.Resize((28,28)),\n",
    "\n",
    "    # convert the image to a pytorch tensor\n",
    "    # transforms.ToTensor(), \n",
    "\n",
    "# # normalise the images with mean and std of the dataset\n",
    "# transforms.Normalize((0.1307,), (0.3081,)) \n",
    "])\n",
    "img_dir = \"data/jersey-2023/train/images/6/6_350.jpg\"   # 8\n",
    "# img_dir = \"data/jersey-2023/train/images/9/9_51.jpg\"    # -1\n",
    "# img_dir = \"data/jersey-2023/train/images/2/2_8.jpg\"   #   27\n",
    "# img_dir = \"data/jersey-2023/train/images/6/6_345.jpg\"  # 8\n",
    "# img_dir = \"data/jersey-2023/train/images/10/10_26.jpg\"  # 3\n",
    "# img_dir = \"data/jersey-2023/train/images/20/20_201.jpg\"  # 4\n",
    "\n",
    "ori_img = read_image(img_dir)\n",
    "img = transform(ori_img)\n",
    "img = img.float()\n",
    "plt.imshow(img.permute(1,2,0), cmap='gray')\n",
    "img = img.to(device)\n",
    "img.shape, img.dtype, img.device"
   ]
  },
  {
   "cell_type": "code",
   "execution_count": 67,
   "metadata": {},
   "outputs": [
    {
     "name": "stdout",
     "output_type": "stream",
     "text": [
      "tensor([[   0.0000, -271.0093, -628.9890, -735.0399, -619.6136, -664.5666,\n",
      "         -970.2014, -513.9344, -556.1673, -499.3082]], device='cuda:0')\n",
      "tensor([[0]], device='cuda:0')\n"
     ]
    }
   ],
   "source": [
    "mnist_distorted28.eval()\n",
    "with torch.no_grad():\n",
    "    output = mnist_distorted28(img.unsqueeze(0))\n",
    "    pred = output.argmax(dim=1, keepdim=True)\n",
    "    print(output)\n",
    "    print(pred)"
   ]
  },
  {
   "cell_type": "markdown",
   "metadata": {},
   "source": [
    "# Testing EfficientNet"
   ]
  },
  {
   "cell_type": "code",
   "execution_count": 68,
   "metadata": {},
   "outputs": [
    {
     "name": "stdout",
     "output_type": "stream",
     "text": [
      "Using cuda for inference\n"
     ]
    }
   ],
   "source": [
    "import torch\n",
    "from PIL import Image\n",
    "import torchvision.transforms as transforms\n",
    "import numpy as np\n",
    "import json\n",
    "import requests\n",
    "import matplotlib.pyplot as plt\n",
    "import warnings\n",
    "warnings.filterwarnings('ignore')\n",
    "%matplotlib inline\n",
    "\n",
    "device = torch.device(\"cuda\") if torch.cuda.is_available() else torch.device(\"cpu\")\n",
    "print(f'Using {device} for inference')\n"
   ]
  },
  {
   "cell_type": "code",
   "execution_count": 69,
   "metadata": {},
   "outputs": [
    {
     "name": "stderr",
     "output_type": "stream",
     "text": [
      "Downloading: \"https://github.com/NVIDIA/DeepLearningExamples/zipball/torchhub\" to /home/chrenx/.cache/torch/hub/torchhub.zip\n",
      "Downloading: \"https://api.ngc.nvidia.com/v2/models/nvidia/efficientnet_b0_pyt_amp/versions/20.12.0/files/nvidia_efficientnet-b0_210412.pth\" to /home/chrenx/.cache/torch/hub/checkpoints/nvidia_efficientnet-b0_210412.pth\n",
      "100.0%\n",
      "Using cache found in /home/chrenx/.cache/torch/hub/NVIDIA_DeepLearningExamples_torchhub\n"
     ]
    },
    {
     "data": {
      "text/plain": [
       "EfficientNet(\n",
       "  (stem): Sequential(\n",
       "    (conv): Conv2d(3, 32, kernel_size=(3, 3), stride=(2, 2), padding=(1, 1), bias=False)\n",
       "    (bn): BatchNorm2d(32, eps=0.001, momentum=0.010000000000000009, affine=True, track_running_stats=True)\n",
       "    (activation): SiLU(inplace=True)\n",
       "  )\n",
       "  (layers): Sequential(\n",
       "    (0): Sequential(\n",
       "      (block0): MBConvBlock(\n",
       "        (depsep): Sequential(\n",
       "          (conv): Conv2d(32, 32, kernel_size=(3, 3), stride=(1, 1), padding=(1, 1), groups=32, bias=False)\n",
       "          (bn): BatchNorm2d(32, eps=0.001, momentum=0.010000000000000009, affine=True, track_running_stats=True)\n",
       "          (act): SiLU(inplace=True)\n",
       "        )\n",
       "        (se): SequentialSqueezeAndExcitation(\n",
       "          (squeeze): Linear(in_features=32, out_features=8, bias=True)\n",
       "          (expand): Linear(in_features=8, out_features=32, bias=True)\n",
       "          (activation): SiLU(inplace=True)\n",
       "          (sigmoid): Sigmoid()\n",
       "          (mul_a_quantizer): Identity()\n",
       "          (mul_b_quantizer): Identity()\n",
       "        )\n",
       "        (proj): Sequential(\n",
       "          (conv): Conv2d(32, 16, kernel_size=(1, 1), stride=(1, 1), bias=False)\n",
       "          (bn): BatchNorm2d(16, eps=0.001, momentum=0.010000000000000009, affine=True, track_running_stats=True)\n",
       "        )\n",
       "        (residual_quantizer): Identity()\n",
       "      )\n",
       "    )\n",
       "    (1): Sequential(\n",
       "      (block0): MBConvBlock(\n",
       "        (expand): Sequential(\n",
       "          (conv): Conv2d(16, 96, kernel_size=(1, 1), stride=(1, 1), bias=False)\n",
       "          (bn): BatchNorm2d(96, eps=0.001, momentum=0.010000000000000009, affine=True, track_running_stats=True)\n",
       "          (act): SiLU(inplace=True)\n",
       "        )\n",
       "        (depsep): Sequential(\n",
       "          (conv): Conv2d(96, 96, kernel_size=(3, 3), stride=(2, 2), padding=(1, 1), groups=96, bias=False)\n",
       "          (bn): BatchNorm2d(96, eps=0.001, momentum=0.010000000000000009, affine=True, track_running_stats=True)\n",
       "          (act): SiLU(inplace=True)\n",
       "        )\n",
       "        (se): SequentialSqueezeAndExcitation(\n",
       "          (squeeze): Linear(in_features=96, out_features=4, bias=True)\n",
       "          (expand): Linear(in_features=4, out_features=96, bias=True)\n",
       "          (activation): SiLU(inplace=True)\n",
       "          (sigmoid): Sigmoid()\n",
       "          (mul_a_quantizer): Identity()\n",
       "          (mul_b_quantizer): Identity()\n",
       "        )\n",
       "        (proj): Sequential(\n",
       "          (conv): Conv2d(96, 24, kernel_size=(1, 1), stride=(1, 1), bias=False)\n",
       "          (bn): BatchNorm2d(24, eps=0.001, momentum=0.010000000000000009, affine=True, track_running_stats=True)\n",
       "        )\n",
       "        (residual_quantizer): Identity()\n",
       "      )\n",
       "      (block1): MBConvBlock(\n",
       "        (expand): Sequential(\n",
       "          (conv): Conv2d(24, 144, kernel_size=(1, 1), stride=(1, 1), bias=False)\n",
       "          (bn): BatchNorm2d(144, eps=0.001, momentum=0.010000000000000009, affine=True, track_running_stats=True)\n",
       "          (act): SiLU(inplace=True)\n",
       "        )\n",
       "        (depsep): Sequential(\n",
       "          (conv): Conv2d(144, 144, kernel_size=(3, 3), stride=(1, 1), padding=(1, 1), groups=144, bias=False)\n",
       "          (bn): BatchNorm2d(144, eps=0.001, momentum=0.010000000000000009, affine=True, track_running_stats=True)\n",
       "          (act): SiLU(inplace=True)\n",
       "        )\n",
       "        (se): SequentialSqueezeAndExcitation(\n",
       "          (squeeze): Linear(in_features=144, out_features=6, bias=True)\n",
       "          (expand): Linear(in_features=6, out_features=144, bias=True)\n",
       "          (activation): SiLU(inplace=True)\n",
       "          (sigmoid): Sigmoid()\n",
       "          (mul_a_quantizer): Identity()\n",
       "          (mul_b_quantizer): Identity()\n",
       "        )\n",
       "        (proj): Sequential(\n",
       "          (conv): Conv2d(144, 24, kernel_size=(1, 1), stride=(1, 1), bias=False)\n",
       "          (bn): BatchNorm2d(24, eps=0.001, momentum=0.010000000000000009, affine=True, track_running_stats=True)\n",
       "        )\n",
       "        (residual_quantizer): Identity()\n",
       "      )\n",
       "    )\n",
       "    (2): Sequential(\n",
       "      (block0): MBConvBlock(\n",
       "        (expand): Sequential(\n",
       "          (conv): Conv2d(24, 144, kernel_size=(1, 1), stride=(1, 1), bias=False)\n",
       "          (bn): BatchNorm2d(144, eps=0.001, momentum=0.010000000000000009, affine=True, track_running_stats=True)\n",
       "          (act): SiLU(inplace=True)\n",
       "        )\n",
       "        (depsep): Sequential(\n",
       "          (conv): Conv2d(144, 144, kernel_size=(5, 5), stride=(2, 2), padding=(2, 2), groups=144, bias=False)\n",
       "          (bn): BatchNorm2d(144, eps=0.001, momentum=0.010000000000000009, affine=True, track_running_stats=True)\n",
       "          (act): SiLU(inplace=True)\n",
       "        )\n",
       "        (se): SequentialSqueezeAndExcitation(\n",
       "          (squeeze): Linear(in_features=144, out_features=6, bias=True)\n",
       "          (expand): Linear(in_features=6, out_features=144, bias=True)\n",
       "          (activation): SiLU(inplace=True)\n",
       "          (sigmoid): Sigmoid()\n",
       "          (mul_a_quantizer): Identity()\n",
       "          (mul_b_quantizer): Identity()\n",
       "        )\n",
       "        (proj): Sequential(\n",
       "          (conv): Conv2d(144, 40, kernel_size=(1, 1), stride=(1, 1), bias=False)\n",
       "          (bn): BatchNorm2d(40, eps=0.001, momentum=0.010000000000000009, affine=True, track_running_stats=True)\n",
       "        )\n",
       "        (residual_quantizer): Identity()\n",
       "      )\n",
       "      (block1): MBConvBlock(\n",
       "        (expand): Sequential(\n",
       "          (conv): Conv2d(40, 240, kernel_size=(1, 1), stride=(1, 1), bias=False)\n",
       "          (bn): BatchNorm2d(240, eps=0.001, momentum=0.010000000000000009, affine=True, track_running_stats=True)\n",
       "          (act): SiLU(inplace=True)\n",
       "        )\n",
       "        (depsep): Sequential(\n",
       "          (conv): Conv2d(240, 240, kernel_size=(5, 5), stride=(1, 1), padding=(2, 2), groups=240, bias=False)\n",
       "          (bn): BatchNorm2d(240, eps=0.001, momentum=0.010000000000000009, affine=True, track_running_stats=True)\n",
       "          (act): SiLU(inplace=True)\n",
       "        )\n",
       "        (se): SequentialSqueezeAndExcitation(\n",
       "          (squeeze): Linear(in_features=240, out_features=10, bias=True)\n",
       "          (expand): Linear(in_features=10, out_features=240, bias=True)\n",
       "          (activation): SiLU(inplace=True)\n",
       "          (sigmoid): Sigmoid()\n",
       "          (mul_a_quantizer): Identity()\n",
       "          (mul_b_quantizer): Identity()\n",
       "        )\n",
       "        (proj): Sequential(\n",
       "          (conv): Conv2d(240, 40, kernel_size=(1, 1), stride=(1, 1), bias=False)\n",
       "          (bn): BatchNorm2d(40, eps=0.001, momentum=0.010000000000000009, affine=True, track_running_stats=True)\n",
       "        )\n",
       "        (residual_quantizer): Identity()\n",
       "      )\n",
       "    )\n",
       "    (3): Sequential(\n",
       "      (block0): MBConvBlock(\n",
       "        (expand): Sequential(\n",
       "          (conv): Conv2d(40, 240, kernel_size=(1, 1), stride=(1, 1), bias=False)\n",
       "          (bn): BatchNorm2d(240, eps=0.001, momentum=0.010000000000000009, affine=True, track_running_stats=True)\n",
       "          (act): SiLU(inplace=True)\n",
       "        )\n",
       "        (depsep): Sequential(\n",
       "          (conv): Conv2d(240, 240, kernel_size=(3, 3), stride=(2, 2), padding=(1, 1), groups=240, bias=False)\n",
       "          (bn): BatchNorm2d(240, eps=0.001, momentum=0.010000000000000009, affine=True, track_running_stats=True)\n",
       "          (act): SiLU(inplace=True)\n",
       "        )\n",
       "        (se): SequentialSqueezeAndExcitation(\n",
       "          (squeeze): Linear(in_features=240, out_features=10, bias=True)\n",
       "          (expand): Linear(in_features=10, out_features=240, bias=True)\n",
       "          (activation): SiLU(inplace=True)\n",
       "          (sigmoid): Sigmoid()\n",
       "          (mul_a_quantizer): Identity()\n",
       "          (mul_b_quantizer): Identity()\n",
       "        )\n",
       "        (proj): Sequential(\n",
       "          (conv): Conv2d(240, 80, kernel_size=(1, 1), stride=(1, 1), bias=False)\n",
       "          (bn): BatchNorm2d(80, eps=0.001, momentum=0.010000000000000009, affine=True, track_running_stats=True)\n",
       "        )\n",
       "        (residual_quantizer): Identity()\n",
       "      )\n",
       "      (block1): MBConvBlock(\n",
       "        (expand): Sequential(\n",
       "          (conv): Conv2d(80, 480, kernel_size=(1, 1), stride=(1, 1), bias=False)\n",
       "          (bn): BatchNorm2d(480, eps=0.001, momentum=0.010000000000000009, affine=True, track_running_stats=True)\n",
       "          (act): SiLU(inplace=True)\n",
       "        )\n",
       "        (depsep): Sequential(\n",
       "          (conv): Conv2d(480, 480, kernel_size=(3, 3), stride=(1, 1), padding=(1, 1), groups=480, bias=False)\n",
       "          (bn): BatchNorm2d(480, eps=0.001, momentum=0.010000000000000009, affine=True, track_running_stats=True)\n",
       "          (act): SiLU(inplace=True)\n",
       "        )\n",
       "        (se): SequentialSqueezeAndExcitation(\n",
       "          (squeeze): Linear(in_features=480, out_features=20, bias=True)\n",
       "          (expand): Linear(in_features=20, out_features=480, bias=True)\n",
       "          (activation): SiLU(inplace=True)\n",
       "          (sigmoid): Sigmoid()\n",
       "          (mul_a_quantizer): Identity()\n",
       "          (mul_b_quantizer): Identity()\n",
       "        )\n",
       "        (proj): Sequential(\n",
       "          (conv): Conv2d(480, 80, kernel_size=(1, 1), stride=(1, 1), bias=False)\n",
       "          (bn): BatchNorm2d(80, eps=0.001, momentum=0.010000000000000009, affine=True, track_running_stats=True)\n",
       "        )\n",
       "        (residual_quantizer): Identity()\n",
       "      )\n",
       "      (block2): MBConvBlock(\n",
       "        (expand): Sequential(\n",
       "          (conv): Conv2d(80, 480, kernel_size=(1, 1), stride=(1, 1), bias=False)\n",
       "          (bn): BatchNorm2d(480, eps=0.001, momentum=0.010000000000000009, affine=True, track_running_stats=True)\n",
       "          (act): SiLU(inplace=True)\n",
       "        )\n",
       "        (depsep): Sequential(\n",
       "          (conv): Conv2d(480, 480, kernel_size=(3, 3), stride=(1, 1), padding=(1, 1), groups=480, bias=False)\n",
       "          (bn): BatchNorm2d(480, eps=0.001, momentum=0.010000000000000009, affine=True, track_running_stats=True)\n",
       "          (act): SiLU(inplace=True)\n",
       "        )\n",
       "        (se): SequentialSqueezeAndExcitation(\n",
       "          (squeeze): Linear(in_features=480, out_features=20, bias=True)\n",
       "          (expand): Linear(in_features=20, out_features=480, bias=True)\n",
       "          (activation): SiLU(inplace=True)\n",
       "          (sigmoid): Sigmoid()\n",
       "          (mul_a_quantizer): Identity()\n",
       "          (mul_b_quantizer): Identity()\n",
       "        )\n",
       "        (proj): Sequential(\n",
       "          (conv): Conv2d(480, 80, kernel_size=(1, 1), stride=(1, 1), bias=False)\n",
       "          (bn): BatchNorm2d(80, eps=0.001, momentum=0.010000000000000009, affine=True, track_running_stats=True)\n",
       "        )\n",
       "        (residual_quantizer): Identity()\n",
       "      )\n",
       "    )\n",
       "    (4): Sequential(\n",
       "      (block0): MBConvBlock(\n",
       "        (expand): Sequential(\n",
       "          (conv): Conv2d(80, 480, kernel_size=(1, 1), stride=(1, 1), bias=False)\n",
       "          (bn): BatchNorm2d(480, eps=0.001, momentum=0.010000000000000009, affine=True, track_running_stats=True)\n",
       "          (act): SiLU(inplace=True)\n",
       "        )\n",
       "        (depsep): Sequential(\n",
       "          (conv): Conv2d(480, 480, kernel_size=(5, 5), stride=(1, 1), padding=(2, 2), groups=480, bias=False)\n",
       "          (bn): BatchNorm2d(480, eps=0.001, momentum=0.010000000000000009, affine=True, track_running_stats=True)\n",
       "          (act): SiLU(inplace=True)\n",
       "        )\n",
       "        (se): SequentialSqueezeAndExcitation(\n",
       "          (squeeze): Linear(in_features=480, out_features=20, bias=True)\n",
       "          (expand): Linear(in_features=20, out_features=480, bias=True)\n",
       "          (activation): SiLU(inplace=True)\n",
       "          (sigmoid): Sigmoid()\n",
       "          (mul_a_quantizer): Identity()\n",
       "          (mul_b_quantizer): Identity()\n",
       "        )\n",
       "        (proj): Sequential(\n",
       "          (conv): Conv2d(480, 112, kernel_size=(1, 1), stride=(1, 1), bias=False)\n",
       "          (bn): BatchNorm2d(112, eps=0.001, momentum=0.010000000000000009, affine=True, track_running_stats=True)\n",
       "        )\n",
       "        (residual_quantizer): Identity()\n",
       "      )\n",
       "      (block1): MBConvBlock(\n",
       "        (expand): Sequential(\n",
       "          (conv): Conv2d(112, 672, kernel_size=(1, 1), stride=(1, 1), bias=False)\n",
       "          (bn): BatchNorm2d(672, eps=0.001, momentum=0.010000000000000009, affine=True, track_running_stats=True)\n",
       "          (act): SiLU(inplace=True)\n",
       "        )\n",
       "        (depsep): Sequential(\n",
       "          (conv): Conv2d(672, 672, kernel_size=(5, 5), stride=(1, 1), padding=(2, 2), groups=672, bias=False)\n",
       "          (bn): BatchNorm2d(672, eps=0.001, momentum=0.010000000000000009, affine=True, track_running_stats=True)\n",
       "          (act): SiLU(inplace=True)\n",
       "        )\n",
       "        (se): SequentialSqueezeAndExcitation(\n",
       "          (squeeze): Linear(in_features=672, out_features=28, bias=True)\n",
       "          (expand): Linear(in_features=28, out_features=672, bias=True)\n",
       "          (activation): SiLU(inplace=True)\n",
       "          (sigmoid): Sigmoid()\n",
       "          (mul_a_quantizer): Identity()\n",
       "          (mul_b_quantizer): Identity()\n",
       "        )\n",
       "        (proj): Sequential(\n",
       "          (conv): Conv2d(672, 112, kernel_size=(1, 1), stride=(1, 1), bias=False)\n",
       "          (bn): BatchNorm2d(112, eps=0.001, momentum=0.010000000000000009, affine=True, track_running_stats=True)\n",
       "        )\n",
       "        (residual_quantizer): Identity()\n",
       "      )\n",
       "      (block2): MBConvBlock(\n",
       "        (expand): Sequential(\n",
       "          (conv): Conv2d(112, 672, kernel_size=(1, 1), stride=(1, 1), bias=False)\n",
       "          (bn): BatchNorm2d(672, eps=0.001, momentum=0.010000000000000009, affine=True, track_running_stats=True)\n",
       "          (act): SiLU(inplace=True)\n",
       "        )\n",
       "        (depsep): Sequential(\n",
       "          (conv): Conv2d(672, 672, kernel_size=(5, 5), stride=(1, 1), padding=(2, 2), groups=672, bias=False)\n",
       "          (bn): BatchNorm2d(672, eps=0.001, momentum=0.010000000000000009, affine=True, track_running_stats=True)\n",
       "          (act): SiLU(inplace=True)\n",
       "        )\n",
       "        (se): SequentialSqueezeAndExcitation(\n",
       "          (squeeze): Linear(in_features=672, out_features=28, bias=True)\n",
       "          (expand): Linear(in_features=28, out_features=672, bias=True)\n",
       "          (activation): SiLU(inplace=True)\n",
       "          (sigmoid): Sigmoid()\n",
       "          (mul_a_quantizer): Identity()\n",
       "          (mul_b_quantizer): Identity()\n",
       "        )\n",
       "        (proj): Sequential(\n",
       "          (conv): Conv2d(672, 112, kernel_size=(1, 1), stride=(1, 1), bias=False)\n",
       "          (bn): BatchNorm2d(112, eps=0.001, momentum=0.010000000000000009, affine=True, track_running_stats=True)\n",
       "        )\n",
       "        (residual_quantizer): Identity()\n",
       "      )\n",
       "    )\n",
       "    (5): Sequential(\n",
       "      (block0): MBConvBlock(\n",
       "        (expand): Sequential(\n",
       "          (conv): Conv2d(112, 672, kernel_size=(1, 1), stride=(1, 1), bias=False)\n",
       "          (bn): BatchNorm2d(672, eps=0.001, momentum=0.010000000000000009, affine=True, track_running_stats=True)\n",
       "          (act): SiLU(inplace=True)\n",
       "        )\n",
       "        (depsep): Sequential(\n",
       "          (conv): Conv2d(672, 672, kernel_size=(5, 5), stride=(2, 2), padding=(2, 2), groups=672, bias=False)\n",
       "          (bn): BatchNorm2d(672, eps=0.001, momentum=0.010000000000000009, affine=True, track_running_stats=True)\n",
       "          (act): SiLU(inplace=True)\n",
       "        )\n",
       "        (se): SequentialSqueezeAndExcitation(\n",
       "          (squeeze): Linear(in_features=672, out_features=28, bias=True)\n",
       "          (expand): Linear(in_features=28, out_features=672, bias=True)\n",
       "          (activation): SiLU(inplace=True)\n",
       "          (sigmoid): Sigmoid()\n",
       "          (mul_a_quantizer): Identity()\n",
       "          (mul_b_quantizer): Identity()\n",
       "        )\n",
       "        (proj): Sequential(\n",
       "          (conv): Conv2d(672, 192, kernel_size=(1, 1), stride=(1, 1), bias=False)\n",
       "          (bn): BatchNorm2d(192, eps=0.001, momentum=0.010000000000000009, affine=True, track_running_stats=True)\n",
       "        )\n",
       "        (residual_quantizer): Identity()\n",
       "      )\n",
       "      (block1): MBConvBlock(\n",
       "        (expand): Sequential(\n",
       "          (conv): Conv2d(192, 1152, kernel_size=(1, 1), stride=(1, 1), bias=False)\n",
       "          (bn): BatchNorm2d(1152, eps=0.001, momentum=0.010000000000000009, affine=True, track_running_stats=True)\n",
       "          (act): SiLU(inplace=True)\n",
       "        )\n",
       "        (depsep): Sequential(\n",
       "          (conv): Conv2d(1152, 1152, kernel_size=(5, 5), stride=(1, 1), padding=(2, 2), groups=1152, bias=False)\n",
       "          (bn): BatchNorm2d(1152, eps=0.001, momentum=0.010000000000000009, affine=True, track_running_stats=True)\n",
       "          (act): SiLU(inplace=True)\n",
       "        )\n",
       "        (se): SequentialSqueezeAndExcitation(\n",
       "          (squeeze): Linear(in_features=1152, out_features=48, bias=True)\n",
       "          (expand): Linear(in_features=48, out_features=1152, bias=True)\n",
       "          (activation): SiLU(inplace=True)\n",
       "          (sigmoid): Sigmoid()\n",
       "          (mul_a_quantizer): Identity()\n",
       "          (mul_b_quantizer): Identity()\n",
       "        )\n",
       "        (proj): Sequential(\n",
       "          (conv): Conv2d(1152, 192, kernel_size=(1, 1), stride=(1, 1), bias=False)\n",
       "          (bn): BatchNorm2d(192, eps=0.001, momentum=0.010000000000000009, affine=True, track_running_stats=True)\n",
       "        )\n",
       "        (residual_quantizer): Identity()\n",
       "      )\n",
       "      (block2): MBConvBlock(\n",
       "        (expand): Sequential(\n",
       "          (conv): Conv2d(192, 1152, kernel_size=(1, 1), stride=(1, 1), bias=False)\n",
       "          (bn): BatchNorm2d(1152, eps=0.001, momentum=0.010000000000000009, affine=True, track_running_stats=True)\n",
       "          (act): SiLU(inplace=True)\n",
       "        )\n",
       "        (depsep): Sequential(\n",
       "          (conv): Conv2d(1152, 1152, kernel_size=(5, 5), stride=(1, 1), padding=(2, 2), groups=1152, bias=False)\n",
       "          (bn): BatchNorm2d(1152, eps=0.001, momentum=0.010000000000000009, affine=True, track_running_stats=True)\n",
       "          (act): SiLU(inplace=True)\n",
       "        )\n",
       "        (se): SequentialSqueezeAndExcitation(\n",
       "          (squeeze): Linear(in_features=1152, out_features=48, bias=True)\n",
       "          (expand): Linear(in_features=48, out_features=1152, bias=True)\n",
       "          (activation): SiLU(inplace=True)\n",
       "          (sigmoid): Sigmoid()\n",
       "          (mul_a_quantizer): Identity()\n",
       "          (mul_b_quantizer): Identity()\n",
       "        )\n",
       "        (proj): Sequential(\n",
       "          (conv): Conv2d(1152, 192, kernel_size=(1, 1), stride=(1, 1), bias=False)\n",
       "          (bn): BatchNorm2d(192, eps=0.001, momentum=0.010000000000000009, affine=True, track_running_stats=True)\n",
       "        )\n",
       "        (residual_quantizer): Identity()\n",
       "      )\n",
       "      (block3): MBConvBlock(\n",
       "        (expand): Sequential(\n",
       "          (conv): Conv2d(192, 1152, kernel_size=(1, 1), stride=(1, 1), bias=False)\n",
       "          (bn): BatchNorm2d(1152, eps=0.001, momentum=0.010000000000000009, affine=True, track_running_stats=True)\n",
       "          (act): SiLU(inplace=True)\n",
       "        )\n",
       "        (depsep): Sequential(\n",
       "          (conv): Conv2d(1152, 1152, kernel_size=(5, 5), stride=(1, 1), padding=(2, 2), groups=1152, bias=False)\n",
       "          (bn): BatchNorm2d(1152, eps=0.001, momentum=0.010000000000000009, affine=True, track_running_stats=True)\n",
       "          (act): SiLU(inplace=True)\n",
       "        )\n",
       "        (se): SequentialSqueezeAndExcitation(\n",
       "          (squeeze): Linear(in_features=1152, out_features=48, bias=True)\n",
       "          (expand): Linear(in_features=48, out_features=1152, bias=True)\n",
       "          (activation): SiLU(inplace=True)\n",
       "          (sigmoid): Sigmoid()\n",
       "          (mul_a_quantizer): Identity()\n",
       "          (mul_b_quantizer): Identity()\n",
       "        )\n",
       "        (proj): Sequential(\n",
       "          (conv): Conv2d(1152, 192, kernel_size=(1, 1), stride=(1, 1), bias=False)\n",
       "          (bn): BatchNorm2d(192, eps=0.001, momentum=0.010000000000000009, affine=True, track_running_stats=True)\n",
       "        )\n",
       "        (residual_quantizer): Identity()\n",
       "      )\n",
       "    )\n",
       "    (6): Sequential(\n",
       "      (block0): MBConvBlock(\n",
       "        (expand): Sequential(\n",
       "          (conv): Conv2d(192, 1152, kernel_size=(1, 1), stride=(1, 1), bias=False)\n",
       "          (bn): BatchNorm2d(1152, eps=0.001, momentum=0.010000000000000009, affine=True, track_running_stats=True)\n",
       "          (act): SiLU(inplace=True)\n",
       "        )\n",
       "        (depsep): Sequential(\n",
       "          (conv): Conv2d(1152, 1152, kernel_size=(3, 3), stride=(1, 1), padding=(1, 1), groups=1152, bias=False)\n",
       "          (bn): BatchNorm2d(1152, eps=0.001, momentum=0.010000000000000009, affine=True, track_running_stats=True)\n",
       "          (act): SiLU(inplace=True)\n",
       "        )\n",
       "        (se): SequentialSqueezeAndExcitation(\n",
       "          (squeeze): Linear(in_features=1152, out_features=48, bias=True)\n",
       "          (expand): Linear(in_features=48, out_features=1152, bias=True)\n",
       "          (activation): SiLU(inplace=True)\n",
       "          (sigmoid): Sigmoid()\n",
       "          (mul_a_quantizer): Identity()\n",
       "          (mul_b_quantizer): Identity()\n",
       "        )\n",
       "        (proj): Sequential(\n",
       "          (conv): Conv2d(1152, 320, kernel_size=(1, 1), stride=(1, 1), bias=False)\n",
       "          (bn): BatchNorm2d(320, eps=0.001, momentum=0.010000000000000009, affine=True, track_running_stats=True)\n",
       "        )\n",
       "        (residual_quantizer): Identity()\n",
       "      )\n",
       "    )\n",
       "  )\n",
       "  (features): Sequential(\n",
       "    (conv): Conv2d(320, 1280, kernel_size=(1, 1), stride=(1, 1), bias=False)\n",
       "    (bn): BatchNorm2d(1280, eps=0.001, momentum=0.010000000000000009, affine=True, track_running_stats=True)\n",
       "    (activation): SiLU(inplace=True)\n",
       "  )\n",
       "  (classifier): Sequential(\n",
       "    (pooling): AdaptiveAvgPool2d(output_size=1)\n",
       "    (squeeze): Flatten()\n",
       "    (dropout): Dropout(p=0.2, inplace=False)\n",
       "    (fc): Linear(in_features=1280, out_features=1000, bias=True)\n",
       "  )\n",
       ")"
      ]
     },
     "execution_count": 69,
     "metadata": {},
     "output_type": "execute_result"
    }
   ],
   "source": [
    "efficientnet = torch.hub.load('NVIDIA/DeepLearningExamples:torchhub', 'nvidia_efficientnet_b0', pretrained=True)\n",
    "utils = torch.hub.load('NVIDIA/DeepLearningExamples:torchhub', 'nvidia_convnets_processing_utils')\n",
    "\n",
    "efficientnet.eval().to(device)\n",
    "\n"
   ]
  },
  {
   "cell_type": "code",
   "execution_count": 75,
   "metadata": {},
   "outputs": [
    {
     "name": "stdout",
     "output_type": "stream",
     "text": [
      "sample 0: [('Chihuahua', '100.0%'), ('bucket, pail', '0.0%'), ('Labrador retriever', '0.0%'), ('vizsla, Hungarian pointer', '0.0%'), ('American Staffordshire terrier, Staffordshire terrier, American pit bull terrier, pit bull terrier', '0.0%')]\n",
      "[[('Chihuahua', '100.0%'), ('bucket, pail', '0.0%'), ('Labrador retriever', '0.0%'), ('vizsla, Hungarian pointer', '0.0%'), ('American Staffordshire terrier, Staffordshire terrier, American pit bull terrier, pit bull terrier', '0.0%')]]\n"
     ]
    }
   ],
   "source": [
    "input_img = ori_img.unsqueeze(0).to(device)\n",
    "input_img = input_img.float()\n",
    "with torch.no_grad():\n",
    "    output = torch.nn.functional.softmax(efficientnet(input_img), dim=1)\n",
    "    \n",
    "results = utils.pick_n_best(predictions=output, n=5)\n",
    "\n",
    "# img = Image.open(ori_img)\n",
    "# img.thumbnail((256,256), Image.ANTIALIAS)\n",
    "# plt.imshow(img)\n",
    "# plt.show()\n",
    "print(results)"
   ]
  },
  {
   "cell_type": "markdown",
   "metadata": {},
   "source": [
    "# Testing yolo model"
   ]
  },
  {
   "cell_type": "code",
   "execution_count": 3,
   "metadata": {},
   "outputs": [
    {
     "name": "stdout",
     "output_type": "stream",
     "text": [
      "/home/chrenx/eecs545-sn-jersey\n"
     ]
    }
   ],
   "source": [
    "%cd ~/eecs545-sn-jersey/"
   ]
  },
  {
   "cell_type": "code",
   "execution_count": 1,
   "metadata": {},
   "outputs": [],
   "source": [
    "from ultralytics import YOLO\n",
    "from argparse import ArgumentParser\n",
    "\n",
    "pretrained_model_path = \"yolo-bb/best-03-25.pt\"\n",
    "\n",
    "# Load a model\n",
    "# model = YOLO('yolov8s-obb.yaml')  # build a new model from YAML\n",
    "# model = YOLO('yolov8s-obb.pt')  # load a pretrained model (recommended for training)\n",
    "model = YOLO(pretrained_model_path)  # build from YAML and transfer weights\n"
   ]
  },
  {
   "cell_type": "code",
   "execution_count": 4,
   "metadata": {},
   "outputs": [
    {
     "name": "stdout",
     "output_type": "stream",
     "text": [
      "\n",
      "0: 640x640 66.1ms\n",
      "1: 640x640 66.1ms\n",
      "Speed: 3.4ms preprocess, 66.1ms inference, 1.6ms postprocess per image at shape (1, 3, 640, 640)\n",
      "Results saved to \u001b[1mruns/obb/predict\u001b[0m\n"
     ]
    }
   ],
   "source": [
    "\n",
    "img0 = '/home/chrenx/eecs545-sn-jersey/data/jersey-2023-cleaned/train/images/0/0_1.jpg'\n",
    "img1 = '/home/chrenx/eecs545-sn-jersey/data/jersey-2023-cleaned/train/images/47/47_183.jpg'\n",
    "# img2 = 'yolo-bb/datasets/valid/images/cga_cacique_new_out_1_6_jpg.rf.07a1595320b0753168da949410943cfd.jpg'\n",
    "# sn_img1 = 'data/jersey-2023/test/images/0/0_1.jpg'\n",
    "classes = [0, 1, 2, 3, 4, 5, 6, 7, 8, 9]\n",
    "# model.predict(img1, save=True, save_txt=True, conf=0.5, classes=classes)\n",
    "results = model.predict([img0, img1], save=True, conf=0.60)"
   ]
  },
  {
   "cell_type": "code",
   "execution_count": 6,
   "metadata": {},
   "outputs": [
    {
     "data": {
      "text/plain": [
       "ultralytics.engine.results.OBB object with attributes:\n",
       "\n",
       "cls: tensor([5.])\n",
       "conf: tensor([0.9156])\n",
       "data: tensor([[54.5031, 36.1438, 21.9648, 19.7681,  1.5685,  0.9156,  5.0000]])\n",
       "id: None\n",
       "is_track: False\n",
       "orig_shape: (115, 78)\n",
       "shape: torch.Size([1, 7])\n",
       "xywhr: tensor([[54.5031, 36.1438, 21.9648, 19.7681,  1.5685]])\n",
       "xyxy: tensor([[44.5936, 25.1385, 64.4126, 47.1490]])\n",
       "xyxyxyxy: tensor([[[44.6445, 47.1490],\n",
       "         [64.4126, 47.1032],\n",
       "         [64.3616, 25.1385],\n",
       "         [44.5936, 25.1843]]])\n",
       "xyxyxyxyn: tensor([[[0.5724, 0.4100],\n",
       "         [0.8258, 0.4096],\n",
       "         [0.8251, 0.2186],\n",
       "         [0.5717, 0.2190]]])"
      ]
     },
     "execution_count": 6,
     "metadata": {},
     "output_type": "execute_result"
    }
   ],
   "source": [
    "results[1].obb"
   ]
  },
  {
   "cell_type": "code",
   "execution_count": 26,
   "metadata": {},
   "outputs": [
    {
     "data": {
      "text/plain": [
       "(tensor([[0.3274, 0.3756],\n",
       "         [0.5077, 0.3755],\n",
       "         [0.5075, 0.2354],\n",
       "         [0.3271, 0.2354]]),\n",
       " (0.4174307584762573, 0.3054835796356201),\n",
       " 3,\n",
       " 2,\n",
       " 0,\n",
       " 0.4174307584762573)"
      ]
     },
     "execution_count": 26,
     "metadata": {},
     "output_type": "execute_result"
    }
   ],
   "source": [
    "import torch, heapq\n",
    "tmp = [23, 13, 25, 199]\n",
    "q, w, e = heapq.nlargest(3, range(len(tmp)), key=tmp.__getitem__)\n",
    "x = torch.Tensor([p[0] for p in results[0].obb.xyxyxyxyn[0,:]])\n",
    "y = torch.Tensor([p[1] for p in results[0].obb.xyxyxyxyn[0,:]])\n",
    "centroid = ((torch.sum(x) / 4).item(), (torch.sum(y) / 4).item())\n",
    "results[0].obb.xyxyxyxyn[0,:], centroid, q,w,e, centroid[0]"
   ]
  },
  {
   "cell_type": "markdown",
   "metadata": {},
   "source": [
    "# Code For SoccerNet dataset using YOLOv8"
   ]
  },
  {
   "cell_type": "code",
   "execution_count": 1,
   "metadata": {},
   "outputs": [],
   "source": [
    "%pwd\n",
    "%load_ext autoreload\n",
    "%autoreload 2"
   ]
  },
  {
   "cell_type": "code",
   "execution_count": 6,
   "metadata": {},
   "outputs": [],
   "source": [
    "import os, json, glob\n",
    "from ultralytics import YOLO\n",
    "from argparse import ArgumentParser\n",
    "\n",
    "# soccernet_train_path = 'data/jersey-2023/train'\n",
    "# soccernet_test_path = 'data/jersey-2023/test'\n",
    "# soccernet_challenge_path = 'data/jersey-2023/challenge'"
   ]
  },
  {
   "cell_type": "code",
   "execution_count": 14,
   "metadata": {},
   "outputs": [],
   "source": [
    "parser = ArgumentParser()\n",
    "parser.add_argument(\"--conf\", type=float, default=0.8)\n",
    "parser.add_argument(\"--mode\", type=str, default='test')\n",
    "parser.add_argument(\"--challenge\", action=\"store_true\")\n",
    "parser.add_argument(\"--threshold\", type=int, default=50)\n",
    "parser.add_argument(\"--model_path\", type=str, default='yolo-bb/best-03-25.pt')\n",
    "parser.add_argument(\"--mv_dir\", type=str, default='train')\n",
    "\n",
    "args, unknown = parser.parse_known_args()\n",
    "\n",
    "args.clean_dir = f'data/jersey-2023-cleaned/{args.mode}/images'\n",
    "args.input_path = f'data/jersey-2023/{args.mode}'\n",
    "\n",
    "model = YOLO(args.model_path)"
   ]
  },
  {
   "cell_type": "code",
   "execution_count": 15,
   "metadata": {},
   "outputs": [
    {
     "name": "stderr",
     "output_type": "stream",
     "text": [
      "  0%|          | 0/1212 [00:00<?, ?it/s]"
     ]
    },
    {
     "name": "stdout",
     "output_type": "stream",
     "text": [
      "\n",
      "处理tracklet:  .DS_Store\n",
      "\n",
      "处理tracklet:  0\n"
     ]
    },
    {
     "name": "stderr",
     "output_type": "stream",
     "text": [
      "  0%|          | 2/1212 [00:49<8:22:55, 24.94s/it]"
     ]
    },
    {
     "name": "stdout",
     "output_type": "stream",
     "text": [
      "\n",
      "处理tracklet:  1\n"
     ]
    },
    {
     "name": "stderr",
     "output_type": "stream",
     "text": [
      "  0%|          | 3/1212 [01:26<10:04:39, 30.01s/it]"
     ]
    },
    {
     "name": "stdout",
     "output_type": "stream",
     "text": [
      "predicted:  tensor([8., 5.])\n",
      "path:  data/jersey-2023/test/images/1/1_687.jpg\n",
      "predicted:  tensor([8., 5.])\n",
      "path:  data/jersey-2023/test/images/1/1_689.jpg\n",
      "predicted:  tensor([8., 2.])\n",
      "path:  data/jersey-2023/test/images/1/1_715.jpg\n",
      "predicted:  tensor([8., 5.])\n",
      "path:  data/jersey-2023/test/images/1/1_716.jpg\n",
      "predicted:  tensor([3., 9.])\n",
      "path:  data/jersey-2023/test/images/1/1_727.jpg\n",
      "predicted:  tensor([3., 8.])\n",
      "path:  data/jersey-2023/test/images/1/1_728.jpg\n",
      "predicted:  tensor([3., 8.])\n",
      "path:  data/jersey-2023/test/images/1/1_730.jpg\n",
      "predicted:  tensor([8., 3.])\n",
      "path:  data/jersey-2023/test/images/1/1_734.jpg\n",
      "predicted:  tensor([5., 8.])\n",
      "path:  data/jersey-2023/test/images/1/1_738.jpg\n",
      "predicted:  tensor([8., 5.])\n",
      "path:  data/jersey-2023/test/images/1/1_74.jpg\n",
      "predicted:  tensor([8., 5.])\n",
      "path:  data/jersey-2023/test/images/1/1_740.jpg\n",
      "predicted:  tensor([8., 5.])\n",
      "path:  data/jersey-2023/test/images/1/1_741.jpg\n",
      "predicted:  tensor([8., 5.])\n",
      "path:  data/jersey-2023/test/images/1/1_742.jpg\n",
      "predicted:  tensor([3., 1.])\n",
      "path:  data/jersey-2023/test/images/1/1_746.jpg\n",
      "predicted:  tensor([8., 3.])\n",
      "path:  data/jersey-2023/test/images/1/1_114.jpg\n",
      "predicted:  tensor([8., 3.])\n",
      "path:  data/jersey-2023/test/images/1/1_12.jpg\n",
      "predicted:  tensor([8., 5.])\n",
      "path:  data/jersey-2023/test/images/1/1_125.jpg\n",
      "predicted:  tensor([8., 5.])\n",
      "path:  data/jersey-2023/test/images/1/1_130.jpg\n",
      "predicted:  tensor([3., 9.])\n",
      "path:  data/jersey-2023/test/images/1/1_152.jpg\n",
      "predicted:  tensor([3., 8.])\n",
      "path:  data/jersey-2023/test/images/1/1_193.jpg\n",
      "predicted:  tensor([8., 3.])\n",
      "path:  data/jersey-2023/test/images/1/1_35.jpg\n",
      "predicted:  tensor([8., 3.])\n",
      "path:  data/jersey-2023/test/images/1/1_45.jpg\n",
      "predicted:  tensor([8., 3.])\n",
      "path:  data/jersey-2023/test/images/1/1_55.jpg\n",
      "predicted:  tensor([3., 8.])\n",
      "path:  data/jersey-2023/test/images/1/1_6.jpg\n",
      "predicted:  tensor([3., 9.])\n",
      "path:  data/jersey-2023/test/images/1/1_629.jpg\n",
      "predicted:  tensor([9., 3.])\n",
      "path:  data/jersey-2023/test/images/1/1_630.jpg\n",
      "predicted:  tensor([3., 9.])\n",
      "path:  data/jersey-2023/test/images/1/1_633.jpg\n",
      "predicted:  tensor([3., 9.])\n",
      "path:  data/jersey-2023/test/images/1/1_648.jpg\n",
      "predicted:  tensor([3., 9.])\n",
      "path:  data/jersey-2023/test/images/1/1_649.jpg\n",
      "predicted:  tensor([3., 9.])\n",
      "path:  data/jersey-2023/test/images/1/1_650.jpg\n",
      "predicted:  tensor([3., 9.])\n",
      "path:  data/jersey-2023/test/images/1/1_652.jpg\n",
      "predicted:  tensor([9., 3.])\n",
      "path:  data/jersey-2023/test/images/1/1_653.jpg\n",
      "predicted:  tensor([9., 3.])\n",
      "path:  data/jersey-2023/test/images/1/1_654.jpg\n",
      "predicted:  tensor([9., 3.])\n",
      "path:  data/jersey-2023/test/images/1/1_656.jpg\n",
      "predicted:  tensor([8., 2.])\n",
      "path:  data/jersey-2023/test/images/1/1_664.jpg\n",
      "predicted:  tensor([8., 5.])\n",
      "path:  data/jersey-2023/test/images/1/1_666.jpg\n",
      "predicted:  tensor([8., 2.])\n",
      "path:  data/jersey-2023/test/images/1/1_67.jpg\n",
      "predicted:  tensor([8., 5.])\n",
      "path:  data/jersey-2023/test/images/1/1_670.jpg\n",
      "predicted:  tensor([8., 5.])\n",
      "path:  data/jersey-2023/test/images/1/1_671.jpg\n",
      "predicted:  tensor([8., 2.])\n",
      "path:  data/jersey-2023/test/images/1/1_673.jpg\n",
      "predicted:  tensor([8., 2.])\n",
      "path:  data/jersey-2023/test/images/1/1_674.jpg\n",
      "predicted:  tensor([8., 2.])\n",
      "path:  data/jersey-2023/test/images/1/1_676.jpg\n",
      "predicted:  tensor([8., 5.])\n",
      "path:  data/jersey-2023/test/images/1/1_678.jpg\n",
      "predicted:  tensor([8., 5.])\n",
      "path:  data/jersey-2023/test/images/1/1_679.jpg\n",
      "predicted:  tensor([8., 5.])\n",
      "path:  data/jersey-2023/test/images/1/1_68.jpg\n",
      "predicted:  tensor([8., 5.])\n",
      "path:  data/jersey-2023/test/images/1/1_680.jpg\n",
      "predicted:  tensor([8., 5.])\n",
      "path:  data/jersey-2023/test/images/1/1_683.jpg\n",
      "predicted:  tensor([8., 5.])\n",
      "path:  data/jersey-2023/test/images/1/1_684.jpg\n",
      "\n",
      "处理tracklet:  10\n"
     ]
    },
    {
     "name": "stderr",
     "output_type": "stream",
     "text": [
      "  0%|          | 4/1212 [02:22<13:19:25, 39.71s/it]"
     ]
    },
    {
     "name": "stdout",
     "output_type": "stream",
     "text": [
      "predicted:  tensor([3., 3.])\n",
      "path:  data/jersey-2023/test/images/10/10_687.jpg\n",
      "predicted:  tensor([3., 3.])\n",
      "path:  data/jersey-2023/test/images/10/10_688.jpg\n",
      "predicted:  tensor([3., 3.])\n",
      "path:  data/jersey-2023/test/images/10/10_689.jpg\n",
      "predicted:  tensor([3., 3.])\n",
      "path:  data/jersey-2023/test/images/10/10_722.jpg\n",
      "predicted:  tensor([3., 3.])\n",
      "path:  data/jersey-2023/test/images/10/10_723.jpg\n",
      "predicted:  tensor([3., 3.])\n",
      "path:  data/jersey-2023/test/images/10/10_724.jpg\n",
      "predicted:  tensor([3., 3.])\n",
      "path:  data/jersey-2023/test/images/10/10_726.jpg\n",
      "predicted:  tensor([3., 3.])\n",
      "path:  data/jersey-2023/test/images/10/10_727.jpg\n",
      "predicted:  tensor([0., 1.])\n",
      "path:  data/jersey-2023/test/images/10/10_393.jpg\n",
      "predicted:  tensor([0., 1.])\n",
      "path:  data/jersey-2023/test/images/10/10_396.jpg\n",
      "predicted:  tensor([0., 1.])\n",
      "path:  data/jersey-2023/test/images/10/10_397.jpg\n",
      "predicted:  tensor([0., 1.])\n",
      "path:  data/jersey-2023/test/images/10/10_398.jpg\n",
      "predicted:  tensor([0., 1.])\n",
      "path:  data/jersey-2023/test/images/10/10_4.jpg\n",
      "predicted:  tensor([0., 1.])\n",
      "path:  data/jersey-2023/test/images/10/10_40.jpg\n",
      "predicted:  tensor([0., 1.])\n",
      "path:  data/jersey-2023/test/images/10/10_400.jpg\n",
      "predicted:  tensor([0., 1.])\n",
      "path:  data/jersey-2023/test/images/10/10_403.jpg\n",
      "predicted:  tensor([0., 1.])\n",
      "path:  data/jersey-2023/test/images/10/10_404.jpg\n",
      "predicted:  tensor([0., 1.])\n",
      "path:  data/jersey-2023/test/images/10/10_407.jpg\n",
      "predicted:  tensor([0., 1.])\n",
      "path:  data/jersey-2023/test/images/10/10_409.jpg\n",
      "predicted:  tensor([1., 0.])\n",
      "path:  data/jersey-2023/test/images/10/10_41.jpg\n",
      "predicted:  tensor([8., 1., 0.])\n",
      "path:  data/jersey-2023/test/images/10/10_410.jpg\n",
      "predicted:  tensor([8., 1., 0.])\n",
      "path:  data/jersey-2023/test/images/10/10_411.jpg\n",
      "predicted:  tensor([8., 0., 1.])\n",
      "path:  data/jersey-2023/test/images/10/10_412.jpg\n",
      "predicted:  tensor([1., 0.])\n",
      "path:  data/jersey-2023/test/images/10/10_413.jpg\n",
      "predicted:  tensor([8., 0., 1.])\n",
      "path:  data/jersey-2023/test/images/10/10_414.jpg\n",
      "predicted:  tensor([8., 1., 0.])\n",
      "path:  data/jersey-2023/test/images/10/10_415.jpg\n",
      "predicted:  tensor([0., 1., 8.])\n",
      "path:  data/jersey-2023/test/images/10/10_42.jpg\n",
      "predicted:  tensor([1., 0.])\n",
      "path:  data/jersey-2023/test/images/10/10_43.jpg\n",
      "predicted:  tensor([0., 1.])\n",
      "path:  data/jersey-2023/test/images/10/10_45.jpg\n",
      "predicted:  tensor([0., 1.])\n",
      "path:  data/jersey-2023/test/images/10/10_46.jpg\n",
      "predicted:  tensor([0., 1.])\n",
      "path:  data/jersey-2023/test/images/10/10_47.jpg\n",
      "predicted:  tensor([0., 1.])\n",
      "path:  data/jersey-2023/test/images/10/10_48.jpg\n",
      "predicted:  tensor([0., 1.])\n",
      "path:  data/jersey-2023/test/images/10/10_49.jpg\n",
      "predicted:  tensor([0., 1.])\n",
      "path:  data/jersey-2023/test/images/10/10_5.jpg\n",
      "predicted:  tensor([0., 1.])\n",
      "path:  data/jersey-2023/test/images/10/10_50.jpg\n",
      "predicted:  tensor([0., 1.])\n",
      "path:  data/jersey-2023/test/images/10/10_51.jpg\n",
      "predicted:  tensor([0., 1.])\n",
      "path:  data/jersey-2023/test/images/10/10_52.jpg\n",
      "predicted:  tensor([0., 1.])\n",
      "path:  data/jersey-2023/test/images/10/10_53.jpg\n",
      "predicted:  tensor([0., 1.])\n",
      "path:  data/jersey-2023/test/images/10/10_56.jpg\n",
      "predicted:  tensor([0., 1.])\n",
      "path:  data/jersey-2023/test/images/10/10_57.jpg\n",
      "predicted:  tensor([0., 1.])\n",
      "path:  data/jersey-2023/test/images/10/10_58.jpg\n",
      "predicted:  tensor([0., 1.])\n",
      "path:  data/jersey-2023/test/images/10/10_59.jpg\n",
      "predicted:  tensor([0., 1.])\n",
      "path:  data/jersey-2023/test/images/10/10_6.jpg\n",
      "predicted:  tensor([0., 1.])\n",
      "path:  data/jersey-2023/test/images/10/10_60.jpg\n",
      "predicted:  tensor([0., 1.])\n",
      "path:  data/jersey-2023/test/images/10/10_61.jpg\n",
      "predicted:  tensor([0., 1.])\n",
      "path:  data/jersey-2023/test/images/10/10_617.jpg\n",
      "predicted:  tensor([0., 1.])\n",
      "path:  data/jersey-2023/test/images/10/10_618.jpg\n",
      "predicted:  tensor([0., 1.])\n",
      "path:  data/jersey-2023/test/images/10/10_619.jpg\n",
      "predicted:  tensor([0., 1.])\n",
      "path:  data/jersey-2023/test/images/10/10_620.jpg\n",
      "predicted:  tensor([0., 1.])\n",
      "path:  data/jersey-2023/test/images/10/10_621.jpg\n",
      "predicted:  tensor([0., 1.])\n",
      "path:  data/jersey-2023/test/images/10/10_622.jpg\n",
      "predicted:  tensor([1., 0.])\n",
      "path:  data/jersey-2023/test/images/10/10_623.jpg\n",
      "predicted:  tensor([1., 0.])\n",
      "path:  data/jersey-2023/test/images/10/10_624.jpg\n",
      "predicted:  tensor([3., 3.])\n",
      "path:  data/jersey-2023/test/images/10/10_683.jpg\n",
      "\n",
      "处理tracklet:  100\n"
     ]
    },
    {
     "name": "stderr",
     "output_type": "stream",
     "text": [
      "  0%|          | 4/1212 [02:38<13:16:12, 39.55s/it]\n"
     ]
    },
    {
     "ename": "KeyboardInterrupt",
     "evalue": "",
     "output_type": "error",
     "traceback": [
      "\u001b[0;31m---------------------------------------------------------------------------\u001b[0m",
      "\u001b[0;31mKeyboardInterrupt\u001b[0m                         Traceback (most recent call last)",
      "Cell \u001b[0;32mIn[15], line 3\u001b[0m\n\u001b[1;32m      1\u001b[0m \u001b[38;5;28;01mfrom\u001b[39;00m \u001b[38;5;21;01mpredict_soccernet\u001b[39;00m \u001b[38;5;28;01mimport\u001b[39;00m process_data\n\u001b[0;32m----> 3\u001b[0m \u001b[43mprocess_data\u001b[49m\u001b[43m(\u001b[49m\u001b[43mmodel\u001b[49m\u001b[43m,\u001b[49m\u001b[43m \u001b[49m\u001b[43margs\u001b[49m\u001b[43m)\u001b[49m\n",
      "File \u001b[0;32m~/eecs545-sn-jersey/predict_soccernet.py:55\u001b[0m, in \u001b[0;36mprocess_data\u001b[0;34m(model, args)\u001b[0m\n\u001b[1;32m     51\u001b[0m all_img_paths \u001b[38;5;241m=\u001b[39m [os\u001b[38;5;241m.\u001b[39mpath\u001b[38;5;241m.\u001b[39mjoin(img_dir, img_name) \\\n\u001b[1;32m     52\u001b[0m                  \u001b[38;5;28;01mfor\u001b[39;00m img_name \u001b[38;5;129;01min\u001b[39;00m all_img_names \u001b[38;5;28;01mif\u001b[39;00m img_name[\u001b[38;5;241m0\u001b[39m] \u001b[38;5;241m!=\u001b[39m \u001b[38;5;124m'\u001b[39m\u001b[38;5;124m.\u001b[39m\u001b[38;5;124m'\u001b[39m]\n\u001b[1;32m     54\u001b[0m \u001b[38;5;66;03m#!!!!!!!!!!!!!!!!!!!!!!!!!!!!!!!!!!!!!!!!!!!!!!!!!!!!!!!!!!!!!!!!!!!!!!\u001b[39;00m\n\u001b[0;32m---> 55\u001b[0m results \u001b[38;5;241m=\u001b[39m \u001b[43mmodel\u001b[49m\u001b[38;5;241;43m.\u001b[39;49m\u001b[43mpredict\u001b[49m\u001b[43m(\u001b[49m\u001b[43mall_img_paths\u001b[49m\u001b[43m,\u001b[49m\u001b[43m \u001b[49m\u001b[43msave\u001b[49m\u001b[38;5;241;43m=\u001b[39;49m\u001b[38;5;28;43;01mFalse\u001b[39;49;00m\u001b[43m,\u001b[49m\u001b[43m \u001b[49m\n\u001b[1;32m     56\u001b[0m \u001b[43m                        \u001b[49m\u001b[43mconf\u001b[49m\u001b[38;5;241;43m=\u001b[39;49m\u001b[43margs\u001b[49m\u001b[38;5;241;43m.\u001b[39;49m\u001b[43mconf\u001b[49m\u001b[43m,\u001b[49m\u001b[43m \u001b[49m\u001b[43mverbose\u001b[49m\u001b[38;5;241;43m=\u001b[39;49m\u001b[38;5;28;43;01mFalse\u001b[39;49;00m\u001b[43m)\u001b[49m\n\u001b[1;32m     58\u001b[0m \u001b[38;5;66;03m# print('当下tracklet参与预测的图片数量: ', len(results))\u001b[39;00m\n\u001b[1;32m     59\u001b[0m \n\u001b[1;32m     60\u001b[0m \u001b[38;5;66;03m# process results of all images in one tracklet \u001b[39;00m\n\u001b[1;32m     61\u001b[0m \u001b[38;5;28;01mfor\u001b[39;00m idx, res \u001b[38;5;129;01min\u001b[39;00m \u001b[38;5;28menumerate\u001b[39m(results):\n\u001b[1;32m     62\u001b[0m     \u001b[38;5;66;03m# no digits detected\u001b[39;00m\n",
      "File \u001b[0;32m/nfs/turbo/justincj-turbo/chrenx/anaconda/envs/soccernet/lib/python3.10/site-packages/ultralytics/engine/model.py:439\u001b[0m, in \u001b[0;36mModel.predict\u001b[0;34m(self, source, stream, predictor, **kwargs)\u001b[0m\n\u001b[1;32m    437\u001b[0m \u001b[38;5;28;01mif\u001b[39;00m prompts \u001b[38;5;129;01mand\u001b[39;00m \u001b[38;5;28mhasattr\u001b[39m(\u001b[38;5;28mself\u001b[39m\u001b[38;5;241m.\u001b[39mpredictor, \u001b[38;5;124m\"\u001b[39m\u001b[38;5;124mset_prompts\u001b[39m\u001b[38;5;124m\"\u001b[39m):  \u001b[38;5;66;03m# for SAM-type models\u001b[39;00m\n\u001b[1;32m    438\u001b[0m     \u001b[38;5;28mself\u001b[39m\u001b[38;5;241m.\u001b[39mpredictor\u001b[38;5;241m.\u001b[39mset_prompts(prompts)\n\u001b[0;32m--> 439\u001b[0m \u001b[38;5;28;01mreturn\u001b[39;00m \u001b[38;5;28mself\u001b[39m\u001b[38;5;241m.\u001b[39mpredictor\u001b[38;5;241m.\u001b[39mpredict_cli(source\u001b[38;5;241m=\u001b[39msource) \u001b[38;5;28;01mif\u001b[39;00m is_cli \u001b[38;5;28;01melse\u001b[39;00m \u001b[38;5;28;43mself\u001b[39;49m\u001b[38;5;241;43m.\u001b[39;49m\u001b[43mpredictor\u001b[49m\u001b[43m(\u001b[49m\u001b[43msource\u001b[49m\u001b[38;5;241;43m=\u001b[39;49m\u001b[43msource\u001b[49m\u001b[43m,\u001b[49m\u001b[43m \u001b[49m\u001b[43mstream\u001b[49m\u001b[38;5;241;43m=\u001b[39;49m\u001b[43mstream\u001b[49m\u001b[43m)\u001b[49m\n",
      "File \u001b[0;32m/nfs/turbo/justincj-turbo/chrenx/anaconda/envs/soccernet/lib/python3.10/site-packages/ultralytics/engine/predictor.py:168\u001b[0m, in \u001b[0;36mBasePredictor.__call__\u001b[0;34m(self, source, model, stream, *args, **kwargs)\u001b[0m\n\u001b[1;32m    166\u001b[0m     \u001b[38;5;28;01mreturn\u001b[39;00m \u001b[38;5;28mself\u001b[39m\u001b[38;5;241m.\u001b[39mstream_inference(source, model, \u001b[38;5;241m*\u001b[39margs, \u001b[38;5;241m*\u001b[39m\u001b[38;5;241m*\u001b[39mkwargs)\n\u001b[1;32m    167\u001b[0m \u001b[38;5;28;01melse\u001b[39;00m:\n\u001b[0;32m--> 168\u001b[0m     \u001b[38;5;28;01mreturn\u001b[39;00m \u001b[38;5;28;43mlist\u001b[39;49m\u001b[43m(\u001b[49m\u001b[38;5;28;43mself\u001b[39;49m\u001b[38;5;241;43m.\u001b[39;49m\u001b[43mstream_inference\u001b[49m\u001b[43m(\u001b[49m\u001b[43msource\u001b[49m\u001b[43m,\u001b[49m\u001b[43m \u001b[49m\u001b[43mmodel\u001b[49m\u001b[43m,\u001b[49m\u001b[43m \u001b[49m\u001b[38;5;241;43m*\u001b[39;49m\u001b[43margs\u001b[49m\u001b[43m,\u001b[49m\u001b[43m \u001b[49m\u001b[38;5;241;43m*\u001b[39;49m\u001b[38;5;241;43m*\u001b[39;49m\u001b[43mkwargs\u001b[49m\u001b[43m)\u001b[49m\u001b[43m)\u001b[49m\n",
      "File \u001b[0;32m/nfs/turbo/justincj-turbo/chrenx/anaconda/envs/soccernet/lib/python3.10/site-packages/torch/utils/_contextlib.py:35\u001b[0m, in \u001b[0;36m_wrap_generator.<locals>.generator_context\u001b[0;34m(*args, **kwargs)\u001b[0m\n\u001b[1;32m     32\u001b[0m \u001b[38;5;28;01mtry\u001b[39;00m:\n\u001b[1;32m     33\u001b[0m     \u001b[38;5;66;03m# Issuing `None` to a generator fires it up\u001b[39;00m\n\u001b[1;32m     34\u001b[0m     \u001b[38;5;28;01mwith\u001b[39;00m ctx_factory():\n\u001b[0;32m---> 35\u001b[0m         response \u001b[38;5;241m=\u001b[39m \u001b[43mgen\u001b[49m\u001b[38;5;241;43m.\u001b[39;49m\u001b[43msend\u001b[49m\u001b[43m(\u001b[49m\u001b[38;5;28;43;01mNone\u001b[39;49;00m\u001b[43m)\u001b[49m\n\u001b[1;32m     37\u001b[0m     \u001b[38;5;28;01mwhile\u001b[39;00m \u001b[38;5;28;01mTrue\u001b[39;00m:\n\u001b[1;32m     38\u001b[0m         \u001b[38;5;28;01mtry\u001b[39;00m:\n\u001b[1;32m     39\u001b[0m             \u001b[38;5;66;03m# Forward the response to our caller and get its next request\u001b[39;00m\n",
      "File \u001b[0;32m/nfs/turbo/justincj-turbo/chrenx/anaconda/envs/soccernet/lib/python3.10/site-packages/ultralytics/engine/predictor.py:248\u001b[0m, in \u001b[0;36mBasePredictor.stream_inference\u001b[0;34m(self, source, model, *args, **kwargs)\u001b[0m\n\u001b[1;32m    246\u001b[0m \u001b[38;5;66;03m# Inference\u001b[39;00m\n\u001b[1;32m    247\u001b[0m \u001b[38;5;28;01mwith\u001b[39;00m profilers[\u001b[38;5;241m1\u001b[39m]:\n\u001b[0;32m--> 248\u001b[0m     preds \u001b[38;5;241m=\u001b[39m \u001b[38;5;28;43mself\u001b[39;49m\u001b[38;5;241;43m.\u001b[39;49m\u001b[43minference\u001b[49m\u001b[43m(\u001b[49m\u001b[43mim\u001b[49m\u001b[43m,\u001b[49m\u001b[43m \u001b[49m\u001b[38;5;241;43m*\u001b[39;49m\u001b[43margs\u001b[49m\u001b[43m,\u001b[49m\u001b[43m \u001b[49m\u001b[38;5;241;43m*\u001b[39;49m\u001b[38;5;241;43m*\u001b[39;49m\u001b[43mkwargs\u001b[49m\u001b[43m)\u001b[49m\n\u001b[1;32m    249\u001b[0m     \u001b[38;5;28;01mif\u001b[39;00m \u001b[38;5;28mself\u001b[39m\u001b[38;5;241m.\u001b[39margs\u001b[38;5;241m.\u001b[39membed:\n\u001b[1;32m    250\u001b[0m         \u001b[38;5;28;01myield from\u001b[39;00m [preds] \u001b[38;5;28;01mif\u001b[39;00m \u001b[38;5;28misinstance\u001b[39m(preds, torch\u001b[38;5;241m.\u001b[39mTensor) \u001b[38;5;28;01melse\u001b[39;00m preds  \u001b[38;5;66;03m# yield embedding tensors\u001b[39;00m\n",
      "File \u001b[0;32m/nfs/turbo/justincj-turbo/chrenx/anaconda/envs/soccernet/lib/python3.10/site-packages/ultralytics/engine/predictor.py:142\u001b[0m, in \u001b[0;36mBasePredictor.inference\u001b[0;34m(self, im, *args, **kwargs)\u001b[0m\n\u001b[1;32m    136\u001b[0m \u001b[38;5;250m\u001b[39m\u001b[38;5;124;03m\"\"\"Runs inference on a given image using the specified model and arguments.\"\"\"\u001b[39;00m\n\u001b[1;32m    137\u001b[0m visualize \u001b[38;5;241m=\u001b[39m (\n\u001b[1;32m    138\u001b[0m     increment_path(\u001b[38;5;28mself\u001b[39m\u001b[38;5;241m.\u001b[39msave_dir \u001b[38;5;241m/\u001b[39m Path(\u001b[38;5;28mself\u001b[39m\u001b[38;5;241m.\u001b[39mbatch[\u001b[38;5;241m0\u001b[39m][\u001b[38;5;241m0\u001b[39m])\u001b[38;5;241m.\u001b[39mstem, mkdir\u001b[38;5;241m=\u001b[39m\u001b[38;5;28;01mTrue\u001b[39;00m)\n\u001b[1;32m    139\u001b[0m     \u001b[38;5;28;01mif\u001b[39;00m \u001b[38;5;28mself\u001b[39m\u001b[38;5;241m.\u001b[39margs\u001b[38;5;241m.\u001b[39mvisualize \u001b[38;5;129;01mand\u001b[39;00m (\u001b[38;5;129;01mnot\u001b[39;00m \u001b[38;5;28mself\u001b[39m\u001b[38;5;241m.\u001b[39msource_type\u001b[38;5;241m.\u001b[39mtensor)\n\u001b[1;32m    140\u001b[0m     \u001b[38;5;28;01melse\u001b[39;00m \u001b[38;5;28;01mFalse\u001b[39;00m\n\u001b[1;32m    141\u001b[0m )\n\u001b[0;32m--> 142\u001b[0m \u001b[38;5;28;01mreturn\u001b[39;00m \u001b[38;5;28;43mself\u001b[39;49m\u001b[38;5;241;43m.\u001b[39;49m\u001b[43mmodel\u001b[49m\u001b[43m(\u001b[49m\u001b[43mim\u001b[49m\u001b[43m,\u001b[49m\u001b[43m \u001b[49m\u001b[43maugment\u001b[49m\u001b[38;5;241;43m=\u001b[39;49m\u001b[38;5;28;43mself\u001b[39;49m\u001b[38;5;241;43m.\u001b[39;49m\u001b[43margs\u001b[49m\u001b[38;5;241;43m.\u001b[39;49m\u001b[43maugment\u001b[49m\u001b[43m,\u001b[49m\u001b[43m \u001b[49m\u001b[43mvisualize\u001b[49m\u001b[38;5;241;43m=\u001b[39;49m\u001b[43mvisualize\u001b[49m\u001b[43m,\u001b[49m\u001b[43m \u001b[49m\u001b[43membed\u001b[49m\u001b[38;5;241;43m=\u001b[39;49m\u001b[38;5;28;43mself\u001b[39;49m\u001b[38;5;241;43m.\u001b[39;49m\u001b[43margs\u001b[49m\u001b[38;5;241;43m.\u001b[39;49m\u001b[43membed\u001b[49m\u001b[43m,\u001b[49m\u001b[43m \u001b[49m\u001b[38;5;241;43m*\u001b[39;49m\u001b[43margs\u001b[49m\u001b[43m,\u001b[49m\u001b[43m \u001b[49m\u001b[38;5;241;43m*\u001b[39;49m\u001b[38;5;241;43m*\u001b[39;49m\u001b[43mkwargs\u001b[49m\u001b[43m)\u001b[49m\n",
      "File \u001b[0;32m/nfs/turbo/justincj-turbo/chrenx/anaconda/envs/soccernet/lib/python3.10/site-packages/torch/nn/modules/module.py:1511\u001b[0m, in \u001b[0;36mModule._wrapped_call_impl\u001b[0;34m(self, *args, **kwargs)\u001b[0m\n\u001b[1;32m   1509\u001b[0m     \u001b[38;5;28;01mreturn\u001b[39;00m \u001b[38;5;28mself\u001b[39m\u001b[38;5;241m.\u001b[39m_compiled_call_impl(\u001b[38;5;241m*\u001b[39margs, \u001b[38;5;241m*\u001b[39m\u001b[38;5;241m*\u001b[39mkwargs)  \u001b[38;5;66;03m# type: ignore[misc]\u001b[39;00m\n\u001b[1;32m   1510\u001b[0m \u001b[38;5;28;01melse\u001b[39;00m:\n\u001b[0;32m-> 1511\u001b[0m     \u001b[38;5;28;01mreturn\u001b[39;00m \u001b[38;5;28;43mself\u001b[39;49m\u001b[38;5;241;43m.\u001b[39;49m\u001b[43m_call_impl\u001b[49m\u001b[43m(\u001b[49m\u001b[38;5;241;43m*\u001b[39;49m\u001b[43margs\u001b[49m\u001b[43m,\u001b[49m\u001b[43m \u001b[49m\u001b[38;5;241;43m*\u001b[39;49m\u001b[38;5;241;43m*\u001b[39;49m\u001b[43mkwargs\u001b[49m\u001b[43m)\u001b[49m\n",
      "File \u001b[0;32m/nfs/turbo/justincj-turbo/chrenx/anaconda/envs/soccernet/lib/python3.10/site-packages/torch/nn/modules/module.py:1520\u001b[0m, in \u001b[0;36mModule._call_impl\u001b[0;34m(self, *args, **kwargs)\u001b[0m\n\u001b[1;32m   1515\u001b[0m \u001b[38;5;66;03m# If we don't have any hooks, we want to skip the rest of the logic in\u001b[39;00m\n\u001b[1;32m   1516\u001b[0m \u001b[38;5;66;03m# this function, and just call forward.\u001b[39;00m\n\u001b[1;32m   1517\u001b[0m \u001b[38;5;28;01mif\u001b[39;00m \u001b[38;5;129;01mnot\u001b[39;00m (\u001b[38;5;28mself\u001b[39m\u001b[38;5;241m.\u001b[39m_backward_hooks \u001b[38;5;129;01mor\u001b[39;00m \u001b[38;5;28mself\u001b[39m\u001b[38;5;241m.\u001b[39m_backward_pre_hooks \u001b[38;5;129;01mor\u001b[39;00m \u001b[38;5;28mself\u001b[39m\u001b[38;5;241m.\u001b[39m_forward_hooks \u001b[38;5;129;01mor\u001b[39;00m \u001b[38;5;28mself\u001b[39m\u001b[38;5;241m.\u001b[39m_forward_pre_hooks\n\u001b[1;32m   1518\u001b[0m         \u001b[38;5;129;01mor\u001b[39;00m _global_backward_pre_hooks \u001b[38;5;129;01mor\u001b[39;00m _global_backward_hooks\n\u001b[1;32m   1519\u001b[0m         \u001b[38;5;129;01mor\u001b[39;00m _global_forward_hooks \u001b[38;5;129;01mor\u001b[39;00m _global_forward_pre_hooks):\n\u001b[0;32m-> 1520\u001b[0m     \u001b[38;5;28;01mreturn\u001b[39;00m \u001b[43mforward_call\u001b[49m\u001b[43m(\u001b[49m\u001b[38;5;241;43m*\u001b[39;49m\u001b[43margs\u001b[49m\u001b[43m,\u001b[49m\u001b[43m \u001b[49m\u001b[38;5;241;43m*\u001b[39;49m\u001b[38;5;241;43m*\u001b[39;49m\u001b[43mkwargs\u001b[49m\u001b[43m)\u001b[49m\n\u001b[1;32m   1522\u001b[0m \u001b[38;5;28;01mtry\u001b[39;00m:\n\u001b[1;32m   1523\u001b[0m     result \u001b[38;5;241m=\u001b[39m \u001b[38;5;28;01mNone\u001b[39;00m\n",
      "File \u001b[0;32m/nfs/turbo/justincj-turbo/chrenx/anaconda/envs/soccernet/lib/python3.10/site-packages/ultralytics/nn/autobackend.py:425\u001b[0m, in \u001b[0;36mAutoBackend.forward\u001b[0;34m(self, im, augment, visualize, embed)\u001b[0m\n\u001b[1;32m    423\u001b[0m \u001b[38;5;66;03m# PyTorch\u001b[39;00m\n\u001b[1;32m    424\u001b[0m \u001b[38;5;28;01mif\u001b[39;00m \u001b[38;5;28mself\u001b[39m\u001b[38;5;241m.\u001b[39mpt \u001b[38;5;129;01mor\u001b[39;00m \u001b[38;5;28mself\u001b[39m\u001b[38;5;241m.\u001b[39mnn_module:\n\u001b[0;32m--> 425\u001b[0m     y \u001b[38;5;241m=\u001b[39m \u001b[38;5;28;43mself\u001b[39;49m\u001b[38;5;241;43m.\u001b[39;49m\u001b[43mmodel\u001b[49m\u001b[43m(\u001b[49m\u001b[43mim\u001b[49m\u001b[43m,\u001b[49m\u001b[43m \u001b[49m\u001b[43maugment\u001b[49m\u001b[38;5;241;43m=\u001b[39;49m\u001b[43maugment\u001b[49m\u001b[43m,\u001b[49m\u001b[43m \u001b[49m\u001b[43mvisualize\u001b[49m\u001b[38;5;241;43m=\u001b[39;49m\u001b[43mvisualize\u001b[49m\u001b[43m,\u001b[49m\u001b[43m \u001b[49m\u001b[43membed\u001b[49m\u001b[38;5;241;43m=\u001b[39;49m\u001b[43membed\u001b[49m\u001b[43m)\u001b[49m\n\u001b[1;32m    427\u001b[0m \u001b[38;5;66;03m# TorchScript\u001b[39;00m\n\u001b[1;32m    428\u001b[0m \u001b[38;5;28;01melif\u001b[39;00m \u001b[38;5;28mself\u001b[39m\u001b[38;5;241m.\u001b[39mjit:\n",
      "File \u001b[0;32m/nfs/turbo/justincj-turbo/chrenx/anaconda/envs/soccernet/lib/python3.10/site-packages/torch/nn/modules/module.py:1511\u001b[0m, in \u001b[0;36mModule._wrapped_call_impl\u001b[0;34m(self, *args, **kwargs)\u001b[0m\n\u001b[1;32m   1509\u001b[0m     \u001b[38;5;28;01mreturn\u001b[39;00m \u001b[38;5;28mself\u001b[39m\u001b[38;5;241m.\u001b[39m_compiled_call_impl(\u001b[38;5;241m*\u001b[39margs, \u001b[38;5;241m*\u001b[39m\u001b[38;5;241m*\u001b[39mkwargs)  \u001b[38;5;66;03m# type: ignore[misc]\u001b[39;00m\n\u001b[1;32m   1510\u001b[0m \u001b[38;5;28;01melse\u001b[39;00m:\n\u001b[0;32m-> 1511\u001b[0m     \u001b[38;5;28;01mreturn\u001b[39;00m \u001b[38;5;28;43mself\u001b[39;49m\u001b[38;5;241;43m.\u001b[39;49m\u001b[43m_call_impl\u001b[49m\u001b[43m(\u001b[49m\u001b[38;5;241;43m*\u001b[39;49m\u001b[43margs\u001b[49m\u001b[43m,\u001b[49m\u001b[43m \u001b[49m\u001b[38;5;241;43m*\u001b[39;49m\u001b[38;5;241;43m*\u001b[39;49m\u001b[43mkwargs\u001b[49m\u001b[43m)\u001b[49m\n",
      "File \u001b[0;32m/nfs/turbo/justincj-turbo/chrenx/anaconda/envs/soccernet/lib/python3.10/site-packages/torch/nn/modules/module.py:1520\u001b[0m, in \u001b[0;36mModule._call_impl\u001b[0;34m(self, *args, **kwargs)\u001b[0m\n\u001b[1;32m   1515\u001b[0m \u001b[38;5;66;03m# If we don't have any hooks, we want to skip the rest of the logic in\u001b[39;00m\n\u001b[1;32m   1516\u001b[0m \u001b[38;5;66;03m# this function, and just call forward.\u001b[39;00m\n\u001b[1;32m   1517\u001b[0m \u001b[38;5;28;01mif\u001b[39;00m \u001b[38;5;129;01mnot\u001b[39;00m (\u001b[38;5;28mself\u001b[39m\u001b[38;5;241m.\u001b[39m_backward_hooks \u001b[38;5;129;01mor\u001b[39;00m \u001b[38;5;28mself\u001b[39m\u001b[38;5;241m.\u001b[39m_backward_pre_hooks \u001b[38;5;129;01mor\u001b[39;00m \u001b[38;5;28mself\u001b[39m\u001b[38;5;241m.\u001b[39m_forward_hooks \u001b[38;5;129;01mor\u001b[39;00m \u001b[38;5;28mself\u001b[39m\u001b[38;5;241m.\u001b[39m_forward_pre_hooks\n\u001b[1;32m   1518\u001b[0m         \u001b[38;5;129;01mor\u001b[39;00m _global_backward_pre_hooks \u001b[38;5;129;01mor\u001b[39;00m _global_backward_hooks\n\u001b[1;32m   1519\u001b[0m         \u001b[38;5;129;01mor\u001b[39;00m _global_forward_hooks \u001b[38;5;129;01mor\u001b[39;00m _global_forward_pre_hooks):\n\u001b[0;32m-> 1520\u001b[0m     \u001b[38;5;28;01mreturn\u001b[39;00m \u001b[43mforward_call\u001b[49m\u001b[43m(\u001b[49m\u001b[38;5;241;43m*\u001b[39;49m\u001b[43margs\u001b[49m\u001b[43m,\u001b[49m\u001b[43m \u001b[49m\u001b[38;5;241;43m*\u001b[39;49m\u001b[38;5;241;43m*\u001b[39;49m\u001b[43mkwargs\u001b[49m\u001b[43m)\u001b[49m\n\u001b[1;32m   1522\u001b[0m \u001b[38;5;28;01mtry\u001b[39;00m:\n\u001b[1;32m   1523\u001b[0m     result \u001b[38;5;241m=\u001b[39m \u001b[38;5;28;01mNone\u001b[39;00m\n",
      "File \u001b[0;32m/nfs/turbo/justincj-turbo/chrenx/anaconda/envs/soccernet/lib/python3.10/site-packages/ultralytics/nn/tasks.py:89\u001b[0m, in \u001b[0;36mBaseModel.forward\u001b[0;34m(self, x, *args, **kwargs)\u001b[0m\n\u001b[1;32m     87\u001b[0m \u001b[38;5;28;01mif\u001b[39;00m \u001b[38;5;28misinstance\u001b[39m(x, \u001b[38;5;28mdict\u001b[39m):  \u001b[38;5;66;03m# for cases of training and validating while training.\u001b[39;00m\n\u001b[1;32m     88\u001b[0m     \u001b[38;5;28;01mreturn\u001b[39;00m \u001b[38;5;28mself\u001b[39m\u001b[38;5;241m.\u001b[39mloss(x, \u001b[38;5;241m*\u001b[39margs, \u001b[38;5;241m*\u001b[39m\u001b[38;5;241m*\u001b[39mkwargs)\n\u001b[0;32m---> 89\u001b[0m \u001b[38;5;28;01mreturn\u001b[39;00m \u001b[38;5;28;43mself\u001b[39;49m\u001b[38;5;241;43m.\u001b[39;49m\u001b[43mpredict\u001b[49m\u001b[43m(\u001b[49m\u001b[43mx\u001b[49m\u001b[43m,\u001b[49m\u001b[43m \u001b[49m\u001b[38;5;241;43m*\u001b[39;49m\u001b[43margs\u001b[49m\u001b[43m,\u001b[49m\u001b[43m \u001b[49m\u001b[38;5;241;43m*\u001b[39;49m\u001b[38;5;241;43m*\u001b[39;49m\u001b[43mkwargs\u001b[49m\u001b[43m)\u001b[49m\n",
      "File \u001b[0;32m/nfs/turbo/justincj-turbo/chrenx/anaconda/envs/soccernet/lib/python3.10/site-packages/ultralytics/nn/tasks.py:107\u001b[0m, in \u001b[0;36mBaseModel.predict\u001b[0;34m(self, x, profile, visualize, augment, embed)\u001b[0m\n\u001b[1;32m    105\u001b[0m \u001b[38;5;28;01mif\u001b[39;00m augment:\n\u001b[1;32m    106\u001b[0m     \u001b[38;5;28;01mreturn\u001b[39;00m \u001b[38;5;28mself\u001b[39m\u001b[38;5;241m.\u001b[39m_predict_augment(x)\n\u001b[0;32m--> 107\u001b[0m \u001b[38;5;28;01mreturn\u001b[39;00m \u001b[38;5;28;43mself\u001b[39;49m\u001b[38;5;241;43m.\u001b[39;49m\u001b[43m_predict_once\u001b[49m\u001b[43m(\u001b[49m\u001b[43mx\u001b[49m\u001b[43m,\u001b[49m\u001b[43m \u001b[49m\u001b[43mprofile\u001b[49m\u001b[43m,\u001b[49m\u001b[43m \u001b[49m\u001b[43mvisualize\u001b[49m\u001b[43m,\u001b[49m\u001b[43m \u001b[49m\u001b[43membed\u001b[49m\u001b[43m)\u001b[49m\n",
      "File \u001b[0;32m/nfs/turbo/justincj-turbo/chrenx/anaconda/envs/soccernet/lib/python3.10/site-packages/ultralytics/nn/tasks.py:128\u001b[0m, in \u001b[0;36mBaseModel._predict_once\u001b[0;34m(self, x, profile, visualize, embed)\u001b[0m\n\u001b[1;32m    126\u001b[0m \u001b[38;5;28;01mif\u001b[39;00m profile:\n\u001b[1;32m    127\u001b[0m     \u001b[38;5;28mself\u001b[39m\u001b[38;5;241m.\u001b[39m_profile_one_layer(m, x, dt)\n\u001b[0;32m--> 128\u001b[0m x \u001b[38;5;241m=\u001b[39m \u001b[43mm\u001b[49m\u001b[43m(\u001b[49m\u001b[43mx\u001b[49m\u001b[43m)\u001b[49m  \u001b[38;5;66;03m# run\u001b[39;00m\n\u001b[1;32m    129\u001b[0m y\u001b[38;5;241m.\u001b[39mappend(x \u001b[38;5;28;01mif\u001b[39;00m m\u001b[38;5;241m.\u001b[39mi \u001b[38;5;129;01min\u001b[39;00m \u001b[38;5;28mself\u001b[39m\u001b[38;5;241m.\u001b[39msave \u001b[38;5;28;01melse\u001b[39;00m \u001b[38;5;28;01mNone\u001b[39;00m)  \u001b[38;5;66;03m# save output\u001b[39;00m\n\u001b[1;32m    130\u001b[0m \u001b[38;5;28;01mif\u001b[39;00m visualize:\n",
      "File \u001b[0;32m/nfs/turbo/justincj-turbo/chrenx/anaconda/envs/soccernet/lib/python3.10/site-packages/torch/nn/modules/module.py:1511\u001b[0m, in \u001b[0;36mModule._wrapped_call_impl\u001b[0;34m(self, *args, **kwargs)\u001b[0m\n\u001b[1;32m   1509\u001b[0m     \u001b[38;5;28;01mreturn\u001b[39;00m \u001b[38;5;28mself\u001b[39m\u001b[38;5;241m.\u001b[39m_compiled_call_impl(\u001b[38;5;241m*\u001b[39margs, \u001b[38;5;241m*\u001b[39m\u001b[38;5;241m*\u001b[39mkwargs)  \u001b[38;5;66;03m# type: ignore[misc]\u001b[39;00m\n\u001b[1;32m   1510\u001b[0m \u001b[38;5;28;01melse\u001b[39;00m:\n\u001b[0;32m-> 1511\u001b[0m     \u001b[38;5;28;01mreturn\u001b[39;00m \u001b[38;5;28;43mself\u001b[39;49m\u001b[38;5;241;43m.\u001b[39;49m\u001b[43m_call_impl\u001b[49m\u001b[43m(\u001b[49m\u001b[38;5;241;43m*\u001b[39;49m\u001b[43margs\u001b[49m\u001b[43m,\u001b[49m\u001b[43m \u001b[49m\u001b[38;5;241;43m*\u001b[39;49m\u001b[38;5;241;43m*\u001b[39;49m\u001b[43mkwargs\u001b[49m\u001b[43m)\u001b[49m\n",
      "File \u001b[0;32m/nfs/turbo/justincj-turbo/chrenx/anaconda/envs/soccernet/lib/python3.10/site-packages/torch/nn/modules/module.py:1520\u001b[0m, in \u001b[0;36mModule._call_impl\u001b[0;34m(self, *args, **kwargs)\u001b[0m\n\u001b[1;32m   1515\u001b[0m \u001b[38;5;66;03m# If we don't have any hooks, we want to skip the rest of the logic in\u001b[39;00m\n\u001b[1;32m   1516\u001b[0m \u001b[38;5;66;03m# this function, and just call forward.\u001b[39;00m\n\u001b[1;32m   1517\u001b[0m \u001b[38;5;28;01mif\u001b[39;00m \u001b[38;5;129;01mnot\u001b[39;00m (\u001b[38;5;28mself\u001b[39m\u001b[38;5;241m.\u001b[39m_backward_hooks \u001b[38;5;129;01mor\u001b[39;00m \u001b[38;5;28mself\u001b[39m\u001b[38;5;241m.\u001b[39m_backward_pre_hooks \u001b[38;5;129;01mor\u001b[39;00m \u001b[38;5;28mself\u001b[39m\u001b[38;5;241m.\u001b[39m_forward_hooks \u001b[38;5;129;01mor\u001b[39;00m \u001b[38;5;28mself\u001b[39m\u001b[38;5;241m.\u001b[39m_forward_pre_hooks\n\u001b[1;32m   1518\u001b[0m         \u001b[38;5;129;01mor\u001b[39;00m _global_backward_pre_hooks \u001b[38;5;129;01mor\u001b[39;00m _global_backward_hooks\n\u001b[1;32m   1519\u001b[0m         \u001b[38;5;129;01mor\u001b[39;00m _global_forward_hooks \u001b[38;5;129;01mor\u001b[39;00m _global_forward_pre_hooks):\n\u001b[0;32m-> 1520\u001b[0m     \u001b[38;5;28;01mreturn\u001b[39;00m \u001b[43mforward_call\u001b[49m\u001b[43m(\u001b[49m\u001b[38;5;241;43m*\u001b[39;49m\u001b[43margs\u001b[49m\u001b[43m,\u001b[49m\u001b[43m \u001b[49m\u001b[38;5;241;43m*\u001b[39;49m\u001b[38;5;241;43m*\u001b[39;49m\u001b[43mkwargs\u001b[49m\u001b[43m)\u001b[49m\n\u001b[1;32m   1522\u001b[0m \u001b[38;5;28;01mtry\u001b[39;00m:\n\u001b[1;32m   1523\u001b[0m     result \u001b[38;5;241m=\u001b[39m \u001b[38;5;28;01mNone\u001b[39;00m\n",
      "File \u001b[0;32m/nfs/turbo/justincj-turbo/chrenx/anaconda/envs/soccernet/lib/python3.10/site-packages/ultralytics/nn/modules/block.py:231\u001b[0m, in \u001b[0;36mC2f.forward\u001b[0;34m(self, x)\u001b[0m\n\u001b[1;32m    229\u001b[0m \u001b[38;5;250m\u001b[39m\u001b[38;5;124;03m\"\"\"Forward pass through C2f layer.\"\"\"\u001b[39;00m\n\u001b[1;32m    230\u001b[0m y \u001b[38;5;241m=\u001b[39m \u001b[38;5;28mlist\u001b[39m(\u001b[38;5;28mself\u001b[39m\u001b[38;5;241m.\u001b[39mcv1(x)\u001b[38;5;241m.\u001b[39mchunk(\u001b[38;5;241m2\u001b[39m, \u001b[38;5;241m1\u001b[39m))\n\u001b[0;32m--> 231\u001b[0m \u001b[43my\u001b[49m\u001b[38;5;241;43m.\u001b[39;49m\u001b[43mextend\u001b[49m\u001b[43m(\u001b[49m\u001b[43mm\u001b[49m\u001b[43m(\u001b[49m\u001b[43my\u001b[49m\u001b[43m[\u001b[49m\u001b[38;5;241;43m-\u001b[39;49m\u001b[38;5;241;43m1\u001b[39;49m\u001b[43m]\u001b[49m\u001b[43m)\u001b[49m\u001b[43m \u001b[49m\u001b[38;5;28;43;01mfor\u001b[39;49;00m\u001b[43m \u001b[49m\u001b[43mm\u001b[49m\u001b[43m \u001b[49m\u001b[38;5;129;43;01min\u001b[39;49;00m\u001b[43m \u001b[49m\u001b[38;5;28;43mself\u001b[39;49m\u001b[38;5;241;43m.\u001b[39;49m\u001b[43mm\u001b[49m\u001b[43m)\u001b[49m\n\u001b[1;32m    232\u001b[0m \u001b[38;5;28;01mreturn\u001b[39;00m \u001b[38;5;28mself\u001b[39m\u001b[38;5;241m.\u001b[39mcv2(torch\u001b[38;5;241m.\u001b[39mcat(y, \u001b[38;5;241m1\u001b[39m))\n",
      "File \u001b[0;32m/nfs/turbo/justincj-turbo/chrenx/anaconda/envs/soccernet/lib/python3.10/site-packages/ultralytics/nn/modules/block.py:231\u001b[0m, in \u001b[0;36m<genexpr>\u001b[0;34m(.0)\u001b[0m\n\u001b[1;32m    229\u001b[0m \u001b[38;5;250m\u001b[39m\u001b[38;5;124;03m\"\"\"Forward pass through C2f layer.\"\"\"\u001b[39;00m\n\u001b[1;32m    230\u001b[0m y \u001b[38;5;241m=\u001b[39m \u001b[38;5;28mlist\u001b[39m(\u001b[38;5;28mself\u001b[39m\u001b[38;5;241m.\u001b[39mcv1(x)\u001b[38;5;241m.\u001b[39mchunk(\u001b[38;5;241m2\u001b[39m, \u001b[38;5;241m1\u001b[39m))\n\u001b[0;32m--> 231\u001b[0m y\u001b[38;5;241m.\u001b[39mextend(\u001b[43mm\u001b[49m\u001b[43m(\u001b[49m\u001b[43my\u001b[49m\u001b[43m[\u001b[49m\u001b[38;5;241;43m-\u001b[39;49m\u001b[38;5;241;43m1\u001b[39;49m\u001b[43m]\u001b[49m\u001b[43m)\u001b[49m \u001b[38;5;28;01mfor\u001b[39;00m m \u001b[38;5;129;01min\u001b[39;00m \u001b[38;5;28mself\u001b[39m\u001b[38;5;241m.\u001b[39mm)\n\u001b[1;32m    232\u001b[0m \u001b[38;5;28;01mreturn\u001b[39;00m \u001b[38;5;28mself\u001b[39m\u001b[38;5;241m.\u001b[39mcv2(torch\u001b[38;5;241m.\u001b[39mcat(y, \u001b[38;5;241m1\u001b[39m))\n",
      "File \u001b[0;32m/nfs/turbo/justincj-turbo/chrenx/anaconda/envs/soccernet/lib/python3.10/site-packages/torch/nn/modules/module.py:1511\u001b[0m, in \u001b[0;36mModule._wrapped_call_impl\u001b[0;34m(self, *args, **kwargs)\u001b[0m\n\u001b[1;32m   1509\u001b[0m     \u001b[38;5;28;01mreturn\u001b[39;00m \u001b[38;5;28mself\u001b[39m\u001b[38;5;241m.\u001b[39m_compiled_call_impl(\u001b[38;5;241m*\u001b[39margs, \u001b[38;5;241m*\u001b[39m\u001b[38;5;241m*\u001b[39mkwargs)  \u001b[38;5;66;03m# type: ignore[misc]\u001b[39;00m\n\u001b[1;32m   1510\u001b[0m \u001b[38;5;28;01melse\u001b[39;00m:\n\u001b[0;32m-> 1511\u001b[0m     \u001b[38;5;28;01mreturn\u001b[39;00m \u001b[38;5;28;43mself\u001b[39;49m\u001b[38;5;241;43m.\u001b[39;49m\u001b[43m_call_impl\u001b[49m\u001b[43m(\u001b[49m\u001b[38;5;241;43m*\u001b[39;49m\u001b[43margs\u001b[49m\u001b[43m,\u001b[49m\u001b[43m \u001b[49m\u001b[38;5;241;43m*\u001b[39;49m\u001b[38;5;241;43m*\u001b[39;49m\u001b[43mkwargs\u001b[49m\u001b[43m)\u001b[49m\n",
      "File \u001b[0;32m/nfs/turbo/justincj-turbo/chrenx/anaconda/envs/soccernet/lib/python3.10/site-packages/torch/nn/modules/module.py:1520\u001b[0m, in \u001b[0;36mModule._call_impl\u001b[0;34m(self, *args, **kwargs)\u001b[0m\n\u001b[1;32m   1515\u001b[0m \u001b[38;5;66;03m# If we don't have any hooks, we want to skip the rest of the logic in\u001b[39;00m\n\u001b[1;32m   1516\u001b[0m \u001b[38;5;66;03m# this function, and just call forward.\u001b[39;00m\n\u001b[1;32m   1517\u001b[0m \u001b[38;5;28;01mif\u001b[39;00m \u001b[38;5;129;01mnot\u001b[39;00m (\u001b[38;5;28mself\u001b[39m\u001b[38;5;241m.\u001b[39m_backward_hooks \u001b[38;5;129;01mor\u001b[39;00m \u001b[38;5;28mself\u001b[39m\u001b[38;5;241m.\u001b[39m_backward_pre_hooks \u001b[38;5;129;01mor\u001b[39;00m \u001b[38;5;28mself\u001b[39m\u001b[38;5;241m.\u001b[39m_forward_hooks \u001b[38;5;129;01mor\u001b[39;00m \u001b[38;5;28mself\u001b[39m\u001b[38;5;241m.\u001b[39m_forward_pre_hooks\n\u001b[1;32m   1518\u001b[0m         \u001b[38;5;129;01mor\u001b[39;00m _global_backward_pre_hooks \u001b[38;5;129;01mor\u001b[39;00m _global_backward_hooks\n\u001b[1;32m   1519\u001b[0m         \u001b[38;5;129;01mor\u001b[39;00m _global_forward_hooks \u001b[38;5;129;01mor\u001b[39;00m _global_forward_pre_hooks):\n\u001b[0;32m-> 1520\u001b[0m     \u001b[38;5;28;01mreturn\u001b[39;00m \u001b[43mforward_call\u001b[49m\u001b[43m(\u001b[49m\u001b[38;5;241;43m*\u001b[39;49m\u001b[43margs\u001b[49m\u001b[43m,\u001b[49m\u001b[43m \u001b[49m\u001b[38;5;241;43m*\u001b[39;49m\u001b[38;5;241;43m*\u001b[39;49m\u001b[43mkwargs\u001b[49m\u001b[43m)\u001b[49m\n\u001b[1;32m   1522\u001b[0m \u001b[38;5;28;01mtry\u001b[39;00m:\n\u001b[1;32m   1523\u001b[0m     result \u001b[38;5;241m=\u001b[39m \u001b[38;5;28;01mNone\u001b[39;00m\n",
      "\u001b[0;31mKeyboardInterrupt\u001b[0m: "
     ]
    }
   ],
   "source": [
    "from predict_soccernet import process_data\n",
    "\n",
    "process_data(model, args)\n",
    "\n",
    "\n"
   ]
  },
  {
   "cell_type": "code",
   "execution_count": 5,
   "metadata": {},
   "outputs": [
    {
     "name": "stdout",
     "output_type": "stream",
     "text": [
      "Results saved to \u001b[1mruns/obb/predict6\u001b[0m\n"
     ]
    }
   ],
   "source": [
    "res = model('data/jersey-2023/train/images/2/2_1.jpg', verbose=False, \n",
    "            save=True, conf=0.1)"
   ]
  },
  {
   "cell_type": "code",
   "execution_count": 8,
   "metadata": {},
   "outputs": [
    {
     "data": {
      "text/plain": [
       "(ultralytics.engine.results.OBB object with attributes:\n",
       " \n",
       " cls: tensor([2., 7.])\n",
       " conf: tensor([0.9219, 0.9127])\n",
       " data: tensor([[18.2909, 41.4200, 18.9908, 11.3147,  1.5712,  0.9219,  2.0000],\n",
       "         [27.3356, 41.3910, 19.9120, 11.6790,  1.5760,  0.9127,  7.0000]])\n",
       " id: None\n",
       " is_track: False\n",
       " orig_shape: (133, 53)\n",
       " shape: torch.Size([2, 7])\n",
       " xywhr: tensor([[18.2909, 41.4200, 18.9908, 11.3147,  1.5712],\n",
       "         [27.3356, 41.3910, 19.9120, 11.6790,  1.5760]])\n",
       " xyxy: tensor([[12.6302, 31.9225, 23.9517, 50.9174],\n",
       "         [21.4442, 31.4047, 33.2270, 51.3773]])\n",
       " xyxyxyxy: tensor([[[12.6302, 50.9134],\n",
       "          [23.9450, 50.9174],\n",
       "          [23.9517, 31.9265],\n",
       "          [12.6369, 31.9225]],\n",
       " \n",
       "         [[21.4442, 51.3164],\n",
       "          [33.1230, 51.3773],\n",
       "          [33.2270, 31.4656],\n",
       "          [21.5482, 31.4047]]])\n",
       " xyxyxyxyn: tensor([[[0.2383, 0.3828],\n",
       "          [0.4518, 0.3828],\n",
       "          [0.4519, 0.2400],\n",
       "          [0.2384, 0.2400]],\n",
       " \n",
       "         [[0.4046, 0.3858],\n",
       "          [0.6250, 0.3863],\n",
       "          [0.6269, 0.2366],\n",
       "          [0.4066, 0.2361]]]),\n",
       " 1,\n",
       " torch.Size([2, 4, 2]))"
      ]
     },
     "execution_count": 8,
     "metadata": {},
     "output_type": "execute_result"
    }
   ],
   "source": [
    "res[0].obb, len(res), res[0].obb.xyxyxyxyn.shape"
   ]
  },
  {
   "cell_type": "code",
   "execution_count": 45,
   "metadata": {},
   "outputs": [
    {
     "data": {
      "text/plain": [
       "ultralytics.engine.results.OBB object with attributes:\n",
       "\n",
       "cls: tensor([0., 1.])\n",
       "conf: tensor([0.8917, 0.8237])\n",
       "data: tensor([[17.8521, 39.9711, 15.9837,  8.3684,  1.5732,  0.8917,  0.0000],\n",
       "        [12.1174, 39.4163, 15.8533,  7.6543,  1.5707,  0.8237,  1.0000]])\n",
       "id: None\n",
       "is_track: False\n",
       "orig_shape: (122, 34)\n",
       "shape: torch.Size([2, 7])\n",
       "xywhr: tensor([[17.8521, 39.9711, 15.9837,  8.3684,  1.5732],\n",
       "        [12.1174, 39.4163, 15.8533,  7.6543,  1.5707]])\n",
       "xyxy: tensor([[13.6484, 31.9691, 22.0558, 47.9731],\n",
       "        [ 8.2898, 31.4894, 15.9450, 47.3432]])\n",
       "xyxyxyxy: tensor([[[13.6484, 47.9527],\n",
       "         [22.0168, 47.9731],\n",
       "         [22.0558, 31.9895],\n",
       "         [13.6874, 31.9691]],\n",
       "\n",
       "        [[ 8.2907, 47.3432],\n",
       "         [15.9450, 47.3427],\n",
       "         [15.9441, 31.4894],\n",
       "         [ 8.2898, 31.4899]]])\n",
       "xyxyxyxyn: tensor([[[0.4014, 0.3931],\n",
       "         [0.6476, 0.3932],\n",
       "         [0.6487, 0.2622],\n",
       "         [0.4026, 0.2620]],\n",
       "\n",
       "        [[0.2438, 0.3881],\n",
       "         [0.4690, 0.3881],\n",
       "         [0.4689, 0.2581],\n",
       "         [0.2438, 0.2581]]])"
      ]
     },
     "execution_count": 45,
     "metadata": {},
     "output_type": "execute_result"
    }
   ],
   "source": [
    "x = torch.Tensor([p[0] for p in res[0].obb.xyxyxyxyn[0,:]])\n",
    "y = torch.Tensor([p[1] for p in res[0].obb.xyxyxyxyn[0,:]])\n",
    "centroid = ((torch.sum(x) / 4).item(), \n",
    "            (torch.sum(y) / 4).item())\n",
    "centroid"
   ]
  },
  {
   "cell_type": "code",
   "execution_count": 10,
   "metadata": {},
   "outputs": [
    {
     "data": {
      "text/plain": [
       "'/home/chrenx/eecs545-sn-jersey'"
      ]
     },
     "execution_count": 10,
     "metadata": {},
     "output_type": "execute_result"
    }
   ],
   "source": [
    "\n",
    "%load_ext autoreload\n",
    "%autoreload 2\n",
    "\n",
    "from filter_soccernet import filter_data\n",
    "from argparse import ArgumentParser\n",
    "from ultralytics import YOLO\n",
    "\n",
    "\n",
    "parser = ArgumentParser()\n",
    "parser.add_argument(\"--conf\", type=float, default=0.55)\n",
    "parser.add_argument(\"--mode\", type=str, default='train')\n",
    "parser.add_argument(\"--challenge\", action=\"store_true\")\n",
    "parser.add_argument(\"--threshold\", type=int, default=5)\n",
    "parser.add_argument(\"--model_path\", type=str, default='yolo-bb/best-03-25.pt')\n",
    "parser.add_argument(\"--start_idx\", type=int, default=156)\n",
    "# args = parser.parse_args()\n",
    "args, unknown = parser.parse_known_args()\n",
    "args.clean_dir = f'data/jersey-2023-cleaned/{args.mode}/images'\n",
    "args.input_path = f'data/jersey-2023/{args.mode}'\n",
    "\n",
    "model = YOLO(args.model_path)\n",
    "\n",
    "%pwd"
   ]
  },
  {
   "cell_type": "code",
   "execution_count": 10,
   "metadata": {},
   "outputs": [],
   "source": [
    "from filter_soccernet import filter_data"
   ]
  },
  {
   "cell_type": "markdown",
   "metadata": {},
   "source": [
    "# Cropped Image"
   ]
  },
  {
   "cell_type": "code",
   "execution_count": 1,
   "metadata": {},
   "outputs": [],
   "source": [
    "%load_ext autoreload\n",
    "%autoreload 2"
   ]
  },
  {
   "cell_type": "code",
   "execution_count": 2,
   "metadata": {},
   "outputs": [],
   "source": [
    "from argparse import ArgumentParser\n",
    "from ultralytics import YOLO\n",
    "\n",
    "parser = ArgumentParser()\n",
    "parser.add_argument(\"--conf\", type=float, default=0.55)\n",
    "parser.add_argument(\"--mode\", type=str, default='train')\n",
    "parser.add_argument(\"--start_idx\", type=int, default=0)\n",
    "parser.add_argument(\"--threshold\", type=int, default=5)\n",
    "parser.add_argument(\"--model_path\", type=str, default='yolo-bb/best-03-25.pt')\n",
    "# args = parser.parse_args()\n",
    "args, unknown = parser.parse_known_args()\n",
    "args.clean_dir = f'data/jersey-2023-cleaned-crop/{args.mode}/images'\n",
    "args.input_path = f'data/jersey-2023-cleaned/{args.mode}'\n",
    "\n",
    "model = YOLO(args.model_path)             "
   ]
  },
  {
   "cell_type": "code",
   "execution_count": 5,
   "metadata": {},
   "outputs": [
    {
     "name": "stderr",
     "output_type": "stream",
     "text": [
      "  0%|          | 0/650 [00:00<?, ?it/s]"
     ]
    },
    {
     "name": "stdout",
     "output_type": "stream",
     "text": [
      "(176, 125, 3)\n",
      "176\n"
     ]
    },
    {
     "name": "stderr",
     "output_type": "stream",
     "text": [
      "  0%|          | 0/650 [00:00<?, ?it/s]"
     ]
    },
    {
     "name": "stdout",
     "output_type": "stream",
     "text": [
      "(10, 10, 3)\n"
     ]
    },
    {
     "name": "stderr",
     "output_type": "stream",
     "text": [
      "\n"
     ]
    }
   ],
   "source": [
    "from filter_cropped_soccernet import crop_data\n",
    "crop_data(model, args)\n"
   ]
  },
  {
   "cell_type": "code",
   "execution_count": 27,
   "metadata": {},
   "outputs": [
    {
     "name": "stderr",
     "output_type": "stream",
     "text": [
      "100%|██████████| 16581/16581 [00:13<00:00, 1253.14it/s]"
     ]
    },
    {
     "name": "stdout",
     "output_type": "stream",
     "text": [
      "6\n",
      "yolo-bb/datasets/train/labels/cga_cacique_out_1_3_jpg.rf.6078e3faf1b97bde0597f06937e950eb.txt\n"
     ]
    },
    {
     "name": "stderr",
     "output_type": "stream",
     "text": [
      "\n"
     ]
    }
   ],
   "source": [
    "import os, cv2, math\n",
    "from tqdm import tqdm\n",
    "from argparse import ArgumentParser\n",
    "\n",
    "parser = ArgumentParser()\n",
    "\n",
    "args, unknown = parser.parse_known_args()\n",
    "\n",
    "args.mode = \"train\"\n",
    "\n",
    "img_dir = f\"yolo-bb/datasets/{args.mode}/images\"\n",
    "label_dir = f\"yolo-bb/datasets/{args.mode}/labels\"\n",
    "\n",
    "dest_dir = f\"yolo-cls/datasets/{args.mode}\"\n",
    "\n",
    "# poland_italy_raw_out_25_9_jpg.rf.35f517bc41c636876db1d451971b1d6c\n",
    "\n",
    "max_line = 0\n",
    "max_path = \"\"\n",
    "\n",
    "for img_name in tqdm(os.listdir(img_dir)):\n",
    "    if img_name[0] == '.':\n",
    "        continue\n",
    "\n",
    "    label_name = img_name.replace('.jpg', '.txt')\n",
    "\n",
    "    f = open(os.path.join(label_dir, label_name))\n",
    "\n",
    "    count_line = 0\n",
    "    while True:\n",
    "        content = f.readline()\n",
    "        if not content:\n",
    "            break\n",
    "        count_line += 1\n",
    "    f.close()\n",
    "    if count_line > max_line:\n",
    "        max_line = count_line\n",
    "        max_path = os.path.join(label_dir, label_name)\n",
    "\n",
    "print(max_line)\n",
    "print(max_path)\n"
   ]
  },
  {
   "cell_type": "code",
   "execution_count": 42,
   "metadata": {},
   "outputs": [
    {
     "data": {
      "text/plain": [
       "(2, 4, 5)"
      ]
     },
     "execution_count": 42,
     "metadata": {},
     "output_type": "execute_result"
    }
   ],
   "source": [
    "def a():\n",
    "    return [2, 4, 5]\n",
    "\n",
    "z,x,c = a()\n",
    "z,x,c"
   ]
  },
  {
   "cell_type": "markdown",
   "metadata": {},
   "source": [
    "# Clean Challenege Submission"
   ]
  },
  {
   "cell_type": "code",
   "execution_count": 10,
   "metadata": {},
   "outputs": [],
   "source": [
    "import json\n",
    "\n",
    "with open('predict_challenge_0327.json', 'rb') as f:\n",
    "    predict_dict = json.load(f)\n",
    "\n",
    "for key in range(1426):\n",
    "    if str(key) not in predict_dict.keys():\n",
    "        print(key, 'not predicted')\n",
    "        predict_dict[str(key)] = -1\n",
    "\n",
    "sorted_keys = sorted([int(key) for key in predict_dict.keys()])"
   ]
  },
  {
   "cell_type": "code",
   "execution_count": 6,
   "metadata": {},
   "outputs": [],
   "source": [
    "sorted_predict = {}\n",
    "for key in range(1426):\n",
    "    sorted_predict[str(key)] = predict_dict[str(key)]"
   ]
  },
  {
   "cell_type": "code",
   "execution_count": 8,
   "metadata": {},
   "outputs": [],
   "source": [
    "with open('predict_challenge_0330_sorted.json', 'w') as f:\n",
    "    json.dump(sorted_predict, f)"
   ]
  },
  {
   "cell_type": "markdown",
   "metadata": {},
   "source": [
    "# Test filter accuracy for clean folder (whether filter out those -1 folders)"
   ]
  },
  {
   "cell_type": "code",
   "execution_count": 27,
   "metadata": {},
   "outputs": [],
   "source": [
    "%pwd\n",
    "import json, os\n",
    "\n",
    "def calculate_accuracy_neg1(mode):\n",
    "    img_folder = f\"data/jersey-2023-cleaned/{mode}/images/\"\n",
    "    with open(f\"data/jersey-2023/{mode}/{mode}_gt.json\", \"rb\") as f:\n",
    "        gt_dict = json.load(f)\n",
    "    total_num = len(gt_dict.keys())\n",
    "    tracklets_list = os.listdir(img_folder) \n",
    "\n",
    "    # assert total_num == len(tracklets_list), \\\n",
    "    #        f\"gt len {total_num} != {mode} len {len(tracklets_list)}\"\n",
    "    \n",
    "    tracklets_list = sorted([int(names) for names in tracklets_list])\n",
    "    tracklets_list = dict(map(lambda i: (str(i), \"a\"), tracklets_list))\n",
    "\n",
    "    nonneg_recog = 0\n",
    "    clean_neg1 = 0\n",
    "\n",
    "    gt_neg1 = 0\n",
    "\n",
    "    for key in range(total_num):\n",
    "        if gt_dict[str(key)] == -1:\n",
    "            gt_neg1 += 1\n",
    "            if str(key) not in tracklets_list:\n",
    "                clean_neg1 += 1\n",
    "        else:\n",
    "            if str(key) in tracklets_list:\n",
    "                nonneg_recog += 1\n",
    "\n",
    "    total_non_neg = total_num - gt_neg1\n",
    "    print(f\"gt_neg1: {gt_neg1}\")\n",
    "    print(f\"clean_neg1: {clean_neg1}\")\n",
    "    print(f\"nonneg_recog: {nonneg_recog}\")\n",
    "    neg_acc = \"{:.2f}\".format(clean_neg1 / gt_neg1 * 100)\n",
    "    print(f\"-1 accuracy: {neg_acc}\")\n",
    "    print(f\"non -1 folders: {total_non_neg}\")\n",
    "    recog_acc = \"{:.2f}\".format(nonneg_recog / total_non_neg * 100)\n",
    "    print(f\"recog accuracy: {recog_acc}\")\n",
    "        "
   ]
  },
  {
   "cell_type": "code",
   "execution_count": 29,
   "metadata": {},
   "outputs": [
    {
     "name": "stdout",
     "output_type": "stream",
     "text": [
      "gt_neg1: 403\n",
      "clean_neg1: 332\n",
      "nonneg_recog: 579\n",
      "-1 accuracy: 82.38\n",
      "non -1 folders: 1024\n",
      "recog accuracy: 56.54\n"
     ]
    }
   ],
   "source": [
    "calculate_accuracy_neg1('train')"
   ]
  },
  {
   "cell_type": "markdown",
   "metadata": {},
   "source": [
    "# Double Mnist model testing..."
   ]
  },
  {
   "cell_type": "code",
   "execution_count": 1,
   "metadata": {},
   "outputs": [],
   "source": [
    "%load_ext autoreload\n",
    "%autoreload 2"
   ]
  },
  {
   "cell_type": "code",
   "execution_count": 105,
   "metadata": {},
   "outputs": [
    {
     "data": {
      "text/plain": [
       "'cpu'"
      ]
     },
     "execution_count": 105,
     "metadata": {},
     "output_type": "execute_result"
    }
   ],
   "source": [
    "from mnist.mnist_network import MnistNet\n",
    "import torch\n",
    "\n",
    "model_ckpt_path = \"mnist/ckpt/best_double_mnist_20.pth\"\n",
    "device = \"gpu\" if torch.cuda.is_available() else \"cpu\" \n",
    "device"
   ]
  },
  {
   "cell_type": "code",
   "execution_count": 106,
   "metadata": {},
   "outputs": [
    {
     "data": {
      "text/plain": [
       "MnistNet(\n",
       "  (conv11): Conv2d(1, 16, kernel_size=(3, 3), stride=(1, 1))\n",
       "  (conv12): Conv2d(1, 16, kernel_size=(5, 5), stride=(1, 1))\n",
       "  (conv13): Conv2d(1, 16, kernel_size=(7, 7), stride=(1, 1))\n",
       "  (conv14): Conv2d(1, 16, kernel_size=(9, 9), stride=(1, 1))\n",
       "  (conv21): Conv2d(16, 32, kernel_size=(3, 3), stride=(1, 1))\n",
       "  (conv22): Conv2d(16, 32, kernel_size=(5, 5), stride=(1, 1))\n",
       "  (conv23): Conv2d(16, 32, kernel_size=(7, 7), stride=(1, 1))\n",
       "  (conv24): Conv2d(16, 32, kernel_size=(9, 9), stride=(1, 1))\n",
       "  (conv31): Conv2d(32, 64, kernel_size=(3, 3), stride=(1, 1))\n",
       "  (conv32): Conv2d(32, 64, kernel_size=(5, 5), stride=(1, 1))\n",
       "  (conv33): Conv2d(32, 64, kernel_size=(7, 7), stride=(1, 1))\n",
       "  (conv34): Conv2d(32, 64, kernel_size=(9, 9), stride=(1, 1))\n",
       "  (maxpool): MaxPool2d(kernel_size=2, stride=2, padding=0, dilation=1, ceil_mode=False)\n",
       "  (dropout1): Dropout(p=0.25, inplace=False)\n",
       "  (dropout2): Dropout(p=0.5, inplace=False)\n",
       "  (fc11): Linear(in_features=53824, out_features=256, bias=True)\n",
       "  (fc12): Linear(in_features=43264, out_features=256, bias=True)\n",
       "  (fc13): Linear(in_features=33856, out_features=256, bias=True)\n",
       "  (fc14): Linear(in_features=25600, out_features=256, bias=True)\n",
       "  (fc21): Linear(in_features=256, out_features=128, bias=True)\n",
       "  (fc22): Linear(in_features=256, out_features=128, bias=True)\n",
       "  (fc23): Linear(in_features=256, out_features=128, bias=True)\n",
       "  (fc24): Linear(in_features=256, out_features=128, bias=True)\n",
       "  (fc33): Linear(in_features=512, out_features=99, bias=True)\n",
       ")"
      ]
     },
     "execution_count": 106,
     "metadata": {},
     "output_type": "execute_result"
    }
   ],
   "source": [
    "model = MnistNet()\n",
    "ckpt = torch.load(model_ckpt_path, map_location=torch.device(device))\n",
    "model.load_state_dict(ckpt['model_state_dict'])\n",
    "model.to(device)\n"
   ]
  },
  {
   "cell_type": "code",
   "execution_count": 129,
   "metadata": {},
   "outputs": [
    {
     "name": "stdout",
     "output_type": "stream",
     "text": [
      "torch.Size([1, 64, 64]) torch.float32\n"
     ]
    },
    {
     "data": {
      "text/plain": [
       "<matplotlib.image.AxesImage at 0x14fcb0a0d660>"
      ]
     },
     "execution_count": 129,
     "metadata": {},
     "output_type": "execute_result"
    },
    {
     "data": {
      "image/png": "[encoded data removed]",
      "text/plain": [
       "<Figure size 640x480 with 1 Axes>"
      ]
     },
     "metadata": {},
     "output_type": "display_data"
    }
   ],
   "source": [
    "from torchvision.io import read_image\n",
    "from torchvision import transforms\n",
    "import matplotlib.pyplot as plt\n",
    "import numpy as np\n",
    "\n",
    "img_transforms = transforms.Compose([\n",
    "        transforms.Grayscale(1),  # (1,h,w)\n",
    "        transforms.Resize((64,64)),\n",
    "\n",
    "        transforms.Normalize((0.3150,), (0.2218,)) ,\n",
    "        # transforms.ToPILImage(), # permute w and h  -> (w,h)\n",
    "    ])\n",
    "img_path = \"data/jersey-2023-cleaned-crop/challenge/images/3/3_13.jpg\"\n",
    "# img_path = \"mnist/custom_datasets/test/37/24_37.png\"\n",
    "# img_path = \"mnist/custom_datasets/train/06/4_06.png\"\n",
    "img = read_image(img_path)  # (3, h, w)\n",
    "img = img.float()\n",
    "img = img_transforms(img) # (64,64)\n",
    "print(img.shape, img.dtype)\n",
    "plt.imshow(img.permute(1,2,0), cmap='gray')  # plt read h, w\n",
    "\n",
    "\n"
   ]
  },
  {
   "cell_type": "code",
   "execution_count": 130,
   "metadata": {},
   "outputs": [],
   "source": [
    "output = model(img)"
   ]
  },
  {
   "cell_type": "code",
   "execution_count": 131,
   "metadata": {},
   "outputs": [
    {
     "data": {
      "text/plain": [
       "(tensor([[ -160.7404, -2302.2861,  -810.5717,     0.0000, -1170.6609, -2240.9189,\n",
       "          -1061.4299, -2095.1890,  -879.7993, -1766.3032, -2410.9290, -2653.3025,\n",
       "          -2725.2886, -1585.4907, -2248.5229, -2218.0361, -2201.3950, -1516.0544,\n",
       "          -1524.5986,  -973.5259, -1695.4978, -2120.9897, -1868.3141,  -896.7771,\n",
       "          -1439.8926, -1578.7073, -1577.8987,  -785.5858,  -641.1530,  -474.7394,\n",
       "          -1414.4923, -1719.2859, -1179.8123,  -574.8937,  -813.6467, -1239.5929,\n",
       "           -719.3044,  -645.3015,  -291.6746, -2171.2959, -2624.2493, -2864.2539,\n",
       "          -2766.1040, -2581.0591, -2452.5127, -1840.1152, -2202.4258, -1994.8646,\n",
       "          -1604.2788, -1763.3311, -2335.9968, -2452.8696, -2677.8540, -1604.0736,\n",
       "          -1965.9182, -1869.7167, -2100.2676, -1765.6462, -1547.1036, -2512.9236,\n",
       "          -2675.8823, -3401.4561, -3216.5186, -2357.4998, -2635.5100, -2668.2007,\n",
       "          -2485.3896, -2236.9629, -1857.7906, -1796.4867, -2024.4519, -2568.5876,\n",
       "          -2496.6077, -1545.5374, -1816.3358, -2036.0114, -2146.7920, -1689.3508,\n",
       "          -1557.6995, -1654.7886, -2189.6477, -2400.1538, -2432.9517, -1452.1479,\n",
       "          -1554.3228, -1637.0198, -1671.7021, -1199.5422,  -889.2108, -1831.7352,\n",
       "          -2444.4106, -3494.5076, -3122.7771, -2167.1079, -1963.9608, -2369.5012,\n",
       "          -2485.9766, -2183.6992, -1586.1670]], grad_fn=<LogSoftmaxBackward0>),\n",
       " tensor([3]),\n",
       " torch.Size([1, 99]))"
      ]
     },
     "execution_count": 131,
     "metadata": {},
     "output_type": "execute_result"
    }
   ],
   "source": [
    "output, torch.argmax(output[:,:], dim=1), output.shape"
   ]
  }
 ],
 "metadata": {
  "kernelspec": {
   "display_name": "sn-jersey",
   "language": "python",
   "name": "python3"
  },
  "language_info": {
   "codemirror_mode": {
    "name": "ipython",
    "version": 3
   },
   "file_extension": ".py",
   "mimetype": "text/x-python",
   "name": "python",
   "nbconvert_exporter": "python",
   "pygments_lexer": "ipython3",
   "version": "3.10.0"
  }
 },
 "nbformat": 4,
 "nbformat_minor": 2
}
