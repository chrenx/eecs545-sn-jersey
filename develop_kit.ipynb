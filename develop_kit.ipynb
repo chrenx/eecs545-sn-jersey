{
 "cells": [
  {
   "cell_type": "markdown",
   "metadata": {},
   "source": [
    "### Download data"
   ]
  },
  {
   "cell_type": "code",
   "execution_count": null,
   "metadata": {},
   "outputs": [],
   "source": [
    "!pip install SoccerNet"
   ]
  },
  {
   "cell_type": "code",
   "execution_count": 3,
   "metadata": {},
   "outputs": [
    {
     "name": "stderr",
     "output_type": "stream",
     "text": [
      "Downloading ./data/jersey-2023/train.zip...: : 1.25GiB [01:06, 18.8MiB/s]                         \n",
      "Downloading ./data/jersey-2023/test.zip...: : 1.07GiB [00:57, 18.6MiB/s]                          \n",
      "Downloading ./data/jersey-2023/challenge.zip...: : 1.25GiB [01:08, 18.2MiB/s]                          \n"
     ]
    }
   ],
   "source": [
    "from SoccerNet.Downloader import SoccerNetDownloader as SNdl\n",
    "mySNdl = SNdl(LocalDirectory=\"./data\")\n",
    "mySNdl.downloadDataTask(task=\"jersey-2023\", split=[\"train\",\"test\",\"challenge\"])"
   ]
  },
  {
   "cell_type": "code",
   "execution_count": null,
   "metadata": {},
   "outputs": [],
   "source": []
  }
 ],
 "metadata": {
  "kernelspec": {
   "display_name": "sn-jersey",
   "language": "python",
   "name": "python3"
  },
  "language_info": {
   "codemirror_mode": {
    "name": "ipython",
    "version": 3
   },
   "file_extension": ".py",
   "mimetype": "text/x-python",
   "name": "python",
   "nbconvert_exporter": "python",
   "pygments_lexer": "ipython3",
   "version": "3.10.13"
  }
 },
 "nbformat": 4,
 "nbformat_minor": 2
}
